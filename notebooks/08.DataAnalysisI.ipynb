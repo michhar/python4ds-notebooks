{
 "cells": [
  {
   "cell_type": "markdown",
   "metadata": {},
   "source": [
    "# Data Analysis I Using `pandas`"
   ]
  },
  {
   "cell_type": "markdown",
   "metadata": {},
   "source": [
    "## <img src='https://az712634.vo.msecnd.net/notebooks/python_course/v1/geekcup.png' alt=\"Smiley face\" width=\"42\" height=\"42\" align=\"left\">Learning Objectives\n",
    "---\n",
    "* See some basic options for importing data files\n",
    "* Understand how to manipulate row and column names\n",
    "* Get an idea of how to deal with missing data\n",
    "* Become familiar with slicing data\n",
    "* Become familiar with assignment\n",
    "* See how broadcasting works\n",
    "* Understand more data structure manipulation (adding and removing columns)"
   ]
  },
  {
   "cell_type": "code",
   "execution_count": null,
   "metadata": {
    "collapsed": false
   },
   "outputs": [],
   "source": [
    "import pandas as pd\n",
    "import numpy as np"
   ]
  },
  {
   "cell_type": "markdown",
   "metadata": {},
   "source": [
    "### Data types in `pandas` - you will see through examples how these work\n",
    "* `Series`\n",
    "* `DataFrame`\n",
    "* `Panel` (not covered here)"
   ]
  },
  {
   "cell_type": "markdown",
   "metadata": {},
   "source": [
    "### Input from csv and excel files"
   ]
  },
  {
   "cell_type": "code",
   "execution_count": null,
   "metadata": {
    "collapsed": false
   },
   "outputs": [],
   "source": [
    "# Check current directory for files\n",
    "\n",
    "# Uncomment for linux or OSX\n",
    "#!ls\n",
    "\n",
    "# Uncomment for windows\n",
    "#!dir"
   ]
  },
  {
   "cell_type": "code",
   "execution_count": null,
   "metadata": {
    "collapsed": false
   },
   "outputs": [],
   "source": [
    "# Reading a csv file with the read_csv function\n",
    "\n",
    "import os\n",
    "\n",
    "data = pd.read_csv('https://raw.githubusercontent.com/ogrisel/parallel_ml_tutorial/master/notebooks/titanic_train.csv', \n",
    "                    sep = ',')"
   ]
  },
  {
   "cell_type": "code",
   "execution_count": null,
   "metadata": {
    "collapsed": false
   },
   "outputs": [],
   "source": [
    "# What are the dimensions\n",
    "print(data.shape)\n",
    "\n",
    "# What are the column names\n",
    "print(data.columns)\n",
    "\n",
    "# What do the first few rows look like\n",
    "data.head()"
   ]
  },
  {
   "cell_type": "markdown",
   "metadata": {},
   "source": [
    "To read an excel file, ensure you have the <b>`xlrd`</b> package installed (`pandas` method `read_excel` needs it).  For Windows binaries go [here](http://www.lfd.uci.edu/~gohlke/pythonlibs/).  If you have a conda install, just `conda install xlrd`.\n",
    "\n",
    "With `pandas` and `xlrd` one can read an excel file by simply:\n",
    "\n",
    "```python\n",
    "# Reading from an excel file with read_excel\n",
    "data = pd.read_excel(os.path.join('data', 'GDS4517.xls'))\n",
    "```"
   ]
  },
  {
   "cell_type": "markdown",
   "metadata": {},
   "source": [
    "### The idea behind `pandas`\n",
    "* The most common data structure in `pandas` is the **DataFrame** much like the analogous data.frame in R.\n",
    "\n",
    "```python\n",
    "# Some toy data\n",
    "a = np.arange(10)\n",
    "b = np.sin(a)\n",
    "\n",
    "# Place it into a dictionary\n",
    "array_dict = {'a': a, 'b': b}\n",
    "\n",
    "# Initialize a dataframe with toy data\n",
    "df = pd.DataFrame(array_dict)\n",
    "```"
   ]
  },
  {
   "cell_type": "markdown",
   "metadata": {},
   "source": [
    "* `pandas` provides higher level data manipulation tools than `numpy`, but is built on top of `numpy`.  Given the richness of capabilities with `pandas`, `pandas` operations are often slower than a similar operation with a `numpy` array.  However, it is not hard to convert from one to the other.\n",
    "* The basic unit of the DataFrame in `pandas` is of the `Series` type."
   ]
  },
  {
   "cell_type": "code",
   "execution_count": null,
   "metadata": {
    "collapsed": false
   },
   "outputs": [],
   "source": [
    "# 2D numpy array\n",
    "np_array = np.random.randint(1, 10, size = 16).reshape(4, 4)\n",
    "\n",
    "# Convert to pd DataFrame\n",
    "df = pd.DataFrame(np_array)\n",
    "\n",
    "df"
   ]
  },
  {
   "cell_type": "code",
   "execution_count": null,
   "metadata": {
    "collapsed": false
   },
   "outputs": [],
   "source": [
    "# pandas DataFrame\n",
    "df = pd.DataFrame(data = pd.Series(range(12)).reshape(3, 4), columns = list('abcd'))\n",
    "\n",
    "df"
   ]
  },
  {
   "cell_type": "code",
   "execution_count": null,
   "metadata": {
    "collapsed": false
   },
   "outputs": [],
   "source": [
    "# Convert to ndarray (TWO ways)\n",
    "\n",
    "# first way\n",
    "df.as_matrix() # not a matrix, however, just numpy array"
   ]
  },
  {
   "cell_type": "code",
   "execution_count": null,
   "metadata": {
    "collapsed": false
   },
   "outputs": [],
   "source": [
    "# convert to ndarray\n",
    "\n",
    "# Second way\n",
    "df.values"
   ]
  },
  {
   "cell_type": "markdown",
   "metadata": {},
   "source": [
    "Hey!  Did you notice how in the jupyter notebook the `pandas` DataFrame is rendered nicely?  That's a reason some people will convert to DataFrames in jupyter notebooks...it makes it easier to see the data."
   ]
  },
  {
   "cell_type": "markdown",
   "metadata": {},
   "source": [
    "### Renaming row and column names"
   ]
  },
  {
   "cell_type": "markdown",
   "metadata": {},
   "source": [
    "Initialize a `pandas` dataframe with toy data:"
   ]
  },
  {
   "cell_type": "code",
   "execution_count": null,
   "metadata": {
    "collapsed": false
   },
   "outputs": [],
   "source": [
    "# Note here we are initializing a dataframe with a dict of 1D ndarrays (numpy arrays)\n",
    "df = pd.DataFrame({'data1' : np.random.randn(5),\n",
    "                   'data2' : np.random.randn(5)})\n",
    "\n",
    "df"
   ]
  },
  {
   "cell_type": "markdown",
   "metadata": {},
   "source": [
    "Rename columns (with <b>`columns`</b> keyword) and rows (with <b>`index`</b> keyword) inplace (note: we could have specified `columns` when initializing the DataFrame):"
   ]
  },
  {
   "cell_type": "code",
   "execution_count": null,
   "metadata": {
    "collapsed": false
   },
   "outputs": [],
   "source": [
    "df.rename(index = {0: 'a', \n",
    "                   1: 'b',\n",
    "                   2: 'c',\n",
    "                   3: 'd',\n",
    "                   4: 'e'}, \n",
    "          columns = {'data1': 'one', 'data2': 'two'}, inplace = True)\n",
    "df"
   ]
  },
  {
   "cell_type": "markdown",
   "metadata": {},
   "source": [
    "### Reordering of things"
   ]
  },
  {
   "cell_type": "markdown",
   "metadata": {},
   "source": [
    "Using the toy dataframe from above, we shall now reorder the <b>rows</b>:"
   ]
  },
  {
   "cell_type": "code",
   "execution_count": null,
   "metadata": {
    "collapsed": false
   },
   "outputs": [],
   "source": [
    "df2 = pd.DataFrame(df, index = ['b', 'c', 'd', 'a', 'e'])\n",
    "df2"
   ]
  },
  {
   "cell_type": "code",
   "execution_count": null,
   "metadata": {
    "collapsed": false
   },
   "outputs": [],
   "source": [
    "# How would you modify the above cell to do the same reordering,\n",
    "#   but at the same time, remove one, say the one labeled 'e'\n",
    "\n",
    "# Write your code here...\n"
   ]
  },
  {
   "cell_type": "markdown",
   "metadata": {},
   "source": [
    "There's another way (same result, but does not modify object, `df`, inplace):"
   ]
  },
  {
   "cell_type": "code",
   "execution_count": null,
   "metadata": {
    "collapsed": false
   },
   "outputs": [],
   "source": [
    "# This does NOT change df\n",
    "\n",
    "df.reindex(['b', 'c', 'd', 'a', 'e']) # compare to df2 above"
   ]
  },
  {
   "cell_type": "code",
   "execution_count": null,
   "metadata": {
    "collapsed": true
   },
   "outputs": [],
   "source": [
    "# How would you modify the above cell (using reindex still) \n",
    "#   to not only reorder rows, but remove one from the view, \n",
    "#   say the one labeled 'e'\n",
    "\n",
    "# Write your code here...\n"
   ]
  },
  {
   "cell_type": "markdown",
   "metadata": {},
   "source": [
    "A quick trick to switch around columns"
   ]
  },
  {
   "cell_type": "code",
   "execution_count": null,
   "metadata": {
    "collapsed": false
   },
   "outputs": [],
   "source": [
    "# Quick inplace transformation\n",
    "df[['one', 'two']] = df[['two', 'one']]\n",
    "df"
   ]
  },
  {
   "cell_type": "markdown",
   "metadata": {},
   "source": [
    "### Introducing the `Series` object\n",
    "\n",
    "<b>Properties of the `Series` object</b>\n",
    "* alignment of data and label are intrinsic\n",
    "* is a 1D array (actually just a `numpy` array with and index)\n",
    "* slicing also slices the index\n",
    "* can be initialized with a scalar, a dict or an ndarray (aka numpy array)\n",
    "* if initialized with numpy array and an index is given, length must match data\n",
    "* numpy functions can take a Series as input\n",
    "\n",
    "<b>Examples of initializing a `Series`:</b>"
   ]
  },
  {
   "cell_type": "code",
   "execution_count": null,
   "metadata": {
    "collapsed": false
   },
   "outputs": [],
   "source": [
    "# With a scalar only\n",
    "a = pd.Series(5)\n",
    "print('a:\\n', a)\n",
    "\n",
    "# With a scalar and index\n",
    "b = pd.Series(5, index = ['Z'])\n",
    "print('b:\\n', b)\n",
    "\n",
    "# With a scalar and index\n",
    "c = pd.Series(5, index = ['X', 'Y', 'Z'])\n",
    "print('c:\\n', c)\n",
    "\n",
    "# With a dict\n",
    "d = pd.Series({'A': 1, 'B': 2})\n",
    "print('d:\\n', d)\n",
    "\n",
    "# dict.  if index given, labels must match, but can add more\n",
    "e = pd.Series({'A': 1, 'B': 2}, index = ['A', 'B', 'C'])\n",
    "print('e:\\n', e)\n",
    "\n",
    "# With an ndarray\n",
    "f = pd.Series(np.random.randn(5))\n",
    "print('f:\\n', f)\n",
    "\n",
    "# With an ndarray and index (lengths must match)\n",
    "g = pd.Series(np.random.randn(5), index = ['M', 'N', 'O', 'P', 'Q'])\n",
    "print('g:\\n', g)"
   ]
  },
  {
   "cell_type": "markdown",
   "metadata": {
    "collapsed": true
   },
   "source": [
    "### Missing data"
   ]
  },
  {
   "cell_type": "markdown",
   "metadata": {},
   "source": [
    "Initialize `pandas` dataframe with some <b>`Series`</b> objects:"
   ]
  },
  {
   "cell_type": "code",
   "execution_count": null,
   "metadata": {
    "collapsed": false
   },
   "outputs": [],
   "source": [
    "# Initialize a dataframe with a dict of pandas Series\n",
    "\n",
    "df = pd.DataFrame({'one' : pd.Series(np.random.randn(3), index=['a', 'b', 'c']),\n",
    "    'two' : pd.Series(np.random.randn(4), index=['a', 'b', 'c', 'd']),\n",
    "    'three' : pd.Series(np.random.randn(3), index=['b', 'c', 'd'])})\n",
    "\n",
    "# Notice the introduction of NaNs (why did this happen?)\n",
    "\n",
    "df"
   ]
  },
  {
   "cell_type": "code",
   "execution_count": null,
   "metadata": {
    "collapsed": false
   },
   "outputs": [],
   "source": [
    "# Where are the NaNs?\n",
    "pd.isnull(df)"
   ]
  },
  {
   "cell_type": "code",
   "execution_count": null,
   "metadata": {
    "collapsed": false
   },
   "outputs": [],
   "source": [
    "# Replace NaN with a scalar\n",
    "df2 = df.fillna(0)\n",
    "df2"
   ]
  },
  {
   "cell_type": "code",
   "execution_count": null,
   "metadata": {
    "collapsed": false
   },
   "outputs": [],
   "source": [
    "# Drop any row with NA/NaN\n",
    "# how = 'all' will drop only rows with ALL nan\n",
    "df2 = df.dropna(how = 'any')\n",
    "df2"
   ]
  },
  {
   "cell_type": "code",
   "execution_count": null,
   "metadata": {
    "collapsed": false
   },
   "outputs": [],
   "source": [
    "# Only look in column 'one' for NaNs and drop a row if any\n",
    "df2 = df.dropna(subset = ['one'])\n",
    "df2"
   ]
  },
  {
   "cell_type": "markdown",
   "metadata": {},
   "source": [
    "EXERCISE 1:  \n",
    "```python \n",
    "alldates = pd.date_range('09-01-2013', '09-10-2013')\n",
    "\n",
    "s = pd.Series({'09-02-2013': 2,\n",
    "               '09-03-2013': 10,\n",
    "               '09-06-2013': 5,\n",
    "               '09-07-2013': 1})\n",
    "```\n",
    "\n",
    "* expand to include \"missing dates\" in `alldates` but not `s`\n",
    "* set missing dates to 0"
   ]
  },
  {
   "cell_type": "code",
   "execution_count": null,
   "metadata": {
    "collapsed": true
   },
   "outputs": [],
   "source": [
    "# Code up your solution here..."
   ]
  },
  {
   "cell_type": "markdown",
   "metadata": {},
   "source": [
    "### Slicing"
   ]
  },
  {
   "cell_type": "code",
   "execution_count": null,
   "metadata": {
    "collapsed": false
   },
   "outputs": [],
   "source": [
    "# Use pandas to create a range of dates\n",
    "dates = pd.date_range('19740101', periods=6)\n",
    "df = pd.DataFrame(np.random.randn(6, 4), index = dates, columns = list('ABCD'))\n",
    "df"
   ]
  },
  {
   "cell_type": "code",
   "execution_count": null,
   "metadata": {
    "collapsed": false
   },
   "outputs": [],
   "source": [
    "# Slice out rows 2-4\n",
    "df[1:4]"
   ]
  },
  {
   "cell_type": "code",
   "execution_count": null,
   "metadata": {
    "collapsed": false
   },
   "outputs": [],
   "source": [
    "# Slice using index range (aka labels)\n",
    "df['19740102':'19740104']"
   ]
  },
  {
   "cell_type": "code",
   "execution_count": null,
   "metadata": {
    "collapsed": false
   },
   "outputs": [],
   "source": [
    "# Slice with names using loc\n",
    "df.loc[:, ['B', 'D']] # notice lack of parentheses here!"
   ]
  },
  {
   "cell_type": "code",
   "execution_count": null,
   "metadata": {
    "collapsed": false
   },
   "outputs": [],
   "source": [
    "# Slice with index using iloc\n",
    "df.iloc[3,] # is this a row or column?"
   ]
  },
  {
   "cell_type": "code",
   "execution_count": null,
   "metadata": {
    "collapsed": false
   },
   "outputs": [],
   "source": [
    "# Slice out specific rows and/or columns with iloc\n",
    "df.iloc[[0, 3], [1, 2]]"
   ]
  },
  {
   "cell_type": "code",
   "execution_count": null,
   "metadata": {
    "collapsed": false
   },
   "outputs": [],
   "source": [
    "# Return types...\n",
    "\n",
    "df = pd.DataFrame(np.random.randn(3, 4))\n",
    "\n",
    "# What type is returned from loc and iloc - check here...\n"
   ]
  },
  {
   "cell_type": "markdown",
   "metadata": {},
   "source": [
    "EXERCISE 2:  Slicing rows and columns by index<br>\n",
    "Using this dataframe, \n",
    "```python\n",
    "dates = pd.date_range('19740101', periods=6)\n",
    "df = pd.DataFrame(np.random.randn(6, 4), index = dates, columns = list('ABCD'))\n",
    "```\n",
    "Do the following:<br>\n",
    "1.  Slice out the first row by index\n",
    "*  Slice out the first column by index\n",
    "*  Slice out the first and last row, first and last column, by index"
   ]
  },
  {
   "cell_type": "code",
   "execution_count": null,
   "metadata": {
    "collapsed": true
   },
   "outputs": [],
   "source": [
    "# Code up your solution here..."
   ]
  },
  {
   "cell_type": "markdown",
   "metadata": {},
   "source": [
    "<b>Just like with numpy arrays, slicing `pandas` dataframes produces a <i>view</i></b>.  Remember that when you modify a view, you will also modify the original since it is not a copy."
   ]
  },
  {
   "cell_type": "markdown",
   "metadata": {},
   "source": [
    "EXERCISE 3:  Slicing and views\n",
    "* Write some code here to prove that dataframe slicing produces views...(might produce a warning which is very nice of the interpreter)"
   ]
  },
  {
   "cell_type": "code",
   "execution_count": null,
   "metadata": {
    "collapsed": true
   },
   "outputs": [],
   "source": [
    "# Code up your solution/proof here..."
   ]
  },
  {
   "cell_type": "markdown",
   "metadata": {},
   "source": [
    "### Boolean indexing\n",
    "<table style=\"width:50%\" align=\"left\">\n",
    "  <tr>\n",
    "    <td><b>Operator/Method</b></td>\n",
    "    <td><b>Meaning</b></td>\t\t\n",
    "  </tr>\n",
    "    <tr>\n",
    "    <td>`isnull`</td>\n",
    "    <td>Returns a df of boolean values representing if the value is null</td>\t\t\n",
    "  </tr>\n",
    "    <tr>\n",
    "    <td>`isin`</td>\n",
    "    <td>Returns rows where value is in a certain column</td>\t\t\n",
    "  </tr>\n",
    "  <tr>\n",
    "    <td>`|`</td>\n",
    "    <td>or</td>\t\t\n",
    "  </tr>\n",
    "  <tr>\n",
    "    <td>`&`</td>\n",
    "    <td>and</td>\t\t\n",
    "  </tr>\n",
    "  <tr>\n",
    "    <td>`~`</td>\n",
    "    <td>not</td>\t\t\n",
    "  </tr>\n",
    "</table>"
   ]
  },
  {
   "cell_type": "code",
   "execution_count": null,
   "metadata": {
    "collapsed": false
   },
   "outputs": [],
   "source": [
    "# Initialize a dataframe with a dict of pandas Series and introduce NaNs\n",
    "df = pd.DataFrame({'one' : pd.Series(np.random.randn(3), index=['a', 'b', 'c']),\n",
    "    'two' : pd.Series(np.random.randn(3), index=['a', 'b', 'd']),\n",
    "    'three' : pd.Series(np.random.randn(3), index=['b', 'c', 'd'])})\n",
    "df"
   ]
  },
  {
   "cell_type": "code",
   "execution_count": null,
   "metadata": {
    "collapsed": false
   },
   "outputs": [],
   "source": [
    "# Use criteria to filter\n",
    "df[df > 0]\n",
    "\n",
    "# Take note of where the NaNs appear"
   ]
  },
  {
   "cell_type": "markdown",
   "metadata": {},
   "source": [
    "EXERCISE 4:  Replace NaNs with scalar inplace<br><br>\n",
    "Using the dataframe above, replace all NaNs with a scalar using a criterion (`pd.isnull()`) and inplace (`df[*criterion*]`)."
   ]
  },
  {
   "cell_type": "code",
   "execution_count": null,
   "metadata": {
    "collapsed": true
   },
   "outputs": [],
   "source": [
    "# Code up your solution here..."
   ]
  },
  {
   "cell_type": "markdown",
   "metadata": {},
   "source": [
    "### Assignment"
   ]
  },
  {
   "cell_type": "code",
   "execution_count": null,
   "metadata": {
    "collapsed": false
   },
   "outputs": [],
   "source": [
    "# Initialize a dataframe with a dict of pandas Series and introduce NaNs\n",
    "df = pd.DataFrame({'one' : pd.Series(np.random.randn(3), index=['a', 'b', 'c']),\n",
    "    'two' : pd.Series(np.random.randn(4), index=['a', 'b', 'c', 'd']),\n",
    "    'three' : pd.Series(np.random.randn(3), index=['b', 'c', 'd'])})\n",
    "df"
   ]
  },
  {
   "cell_type": "code",
   "execution_count": null,
   "metadata": {
    "collapsed": false
   },
   "outputs": [],
   "source": [
    "# Assign a whole row\n",
    "df2 = df.copy()\n",
    "df2.iloc[3] = 0\n",
    "df2"
   ]
  },
  {
   "cell_type": "code",
   "execution_count": null,
   "metadata": {
    "collapsed": false
   },
   "outputs": [],
   "source": [
    "# Assign a whole column\n",
    "df2 = df.copy()\n",
    "df2['one'] = 0\n",
    "df2"
   ]
  },
  {
   "cell_type": "code",
   "execution_count": null,
   "metadata": {
    "collapsed": false
   },
   "outputs": [],
   "source": [
    "# Using a criterion to fill in missing values by assignment\n",
    "df2 = df.copy()\n",
    "df2[df2.isnull()] = 0\n",
    "df2"
   ]
  },
  {
   "cell_type": "markdown",
   "metadata": {},
   "source": [
    "EXERCISE 5:  Setting rows of an empty dataframe\n",
    "<br>Using the following syntax create an empty 100x10 dataframe and assign each row to the same array of numbers\n",
    "```python\n",
    "pd.DataFrame(index = range(nrows), columns = range(ncols))\n",
    "```"
   ]
  },
  {
   "cell_type": "code",
   "execution_count": null,
   "metadata": {
    "collapsed": true
   },
   "outputs": [],
   "source": [
    "# Code up your solution here..."
   ]
  },
  {
   "cell_type": "markdown",
   "metadata": {},
   "source": [
    "### Broadcasting\n",
    "* Broadcasting is essentially vectorizing array operations, usually arithmetic.  The term comes from the `numpy` package.  Here, it is applied to `pandas` dataframes."
   ]
  },
  {
   "cell_type": "code",
   "execution_count": null,
   "metadata": {
    "collapsed": false
   },
   "outputs": [],
   "source": [
    "# Let's create a simple dataframe from a range of numbers with column names\n",
    "df = pd.DataFrame(np.arange(12).reshape(4, 3), columns = ['a', 'b', 'c'])\n",
    "df"
   ]
  },
  {
   "cell_type": "markdown",
   "metadata": {},
   "source": [
    "<b>Scalar value broadcasting</b>"
   ]
  },
  {
   "cell_type": "code",
   "execution_count": null,
   "metadata": {
    "collapsed": false
   },
   "outputs": [],
   "source": [
    "# Addition\n",
    "df + 100\n",
    "\n",
    "# Try subtraction, multiplication and division on your own\n"
   ]
  },
  {
   "cell_type": "markdown",
   "metadata": {},
   "source": [
    "<b>Array broadcasting</b>"
   ]
  },
  {
   "cell_type": "code",
   "execution_count": null,
   "metadata": {
    "collapsed": false
   },
   "outputs": [],
   "source": [
    "d = [1, 2, 3]\n",
    "\n",
    "df * d\n",
    "\n",
    "# Is the broadcast happening row-wise or column-wise?\n",
    "\n",
    "# The array 'd' could also be numpy array or pandas series...try these\n"
   ]
  },
  {
   "cell_type": "markdown",
   "metadata": {
    "collapsed": true
   },
   "source": [
    "### Adding and removing columns"
   ]
  },
  {
   "cell_type": "code",
   "execution_count": null,
   "metadata": {
    "collapsed": false
   },
   "outputs": [],
   "source": [
    "# Our familiar pandas dataframe\n",
    "df = pd.DataFrame({'one' : pd.Series(np.random.randn(3), index=['a', 'b', 'c']),\n",
    "    'two' : pd.Series(np.random.randn(4), index=['a', 'b', 'c', 'd']),\n",
    "    'three' : pd.Series(np.random.randn(3), index=['b', 'c', 'd'])})\n",
    "df"
   ]
  },
  {
   "cell_type": "code",
   "execution_count": null,
   "metadata": {
    "collapsed": false
   },
   "outputs": [],
   "source": [
    "# Create a new column and add it to dataframe\n",
    "df['four'] = df['one'] + df['two']\n",
    "df"
   ]
  },
  {
   "cell_type": "code",
   "execution_count": null,
   "metadata": {
    "collapsed": false
   },
   "outputs": [],
   "source": [
    "# Remove a column by label\n",
    "df.drop('four', axis = 'columns')\n",
    "\n",
    "# Check to see if df was modified (if not how would we modify it inplace?)\n",
    "df"
   ]
  },
  {
   "cell_type": "markdown",
   "metadata": {},
   "source": [
    "### References\n",
    "[The basics from pandas documentation]: http://pandas.pydata.org/pandas-docs/version/0.16.2/basics.html\n",
    "[Pandas cheatsheet from Notebook Gallery]: http://nbviewer.ipython.org/github/pybokeh/jupyter_notebooks/blob/master/pandas/PandasCheatSheet.ipynb\n",
    "1. [The basics from pandas documentation]\n",
    "* [Pandas cheatsheet from Notebook Gallery]"
   ]
  },
  {
   "cell_type": "markdown",
   "metadata": {
    "collapsed": true
   },
   "source": [
    "Created by a Microsoft Employee.\n",
    "\t\n",
    "The MIT License (MIT)<br>\n",
    "Copyright (c) 2016"
   ]
  },
  {
   "cell_type": "code",
   "execution_count": null,
   "metadata": {
    "collapsed": true
   },
   "outputs": [],
   "source": []
  }
 ],
 "metadata": {
  "kernelspec": {
   "display_name": "Python 3",
   "language": "python",
   "name": "python3"
  },
  "language_info": {
   "codemirror_mode": {
    "name": "ipython",
    "version": 3
   },
   "file_extension": ".py",
   "mimetype": "text/x-python",
   "name": "python",
   "nbconvert_exporter": "python",
   "pygments_lexer": "ipython3",
   "version": "3.5.1"
  }
 },
 "nbformat": 4,
 "nbformat_minor": 0
}
