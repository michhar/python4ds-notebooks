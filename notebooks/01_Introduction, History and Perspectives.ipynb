{
 "cells": [
  {
   "cell_type": "markdown",
   "metadata": {
    "slideshow": {
     "slide_type": "slide"
    }
   },
   "source": [
    "# Introduction and Perspectives"
   ]
  },
  {
   "cell_type": "markdown",
   "metadata": {
    "slideshow": {
     "slide_type": "slide"
    }
   },
   "source": [
    "Code, data, and text all accessible from one file viewed in a browser, living locally or in the cloud.  The text is written in markdown, making it a rich format with inserting latex, links, images and html, too (because we're in a browser).  In 2014, there were 80,000 jupyter notebooks on github.  In 2015 the number almost tripled to 230,000.  This shows how popular and fast-growing the usage is in the community. \n",
    "\n",
    "- github numbers from article by Alex Perrier [here](https://www.opendatascience.com/blog/jupyter-zeppelin-beaker-the-rise-of-the-notebooks/)"
   ]
  },
  {
   "cell_type": "markdown",
   "metadata": {},
   "source": [
    "## What I learned after reading the [IPython introductory paper](https://web.archive.org/web/20100602042637/http:/fperez.org/papers/ipython07_pe-gr_cise.pdf) by Fernando Perez\n",
    "\n",
    "Originating in 2001, it was created initially by Perez as an enhanced interactive python shell. \n",
    " \n",
    "IPython was initially created to fill a need for an enhancement to the Python interpreter.  Something that could (in addition to simply running snippets of code line by line):\n"
   ]
  },
  {
   "cell_type": "markdown",
   "metadata": {},
   "source": [
    "1. Retain access to the environment's state\n",
    "* Include a control system\n",
    "* Perform OS-level actions\n",
    "* Perform introspection and help\n",
    "* Execute and debug apps within its interface"
   ]
  },
  {
   "cell_type": "markdown",
   "metadata": {},
   "source": [
    "As an aside, it was so good at OS-level actions that some Windows users adopted it in place of the native command prompt."
   ]
  },
  {
   "cell_type": "markdown",
   "metadata": {},
   "source": [
    "In December of 2011, Perez, Brian Granger and Min Ragan-Kelley figured out a way to convert the interactive shell into a browser with \"cells\" where code is executed.  Also, there are \"cells\" specifically for markdown text."
   ]
  },
  {
   "cell_type": "markdown",
   "metadata": {},
   "source": [
    "## The R kernel is a younger cousing of the python kernel\n",
    "\n",
    "The R kernel (IRkernel) is a much, much newer project with it's **first** release of 0.1 on Mar 5, 2015 (source: https://github.com/IRkernel/IRkernel/releases)\n",
    "* No magics yet for the R kernel"
   ]
  },
  {
   "cell_type": "code",
   "execution_count": 3,
   "metadata": {
    "collapsed": false
   },
   "outputs": [
    {
     "data": {
      "text/html": [
       "<img width = 200 src = 'http://pages.discovery.wisc.edu/~avelten/images/zebrafish_brain_10x.jpeg'>"
      ]
     },
     "metadata": {},
     "output_type": "display_data"
    }
   ],
   "source": [
    "IRdisplay::display_html(\"<img width = 200 src = 'http://pages.discovery.wisc.edu/~avelten/images/zebrafish_brain_10x.jpeg'>\")"
   ]
  },
  {
   "cell_type": "markdown",
   "metadata": {
    "slideshow": {
     "slide_type": "slide"
    }
   },
   "source": [
    "## On the jupyter project's hopeful future in data science\n",
    "\n",
    "\"Jupyter is an amazing project that feeds and rides the rising wave of data science.\"  \n",
    "- quote from article by Alex Perrier [here](https://www.opendatascience.com/blog/jupyter-zeppelin-beaker-the-rise-of-the-notebooks/)"
   ]
  },
  {
   "cell_type": "code",
   "execution_count": null,
   "metadata": {
    "collapsed": true
   },
   "outputs": [],
   "source": []
  }
 ],
 "metadata": {
  "kernelspec": {
   "display_name": "R",
   "language": "R",
   "name": "ir"
  },
  "language_info": {
   "codemirror_mode": "r",
   "file_extension": ".r",
   "mimetype": "text/x-r-source",
   "name": "R",
   "pygments_lexer": "r",
   "version": "3.2.3"
  }
 },
 "nbformat": 4,
 "nbformat_minor": 0
}
