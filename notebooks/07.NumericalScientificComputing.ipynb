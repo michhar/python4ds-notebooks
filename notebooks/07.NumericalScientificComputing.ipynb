{
 "cells": [
  {
   "cell_type": "markdown",
   "metadata": {},
   "source": [
    "# Numerical and Scientific Computing"
   ]
  },
  {
   "cell_type": "markdown",
   "metadata": {},
   "source": [
    "## <img src='https://az712634.vo.msecnd.net/notebooks/python_course/v1/flask.png' alt=\"Smiley face\" width=\"42\" height=\"42\" align=\"left\">Learning Objectives\n",
    "* * *\n",
    "<br>\n",
    "* Become comfortable defining, slicing and assigment with numpy arrays (1D and multidimensional)\n",
    "* Become familiar with boolean indexing\n",
    "* See some examples of set logic\n",
    "* Get started with some linear algebra in numpy"
   ]
  },
  {
   "cell_type": "markdown",
   "metadata": {},
   "source": [
    "## What is `numpy` and what does it do?\n",
    "* numerical python operating upon what is called an \"ndarray\"\n",
    "* ndarrays are 1 to N dimensional arrays or vectors\n",
    "* operations are quickly vectorized on ndarrays"
   ]
  },
  {
   "cell_type": "markdown",
   "metadata": {},
   "source": [
    "### 1D arrays"
   ]
  },
  {
   "cell_type": "code",
   "execution_count": null,
   "metadata": {
    "collapsed": false
   },
   "outputs": [],
   "source": [
    "import numpy as np\n",
    "\n",
    "# Here are three ways to create a 1D array in numpy\n",
    "a = np.array([1, 2, 3, 4, 5])\n",
    "a = np.array(range(1, 6))\n",
    "a = np.arange(1, 6)\n",
    "\n",
    "# what is a's type?  (use type(a))\n",
    "# print a here...\n"
   ]
  },
  {
   "cell_type": "markdown",
   "metadata": {},
   "source": [
    "<b>Slicing a 1D array</b>\n",
    "* IMPORTANT: Slicing in NumPy does not return a copy, but rather what we call a <b>view</b>.\n",
    "* If we modify the view, the original np array is <b>also modified</b>.\n",
    "* If we truly want a copy we would use the `copy()` method.\n",
    "\n",
    "<br>\n",
    "Here's some proof that a <b>slice is a view for ndarrays</b> and changes to it will modify the original data:"
   ]
  },
  {
   "cell_type": "code",
   "execution_count": null,
   "metadata": {
    "collapsed": false
   },
   "outputs": [],
   "source": [
    "a = np.array([1, 2, 3, 4, 5])\n",
    "\n",
    "# let's hold on to the original\n",
    "a_orig = a.copy()\n",
    "\n",
    "# A slice (3rd through 4th elements)\n",
    "view = a[2:4]\n",
    "\n",
    "# Reassignment\n",
    "view[1] = 0\n",
    "\n",
    "# What changed if anything?  print \"a\" and \"a_orig\"\n"
   ]
  },
  {
   "cell_type": "markdown",
   "metadata": {},
   "source": [
    "<b>Assignment via slicing</b>"
   ]
  },
  {
   "cell_type": "code",
   "execution_count": null,
   "metadata": {
    "collapsed": false
   },
   "outputs": [],
   "source": [
    "a = np.array([1, 2, 3, 4, 5])\n",
    "print(a)\n",
    "\n",
    "# Set 3rd through 4th elements to a scalar (note: indexing is not inclusive of the last index number)\n",
    "a[2:4] = 0\n",
    "print(a)"
   ]
  },
  {
   "cell_type": "markdown",
   "metadata": {},
   "source": [
    "### 2D arrays"
   ]
  },
  {
   "cell_type": "code",
   "execution_count": null,
   "metadata": {
    "collapsed": false
   },
   "outputs": [],
   "source": [
    "a2d = np.array([range(5), range(5, 10), range(10, 15)])\n",
    "print(a2d)"
   ]
  },
  {
   "cell_type": "markdown",
   "metadata": {},
   "source": [
    "<b>Subscription</b>\n",
    "* Two ways to access an element of 2D array"
   ]
  },
  {
   "cell_type": "code",
   "execution_count": null,
   "metadata": {
    "collapsed": false
   },
   "outputs": [],
   "source": [
    "# First way\n",
    "x = a2d[0][3]\n",
    "print(x)\n",
    "\n",
    "# What do you think the second way is?  If you like R, this is familiar.  \n",
    "# Write some code here...\n"
   ]
  },
  {
   "cell_type": "code",
   "execution_count": null,
   "metadata": {
    "collapsed": false
   },
   "outputs": [],
   "source": [
    "# Alternate subscription of 2D array\n",
    "\n",
    "# This way\n",
    "x = a2d[0, 3]\n",
    "print(x)\n",
    "\n",
    "# Or that\n",
    "y = a2d[0, 3]\n",
    "print(y)"
   ]
  },
  {
   "cell_type": "markdown",
   "metadata": {},
   "source": [
    "<b>Using `reshape()`</b>\n",
    "* Will conform a 1D array to an ND array"
   ]
  },
  {
   "cell_type": "code",
   "execution_count": null,
   "metadata": {
    "collapsed": false
   },
   "outputs": [],
   "source": [
    "# Instead of (to create one array containing three arrays)\n",
    "a2d = np.array([range(5), range(5, 10), range(10, 15)])\n",
    "\n",
    "# We could just do this\n",
    "a2d = np.arange(15).reshape(3, 5)\n",
    "\n",
    "a2d"
   ]
  },
  {
   "cell_type": "code",
   "execution_count": null,
   "metadata": {
    "collapsed": false
   },
   "outputs": [],
   "source": [
    "a2d = np.arange(0, 16).reshape(4, 4)\n",
    "\n",
    "# We saw how to slice 1D arrays, e.g. a1d[1], now a2d[1] would be a 1D array\n",
    "\n",
    "# If we want rows 2 and 3 we would use a range of indices\n",
    "a2d[1:3]"
   ]
  },
  {
   "cell_type": "code",
   "execution_count": null,
   "metadata": {
    "collapsed": false
   },
   "outputs": [],
   "source": [
    "# What about column 4?\n",
    "a2d[:, 3]"
   ]
  },
  {
   "cell_type": "markdown",
   "metadata": {},
   "source": [
    "EXERCISE 1: Initializing and slicing 2D arrays\n",
    "* Initialize a 3x4 2D array with all even numbers between 1 and 25 (HINT: use `arange`'s argument `step`)\n",
    "```python\n",
    "# e.g. Even numbers starting at 0 to 10\n",
    "np.arange(0, 10, step = 2)\n",
    "```\n",
    "* Slice out the 1st and 3rd element in the 1st row"
   ]
  },
  {
   "cell_type": "code",
   "execution_count": null,
   "metadata": {
    "collapsed": true
   },
   "outputs": [],
   "source": [
    "# Code up your solution here..."
   ]
  },
  {
   "cell_type": "markdown",
   "metadata": {},
   "source": [
    "### 3D arrays"
   ]
  },
  {
   "cell_type": "code",
   "execution_count": null,
   "metadata": {
    "collapsed": false
   },
   "outputs": [],
   "source": [
    "# 2x2x5 array (explicitly initialized with literals)\n",
    "a3d = np.array([[[1, 2, 3, 4, 5], \n",
    "                 [6, 7, 8, 9, 10]], \n",
    "                [[11, 12, 13, 14, 15], \n",
    "                 [16, 17, 18, 19, 20]]])\n",
    "print(a3d)\n",
    "\n",
    "# Or just do this\n",
    "a3d = np.arange(1, 21).reshape(2, 2, 5)\n",
    "print(a3d)"
   ]
  },
  {
   "cell_type": "markdown",
   "metadata": {},
   "source": [
    "EXERCISE 2: Slicing 3D arrays\n",
    "* Use what you've seen about slicing 1D and 2D arrays to:\n",
    "  1. Slice out the first 2D array from the above 3D array\n",
    "  2. Slice out the second 1D from the first 2D array\n",
    "  3. Slice out the third element in the second 1D array from the first 2D array"
   ]
  },
  {
   "cell_type": "code",
   "execution_count": null,
   "metadata": {
    "collapsed": true
   },
   "outputs": [],
   "source": [
    "# Code up your solution here..."
   ]
  },
  {
   "cell_type": "markdown",
   "metadata": {},
   "source": [
    "### Indexing"
   ]
  },
  {
   "cell_type": "markdown",
   "metadata": {},
   "source": [
    "<b>Boolean indexing</b>\n",
    "* IMPORTANT: Boolean indexing creates a <b>copy</b> unlike slicing"
   ]
  },
  {
   "cell_type": "code",
   "execution_count": null,
   "metadata": {
    "collapsed": false
   },
   "outputs": [],
   "source": [
    "# 7x4 2D array with some normally distributed random numbers\n",
    "data = np.random.randn(7, 4)\n",
    "print(data)\n",
    "\n",
    "# Our boolean indexer\n",
    "bindex = np.array([True, False, False, True, False, True, False])\n",
    "\n",
    "# Are we slicing by rows or columns?"
   ]
  },
  {
   "cell_type": "code",
   "execution_count": null,
   "metadata": {
    "collapsed": false
   },
   "outputs": [],
   "source": [
    "# let's slice with the boolean indexer now\n",
    "data[bindex]"
   ]
  },
  {
   "cell_type": "code",
   "execution_count": null,
   "metadata": {
    "collapsed": false
   },
   "outputs": [],
   "source": [
    "# How do you think you would reverse select with our boolean indexer?\n",
    "\n",
    "\n",
    "# The answer is in solution to exercise 3"
   ]
  },
  {
   "cell_type": "markdown",
   "metadata": {},
   "source": [
    "EXERCISE 3: Create a 2D boolean indexer and use it to slice a 2D array?\n",
    "* Fill in the missing pieces to the following code to create this slicer."
   ]
  },
  {
   "cell_type": "markdown",
   "metadata": {
    "collapsed": true
   },
   "source": [
    "Copy this code into a cell below and fill in\n",
    "```python\n",
    "# Exercise code - fill in the blank or missing parts below\n",
    "\n",
    "import numpy as np\n",
    "\n",
    "# 2x3 2D array with some normally distributed random numbers\n",
    "data = np.random.___(2, 3)\n",
    "print(data)\n",
    "\n",
    "# our 2D boolean indexer\n",
    "bindex = np.array([___]).reshape(2, 3)\n",
    "print(bindex)\n",
    "\n",
    "# Will it work?\n",
    "\n",
    "# Also, apply the reverse of the boolean indexer to the data (check solution for this...)\n",
    "\n",
    "```"
   ]
  },
  {
   "cell_type": "code",
   "execution_count": null,
   "metadata": {
    "collapsed": true
   },
   "outputs": [],
   "source": [
    "# Try your solution here"
   ]
  },
  {
   "cell_type": "markdown",
   "metadata": {},
   "source": [
    "<b>Booleans to set a swath of values</b>"
   ]
  },
  {
   "cell_type": "code",
   "execution_count": null,
   "metadata": {
    "collapsed": false
   },
   "outputs": [],
   "source": [
    "data = np.random.randn(7, 4)\n",
    "data[data < 0] = 0\n",
    "data"
   ]
  },
  {
   "cell_type": "code",
   "execution_count": null,
   "metadata": {
    "collapsed": false
   },
   "outputs": [],
   "source": [
    "# Set a whole row or set of rows to a scalar\n",
    "\n",
    "# Our boolean indexer\n",
    "bindex = np.array([True, False, False, True, False, True, False])\n",
    "\n",
    "data[bindex] = 8\n",
    "data"
   ]
  },
  {
   "cell_type": "code",
   "execution_count": null,
   "metadata": {
    "collapsed": false
   },
   "outputs": [],
   "source": [
    "# Show how would you set a whole column (or set of columns) to a value using a boolean indexer\n",
    "bindex = np.array([True, False, False, True])\n",
    "data[:, bindex] = 5\n",
    "data"
   ]
  },
  {
   "cell_type": "markdown",
   "metadata": {},
   "source": [
    "<b>Additional indexing options we are not going to cover</b>\n",
    "* Fancy indexing\n",
    "  1. Selecting out particular rows in a specified order\n",
    "  2. Selecting elements corresponding to tuples of indices\n",
    "  3. Use of `np.ix_` function to select a square region"
   ]
  },
  {
   "cell_type": "markdown",
   "metadata": {},
   "source": [
    "### Transposing"
   ]
  },
  {
   "cell_type": "code",
   "execution_count": null,
   "metadata": {
    "collapsed": false
   },
   "outputs": [],
   "source": [
    "# Initialize 2D array with some random integers between 1 and 5\n",
    "data = np.random.randint(1, 6, size = 12).reshape(3, 4)\n",
    "print(data)\n",
    "\n",
    "dataT = data.T # could also use transpose() method\n",
    "print(dataT)"
   ]
  },
  {
   "cell_type": "markdown",
   "metadata": {},
   "source": [
    "### Universal functions aka `ufuncs`"
   ]
  },
  {
   "cell_type": "code",
   "execution_count": null,
   "metadata": {
    "collapsed": false
   },
   "outputs": [],
   "source": [
    "# 1D array\n",
    "a = np.arange(10)\n",
    "print(a)\n",
    "\n",
    "# A couple of unary functions\n",
    "\n",
    "sqroot = np.sqrt(a)\n",
    "print(sqroot)\n",
    "\n",
    "expon = np.exp(a)\n",
    "print(expon)"
   ]
  },
  {
   "cell_type": "code",
   "execution_count": null,
   "metadata": {
    "collapsed": false
   },
   "outputs": [],
   "source": [
    "# let's make a couple of 1D arrays\n",
    "a = np.random.randn(10)\n",
    "b = np.random.randn(10)\n",
    "\n",
    "# A couple of binary funcions\n",
    "\n",
    "maxes = np.maximum(a, b)\n",
    "print(maxes)\n",
    "\n",
    "added = np.add(a, b)\n",
    "print(added)"
   ]
  },
  {
   "cell_type": "markdown",
   "metadata": {},
   "source": [
    "> For more information on available `ufuncs` visit the scipy/numpy docs [here](http://docs.scipy.org/doc/numpy/reference/ufuncs.html#available-ufuncs).  Also, just note `numpy` uses the concept of <b>broadcasting</b> when performing operations (like `+ - * /` and `ufuncs`) on ndarrays to decide how to handle disparately shaped inputs.  More info [here](http://docs.scipy.org/doc/numpy/reference/ufuncs.html#broadcasting)."
   ]
  },
  {
   "cell_type": "markdown",
   "metadata": {},
   "source": [
    "### Conditional logic with `np.where`\n",
    "* A great way to vectorize: `x if condition else y`\n",
    "* In the following example, a boolean array (the condition), is used to choose an element either in the first 1D array or second 1D array."
   ]
  },
  {
   "cell_type": "code",
   "execution_count": null,
   "metadata": {
    "collapsed": true
   },
   "outputs": [],
   "source": [
    "# Two 1D arrays\n",
    "a = np.arange(5)\n",
    "b = np.arange(5, 10)\n",
    "\n",
    "# A boolean indexer as the condition (decides from which 1D array to choose an element)\n",
    "# i.e. if value is True - choose element from a, else choose element from b\n",
    "cond = np.array([True, False, False, True, False])"
   ]
  },
  {
   "cell_type": "code",
   "execution_count": null,
   "metadata": {
    "collapsed": false
   },
   "outputs": [],
   "source": [
    "# Old familiar way: list comprehension with our friendly zip function\n",
    "result = [x if c else y for x, y, c in zip(a, b, cond)]\n",
    "print(list(zip(a, b, cond)))\n",
    "print(result)\n",
    "\n",
    "# The better faster numpy way (especially for larger arrays!)\n",
    "result = np.where(cond, a, b)\n",
    "print(result)\n",
    "\n",
    "# could cond be an anonymous function?  Try!"
   ]
  },
  {
   "cell_type": "markdown",
   "metadata": {},
   "source": [
    "### Some set logic for 1D arrays\n",
    "* Functions to find unique elements, unions, intersections, set differences, symmetric set differences"
   ]
  },
  {
   "cell_type": "markdown",
   "metadata": {},
   "source": [
    "<b>`np.unique()` will return a sorted, unique array</b>"
   ]
  },
  {
   "cell_type": "code",
   "execution_count": null,
   "metadata": {
    "collapsed": false
   },
   "outputs": [],
   "source": [
    "a = ['a'] * 10\n",
    "b = ['b'] * 12\n",
    "c = ['c'] * 5\n",
    "d = ['d'] * 8\n",
    "ones = [1] * 20\n",
    "z = ['z'] * 6\n",
    "\n",
    "arr = z + a + d + c + b + ones\n",
    "print(arr)\n",
    "\n",
    "np.unique(arr)\n",
    "\n",
    "# Compare to using set methods or operators learnt about previously\n"
   ]
  },
  {
   "cell_type": "markdown",
   "metadata": {},
   "source": [
    "<b>`np.intersect1d()` and `np.union1d()` will return sorted, unique intersection and union, respectively</b>"
   ]
  },
  {
   "cell_type": "code",
   "execution_count": null,
   "metadata": {
    "collapsed": false
   },
   "outputs": [],
   "source": [
    "a = ['a'] * 10\n",
    "b = ['b'] * 12\n",
    "c = ['c'] * 5\n",
    "d = ['d'] * 8\n",
    "\n",
    "a1 = a + b + c\n",
    "a2 = b + c + d\n",
    "np.intersect1d(a1, a2)\n",
    "\n",
    "# Show the union of a1 and a2...try this\n"
   ]
  },
  {
   "cell_type": "markdown",
   "metadata": {},
   "source": [
    "EXERCISE 4:  Classic sets and ndarrays - a comparison exercise<br><br>\n",
    "Using this array from above\n",
    "```python\n",
    "a = ['a'] * 100\n",
    "b = ['b'] * 120\n",
    "c = ['c'] * 50\n",
    "d = ['d'] * 80\n",
    "ones = [1] * 200\n",
    "z = ['z'] * 60\n",
    "\n",
    "arr = z + a + d + c + b + ones\n",
    "```\n",
    "Do the following:\n",
    "* Create a classic set with it\n",
    "* Sort it (HINT: you'll have to convert to a list of `str`)\n",
    "* Convert it to an ndarray\n",
    "\n",
    "For a fun bonus, compare an intersection using classic set methods versus numpy methods of the following two arrays:\n",
    "```python\n",
    "a1 = z + d + c + ones\n",
    "a2 = a + d + b + ones\n",
    "```"
   ]
  },
  {
   "cell_type": "code",
   "execution_count": null,
   "metadata": {
    "collapsed": true
   },
   "outputs": [],
   "source": [
    "# Code up your solution here..."
   ]
  },
  {
   "cell_type": "markdown",
   "metadata": {},
   "source": [
    "### Sorting NumPy arrays\n",
    "* Unlike built-in `sort()`, `np.sort()` does <b>not</b> sort inline\n",
    "* Like built-in `sort()`, `np.sort()` can take a second argument indicating axis upon which to apply sort\n",
    "* `np.sort()` sorts on rows by default"
   ]
  },
  {
   "cell_type": "code",
   "execution_count": null,
   "metadata": {
    "collapsed": false
   },
   "outputs": [],
   "source": [
    "# 2D array\n",
    "a2d = np.random.randn(4 , 3)\n",
    "print(a2d)\n",
    "\n",
    "a2dsort = np.sort(a2d)\n",
    "print(a2dsort)\n",
    "\n",
    "# np.sort() sorts on rows by default\n",
    "\n",
    "# To sort on columns\n",
    "a2dsort = np.sort(a2d, 0)\n",
    "print(a2dsort)"
   ]
  },
  {
   "cell_type": "markdown",
   "metadata": {},
   "source": [
    "### Numpy and linear algebra"
   ]
  },
  {
   "cell_type": "code",
   "execution_count": null,
   "metadata": {
    "collapsed": false
   },
   "outputs": [],
   "source": [
    "import numpy as np\n",
    "# 2x3 array\n",
    "x = np.array([[9., 3., 8.], [4., 7., 2.]])\n",
    "\n",
    "# 3x2 array\n",
    "y = np.array([[2., 4.], [-1, 9], [8, -5]])\n",
    "\n",
    "print(x)\n",
    "print(y)\n",
    "\n",
    "# Two ways to get dot product (built-in vs. numpy way)\n",
    "dot1 = x.dot(y)\n",
    "dot2 = np.dot(x, y)"
   ]
  },
  {
   "cell_type": "markdown",
   "metadata": {},
   "source": [
    "<b>Linear algebra library `numpy.linalg`</b>\n",
    "* Like MATLAB and R, this library is (under the hood) implemented with Fortran libraries\n",
    "* Also, this is just the very tip of the iceberg"
   ]
  },
  {
   "cell_type": "code",
   "execution_count": null,
   "metadata": {
    "collapsed": false
   },
   "outputs": [],
   "source": [
    "from numpy.linalg import inv, eig\n",
    "\n",
    "# let's take a numpy array and treat it like a matrix\n",
    "X = np.random.randn(3, 3)\n",
    "print('X:', X)\n",
    "\n",
    "# Transpose\n",
    "X = X.T\n",
    "print('X.T:', X)\n",
    "\n",
    "# Inverse matrix\n",
    "Xi = inv(X)\n",
    "print('X^-1:', Xi)\n",
    "\n",
    "# Decomposition example: eigenvalues/eigenvectors\n",
    "evalues, evectors = eig(X)\n",
    "print('Eigenvalues: ', evalues)\n",
    "print('Eigenvectors: ', evectors)"
   ]
  },
  {
   "cell_type": "markdown",
   "metadata": {},
   "source": [
    "<b>Use `help()` to see all that `numpy.linalg` has to offer"
   ]
  },
  {
   "cell_type": "code",
   "execution_count": null,
   "metadata": {
    "collapsed": false
   },
   "outputs": [],
   "source": [
    "import numpy as np\n",
    "help(np.linalg)"
   ]
  },
  {
   "cell_type": "markdown",
   "metadata": {
    "collapsed": true
   },
   "source": [
    "Created by a Microsoft Employee.\n",
    "\t\n",
    "The MIT License (MIT)<br>\n",
    "Copyright (c) 2016"
   ]
  }
 ],
 "metadata": {
  "kernelspec": {
   "display_name": "Python 3",
   "language": "python",
   "name": "python3"
  },
  "language_info": {
   "codemirror_mode": {
    "name": "ipython",
    "version": 3
   },
   "file_extension": ".py",
   "mimetype": "text/x-python",
   "name": "python",
   "nbconvert_exporter": "python",
   "pygments_lexer": "ipython3",
   "version": "3.5.1"
  }
 },
 "nbformat": 4,
 "nbformat_minor": 0
}
