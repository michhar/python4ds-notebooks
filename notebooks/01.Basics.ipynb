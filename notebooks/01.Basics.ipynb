{
 "cells": [
  {
   "cell_type": "markdown",
   "metadata": {},
   "source": [
    "# Basics"
   ]
  },
  {
   "cell_type": "markdown",
   "metadata": {},
   "source": [
    "## <img src='https://az712634.vo.msecnd.net/notebooks/python_course/v1/hotairballon.png' alt=\"Smiley face\" width=\"42\" height=\"42\" align=\"left\">Learning Objectives\n",
    "* * *\n",
    "* Understand Jupyter notebook basics\n",
    "* Become familiar with Python's primitive types\n",
    "* Become familiar with boolean operators and comparison operators\n",
    "* See some examples of conditional statements\n",
    "* Grasp and understand flow control (e.g. `for` loops)\n",
    "* Discern the differences between functions, methods and generators"
   ]
  },
  {
   "cell_type": "markdown",
   "metadata": {},
   "source": [
    "### Welcome to Jupyter!  Here are a few notebook notes\n",
    "<br>\n",
    "<b>This is a little diagram of the anatomy of the notebook toolbar:</b><br>\n",
    "<img src='https://raw.githubusercontent.com/michhar/python-jupyter-notebooks/master/general/nb_diagram.png' alt=\"Smiley face\" align=\"center\">"
   ]
  },
  {
   "cell_type": "markdown",
   "metadata": {},
   "source": [
    "## Shortcuts!!!\n",
    "* A complete list is [here](https://sowingseasons.com/blog/reference/2016/01/jupyter-keyboard-shortcuts/23298516), but these are my favorites.  There is a *command* mode and *edit* mode much like the unix editor `vi/vim`.  `Esc` will take you into command mode.  `Enter` (when a cell is highlighted) will take you into edit mode.\n",
    "\n",
    "Mode  |  What  | Shortcut\n",
    "------------- | ------------- | -------------\n",
    "Command (Press `Esc` to enter)  | Run cell | Shift-Enter\n",
    "Command  | Add cell below | B\n",
    "Command | Add cell above | A\n",
    "Command | Delete a cell | d-d\n",
    "Command | Go into edit mode | Enter\n",
    "Edit (Press `Enter` to enable) | Run cell | Shift-Enter\n",
    "Edit | Indent | Clrl-]\n",
    "Edit | Unindent | Ctrl-[\n",
    "Edit | Comment section | Ctrl-/\n",
    "Edit | Function introspection | Shift-Tab\n",
    "\n",
    "Try some below"
   ]
  },
  {
   "cell_type": "markdown",
   "metadata": {},
   "source": [
    "**A Code cell is grey (by the way this is a Markdown cell)**"
   ]
  },
  {
   "cell_type": "code",
   "execution_count": 2,
   "metadata": {
    "collapsed": false
   },
   "outputs": [
    {
     "name": "stdout",
     "output_type": "stream",
     "text": [
      "Help on built-in function print in module builtins:\n",
      "\n",
      "print(...)\n",
      "    print(value, ..., sep=' ', end='\\n', file=sys.stdout, flush=False)\n",
      "    \n",
      "    Prints the values to a stream, or to sys.stdout by default.\n",
      "    Optional keyword arguments:\n",
      "    file:  a file-like object (stream); defaults to the current sys.stdout.\n",
      "    sep:   string inserted between values, default a space.\n",
      "    end:   string appended after the last value, default a newline.\n",
      "    flush: whether to forcibly flush the stream.\n",
      "\n",
      "this line is Python code\n"
     ]
    }
   ],
   "source": [
    "# This is a comment\n",
    "help(print)\n",
    "print('this line is Python code')\n",
    "\n",
    "# Hit Shift+Enter at same time as a shortcut to run this cell"
   ]
  },
  {
   "cell_type": "markdown",
   "metadata": {},
   "source": [
    "<b>Jupyter notebooks have tab-completion in code cells</b><br><br>\n",
    "<b>To get help on any module, function or variable surround it with `help()`</b>"
   ]
  },
  {
   "cell_type": "code",
   "execution_count": null,
   "metadata": {
    "collapsed": false
   },
   "outputs": [],
   "source": [
    "help(print)"
   ]
  },
  {
   "cell_type": "markdown",
   "metadata": {},
   "source": [
    "<b>OS interaction</b><br>\n",
    "Use <b>!</b> to prefix an OS command."
   ]
  },
  {
   "cell_type": "code",
   "execution_count": null,
   "metadata": {
    "collapsed": false
   },
   "outputs": [],
   "source": [
    "# This will work in unix\n",
    "!ls\n",
    "\n",
    "# If on Windows uncomment out and try\n",
    "#!dir"
   ]
  },
  {
   "cell_type": "markdown",
   "metadata": {},
   "source": [
    "<b>Magics/Control System</b><br>\n",
    "Use <b>%</b> to prefix a control system command."
   ]
  },
  {
   "cell_type": "code",
   "execution_count": null,
   "metadata": {
    "collapsed": false
   },
   "outputs": [],
   "source": [
    "# Clock time to run a line of code\n",
    "%timeit map(lambda x: x**2, range(0, 1000))"
   ]
  },
  {
   "cell_type": "code",
   "execution_count": null,
   "metadata": {
    "collapsed": false
   },
   "outputs": [],
   "source": [
    "# Command history\n",
    "%history"
   ]
  },
  {
   "cell_type": "markdown",
   "metadata": {},
   "source": [
    "### The import statement"
   ]
  },
  {
   "cell_type": "code",
   "execution_count": null,
   "metadata": {
    "collapsed": true
   },
   "outputs": [],
   "source": [
    "# This is what an import statement looks like, here we are importing the json module\n",
    "import json\n",
    "\n",
    "# We can use the 'from' syntax to import a submodule\n",
    "from sklearn import datasets\n",
    "\n",
    "# We can rename a module during import to make it easier to type later\n",
    "import numpy as np"
   ]
  },
  {
   "cell_type": "markdown",
   "metadata": {},
   "source": [
    "### Indentation\n",
    "\n",
    "* Python uses indentation instead of demarcation with punctuation, such as semicolons, to tell the interpreter how to run the code.\n",
    "* It is standard to use four spaces (and not recommended to use tabs)\n",
    "* Whitespace like this makes for easier-to-read code"
   ]
  },
  {
   "cell_type": "markdown",
   "metadata": {},
   "source": [
    "### Let's go over some primitive types\n",
    "* Boolean\n",
    "* Integer\n",
    "* Float\n",
    "* String"
   ]
  },
  {
   "cell_type": "markdown",
   "metadata": {},
   "source": [
    "### Boolean\n",
    "<p>Booleans are either <code>True</code> or <code>False</code> and can be specified by the type <code>bool</code>\n"
   ]
  },
  {
   "cell_type": "code",
   "execution_count": null,
   "metadata": {
    "collapsed": false
   },
   "outputs": [],
   "source": [
    "type(True)"
   ]
  },
  {
   "cell_type": "markdown",
   "metadata": {},
   "source": [
    "### Integer\n",
    "> Note: In Python 2 there was <code>int</code> and `long` for integers in a certain range and larger integers, respectively. In Python 3, `int`'s are now like the type `long` from Python 2 and hence the type `long` no longer exists in Python 3."
   ]
  },
  {
   "cell_type": "code",
   "execution_count": null,
   "metadata": {
    "collapsed": false
   },
   "outputs": [],
   "source": [
    "type(23)"
   ]
  },
  {
   "cell_type": "code",
   "execution_count": null,
   "metadata": {
    "collapsed": false
   },
   "outputs": [],
   "source": [
    "222222222222222222000000000000000000004444444444444444466666666666666666666"
   ]
  },
  {
   "cell_type": "markdown",
   "metadata": {},
   "source": [
    "Hexadecimal Notation (these are still `int`)"
   ]
  },
  {
   "cell_type": "code",
   "execution_count": null,
   "metadata": {
    "collapsed": false
   },
   "outputs": [],
   "source": [
    "0x14"
   ]
  },
  {
   "cell_type": "code",
   "execution_count": null,
   "metadata": {
    "collapsed": false
   },
   "outputs": [],
   "source": [
    "# This might look familiar...it's a color in hex\n",
    "0xFFA040"
   ]
  },
  {
   "cell_type": "markdown",
   "metadata": {},
   "source": [
    "### Float\n",
    "\"floating point\" numbers are represented in computer hardware in scientific notation and if the input is a very small or very large <code>float</code>, the output is in scientific notation."
   ]
  },
  {
   "cell_type": "code",
   "execution_count": null,
   "metadata": {
    "collapsed": false
   },
   "outputs": [],
   "source": [
    "2.5"
   ]
  },
  {
   "cell_type": "code",
   "execution_count": null,
   "metadata": {
    "collapsed": false
   },
   "outputs": [],
   "source": [
    "2e5"
   ]
  },
  {
   "cell_type": "code",
   "execution_count": null,
   "metadata": {
    "collapsed": false
   },
   "outputs": [],
   "source": [
    "0.00001"
   ]
  },
  {
   "cell_type": "code",
   "execution_count": null,
   "metadata": {
    "collapsed": false
   },
   "outputs": [],
   "source": [
    "23444444447777772229."
   ]
  },
  {
   "cell_type": "markdown",
   "metadata": {},
   "source": [
    "### String\n",
    "Strings are type <code>str</code> and all strings in Python 3 are Unicode.  There is no separate <code>character</code> class as in other languages.  Strings are either surrounded by single, double or triple quotes, a style feature up to the coder, however when one wishes to place a single quoted string inside a double quoted string, this feature is useful."
   ]
  },
  {
   "cell_type": "code",
   "execution_count": null,
   "metadata": {
    "collapsed": false
   },
   "outputs": [],
   "source": [
    "\"a single quoted string 'hi' inside a double quoted string\""
   ]
  },
  {
   "cell_type": "code",
   "execution_count": null,
   "metadata": {
    "collapsed": false
   },
   "outputs": [],
   "source": [
    "'a double quoted string \"hi\" inside a single quoted string'"
   ]
  },
  {
   "cell_type": "markdown",
   "metadata": {},
   "source": [
    "<b>Triple quoted strings...how to introduce a line break in the output</b>"
   ]
  },
  {
   "cell_type": "code",
   "execution_count": null,
   "metadata": {
    "collapsed": false
   },
   "outputs": [],
   "source": [
    "'''this is the first a line\n",
    "this is the second line'''"
   ]
  },
  {
   "cell_type": "markdown",
   "metadata": {},
   "source": [
    "### Boolean Operators\n",
    "* `and`, `or` and `not`"
   ]
  },
  {
   "cell_type": "markdown",
   "metadata": {},
   "source": [
    "<b>Of note, all of these are considered `False`:</b>\n",
    "* None\n",
    "* 0\n",
    "* 0.0\n",
    "* empty string\n",
    "* other empty values/data structures"
   ]
  },
  {
   "cell_type": "markdown",
   "metadata": {},
   "source": [
    "<b>`and`, `or` and `not`</b><br><br>\n",
    "<b>Note: the `and` and `or` operands don't actually return `True` or `False`. Rather they work as follows (Taken from Python -> 3.4.1 Documentation -> The Python Standard Library)</b>:\n",
    "<table style=\"width:50%\" align=\"left\">\n",
    "  <tr>\n",
    "    <td><b>Expression</b></td>\n",
    "    <td><b>Return Value</b></td>\t\t\n",
    "  </tr>\n",
    "  <tr>\n",
    "    <td>`x and y`</td>\n",
    "    <td>if x is false, x, else y</td>\t\t\n",
    "  </tr>\n",
    "  <tr>\n",
    "    <td>`x or y`</td>\n",
    "    <td>if x is false, y, else x</td>\t\t\n",
    "  </tr>\n",
    "  <tr>\n",
    "    <td>`not x`</td>\n",
    "    <td>if x is false, `True` else, `False`</td>\t\t\n",
    "  </tr>\n",
    "</table>\n",
    "<br>"
   ]
  },
  {
   "cell_type": "code",
   "execution_count": null,
   "metadata": {
    "collapsed": false
   },
   "outputs": [],
   "source": [
    "# a non-empty string always evaluates to True, see which value is returned\n",
    "'hi' and 'bye'"
   ]
  },
  {
   "cell_type": "markdown",
   "metadata": {},
   "source": [
    "EXERCISE 1: Showing examples of the use of `and` and `or`\n",
    "1. write an expression with `and` in which the first value is returned\n",
    "* write an expression with `or` which returns the first value\n",
    "> Hint: using empty values that evaluate to `False` will make this easier"
   ]
  },
  {
   "cell_type": "markdown",
   "metadata": {},
   "source": [
    "<b>The `in` and `not in` operators</b>\n",
    "* These return `True` or `False`"
   ]
  },
  {
   "cell_type": "code",
   "execution_count": null,
   "metadata": {
    "collapsed": false
   },
   "outputs": [],
   "source": [
    "# Check if integer is in a list - you'll see lists later, but just note they live in square brackets\n",
    "8 in [7, 8, 9]"
   ]
  },
  {
   "cell_type": "code",
   "execution_count": null,
   "metadata": {
    "collapsed": false
   },
   "outputs": [],
   "source": [
    "# Check if a string is not a substring\n",
    "'hi' not in 'hello world!'"
   ]
  },
  {
   "cell_type": "markdown",
   "metadata": {},
   "source": [
    "### Comparison Operators\n",
    "<b>You've seen `and`, `or`, `not`, `in` and `not in`.  There are also six comparison operators:</b>\n",
    "* `==`\n",
    "* `!=`\n",
    "* `>`\n",
    "* `<`\n",
    "* `>=`\n",
    "* `<=`"
   ]
  },
  {
   "cell_type": "code",
   "execution_count": null,
   "metadata": {
    "ExecuteTime": {
     "end_time": "2016-06-28T22:27:19.135305",
     "start_time": "2016-06-28T22:27:19.120401"
    },
    "collapsed": false
   },
   "outputs": [],
   "source": [
    "# Is this True or False?  (For the floor operation in Python 3, the operator looks like '//')\n",
    "2 == 5 // 2"
   ]
  },
  {
   "cell_type": "markdown",
   "metadata": {},
   "source": [
    "<b>Order of prescedence</b>\n",
    "1. parentheses\n",
    "* multiplication (*), division (/), remainder (%)\n",
    "* addition and subtraction\n",
    "* comparisons, membership and identity (`in`, `not in`, `is`, `is not`, and the six comparison operators above)\n",
    "* `not x`\n",
    "* `and`\n",
    "* `or`"
   ]
  },
  {
   "cell_type": "code",
   "execution_count": null,
   "metadata": {
    "collapsed": false
   },
   "outputs": [],
   "source": [
    "# We can also use these operators on strings\n",
    "'bcd' > 'abc'"
   ]
  },
  {
   "cell_type": "markdown",
   "metadata": {},
   "source": [
    "EXERCISE 2: Comparison operators\n",
    "* Create an expression demonstrating addition/subtraction, comparison operators, and/or by filling in the blanks below.  Experiment with this template and try your own."
   ]
  },
  {
   "cell_type": "code",
   "execution_count": null,
   "metadata": {
    "collapsed": false
   },
   "outputs": [],
   "source": [
    "# Try your solution here\n",
    "___ and ___ == ___ or ___"
   ]
  },
  {
   "cell_type": "markdown",
   "metadata": {},
   "source": [
    "### `if` and `else`\n",
    "* Here are some examples of conditional statements"
   ]
  },
  {
   "cell_type": "code",
   "execution_count": null,
   "metadata": {
    "collapsed": false
   },
   "outputs": [],
   "source": [
    "'a' if None else 'b'"
   ]
  },
  {
   "cell_type": "code",
   "execution_count": null,
   "metadata": {
    "collapsed": false
   },
   "outputs": [],
   "source": [
    "'a' if 1 else 'b'"
   ]
  },
  {
   "cell_type": "markdown",
   "metadata": {},
   "source": [
    "### Flow control\n",
    "* `for` and `while` loops\n",
    "* `continue` and `break`\n",
    "* `try` and `except` statements"
   ]
  },
  {
   "cell_type": "markdown",
   "metadata": {},
   "source": [
    "<b>`for` loops</b>"
   ]
  },
  {
   "cell_type": "code",
   "execution_count": null,
   "metadata": {
    "collapsed": false
   },
   "outputs": [],
   "source": [
    "# Iterating over a list of ints\n",
    "#  you'll learn more about lists in the DataStructures module\n",
    "for i in [1, 2, 3, 4, 5]:\n",
    "    print('i = ', i)\n",
    "    \n",
    "# Iterating over a list of strings\n",
    "a = ['hello', 'brave', 'new', 'world']\n",
    "for item in a:\n",
    "    print(item)"
   ]
  },
  {
   "cell_type": "markdown",
   "metadata": {},
   "source": [
    "<b>`while` loops</b>"
   ]
  },
  {
   "cell_type": "code",
   "execution_count": null,
   "metadata": {
    "collapsed": false
   },
   "outputs": [],
   "source": [
    "# Using a while loop to calculate the first 6 numbers in the fibonacci sequence\n",
    "a, b = 0, 1 # Yes, you can do multiple assignments this way!\n",
    "while b < 10:\n",
    "    print(b)\n",
    "    a, b = b, a + b"
   ]
  },
  {
   "cell_type": "markdown",
   "metadata": {},
   "source": [
    "<b>`continue` and `break`</b>\n",
    "* Can use in any flow control type\n",
    "* Can use `continue` and `break` together or individually"
   ]
  },
  {
   "cell_type": "code",
   "execution_count": null,
   "metadata": {
    "collapsed": false
   },
   "outputs": [],
   "source": [
    "# Want only values passing a condition?\n",
    "# e.g. only print integers divisible by 10\n",
    "# range() as you'll see later is just a convenience method creating an array\n",
    "#   of numbers, here, from 0 to 99 (use help() function to learn more about range())\n",
    "nums = range(100)\n",
    "for n in nums:\n",
    "    if n % 10 == 0:\n",
    "        print(n)\n",
    "    else:\n",
    "        continue\n",
    "        \n",
    "# Stop when we've reached a condition\n",
    "# Using list() method on a string, splits it up into characters (print it if you'd like to check)\n",
    "letters = list('supercalifragilisticexpialidocious')\n",
    "for l in letters:\n",
    "    if l == 'x':\n",
    "        print('found \"x\"')\n",
    "        break"
   ]
  },
  {
   "cell_type": "markdown",
   "metadata": {
    "collapsed": true
   },
   "source": [
    "EXERCISE 3: Monitoring machine temperature with conditionals and flow control statements\n",
    "* Say, we have some temperature data from a machine (here simulated with random numbers) in `data` variable.  If the temperature of the machine goes above 80 C twice in a row, we want to raise a warning and break out of this loop.\n",
    "* Fill in the blanks in the code cell below (Note: you may have to run the code cell a few times to see the warning pop up)"
   ]
  },
  {
   "cell_type": "code",
   "execution_count": null,
   "metadata": {
    "collapsed": false
   },
   "outputs": [],
   "source": [
    "# Exercise:  flow control statements\n",
    "import random\n",
    "# Create some data points representing temperatures (degrees Celcius)\n",
    "data = random.sample(range(0, 120), 20)\n",
    "print(data)\n",
    "\n",
    "# b is going to hold our previous value\n",
    "b = 0\n",
    "for x in ___:\n",
    "    # Is current temp above 80?\n",
    "    if x > 80:\n",
    "        # Was previous temp above 80?\n",
    "        if b > 80:\n",
    "            print('Warning, temperatures above 80 twice in a row.')\n",
    "            ___\n",
    "\n",
    "    b = ___"
   ]
  },
  {
   "cell_type": "markdown",
   "metadata": {},
   "source": [
    "**`try`/`except` statements**\n",
    "\n",
    "\n",
    "What if we try to access an element in a list which is out of it's range?\n",
    "```python\n",
    "letters = ['a', 'b', 'c', 'd']\n",
    "for i in range(10):\n",
    "    print(letters[i])\n",
    "```\n",
    "We get an IndexError as shown in this traceback print-out:\n",
    "\n",
    "```python\n",
    "---------------------------------------------------------------------------\n",
    "IndexError                                Traceback (most recent call last)\n",
    "<ipython-input-17-7700b7ec9e04> in <module>()\n",
    "      1 letters = list('abcde')\n",
    "      2 for i in range(10):\n",
    "----> 3     print(letters[i])\n",
    "\n",
    "IndexError: list index out of range\n",
    "```"
   ]
  },
  {
   "cell_type": "markdown",
   "metadata": {},
   "source": [
    "<b>The syntax is as follows:</b>\n",
    "\n",
    "```python\n",
    "try:\n",
    "    ...\n",
    "except ErrorName as e:\n",
    "   ...\n",
    "```"
   ]
  },
  {
   "cell_type": "code",
   "execution_count": null,
   "metadata": {
    "collapsed": false
   },
   "outputs": [],
   "source": [
    "# Handling exceptions with try/except statements\n",
    "\n",
    "# A list of strings\n",
    "letters = ['a', 'b', 'c', 'd']\n",
    "\n",
    "# Here we iterate over a list from 0 up to an index of 9 (that's what range(10) does)\n",
    "for i in range(10):\n",
    "    try:\n",
    "        # Print current letter\n",
    "        print(letters[i])\n",
    "    except IndexError as e:\n",
    "        # IndexError is the particular error and only error we catch here\n",
    "        print('Oops!  Something went wrong:', e)\n",
    "        # Break out of loop now (so we don't keep getting this error)\n",
    "        break"
   ]
  },
  {
   "cell_type": "markdown",
   "metadata": {},
   "source": [
    "### Functions vs. methods"
   ]
  },
  {
   "cell_type": "markdown",
   "metadata": {},
   "source": [
    "Python has many built-in functions such as <code>print</code> and <code>help</code>.  If a function is part of the implementation of a specific type it is called a method.  Methods take their first argument before the function name followed by a period.  Here's a guide:\n",
    "<table style=\"width:75%\" align=\"left\">\n",
    "  <tr>\n",
    "    <td>Function</td>\n",
    "    <td>Built-in or user defined.  Syntax is name followed by arguments in parenthesis.</td>\n",
    "    <td>Example usage:<br> \n",
    "    `print('hello world.')`</td>\t\t\n",
    "  </tr>\n",
    "  <tr>\n",
    "    <td>Method</td>\n",
    "    <td>Part of implementation of a specific type.  Syntax is the variable of the specific type followed by a period and then the method name with arguments in parentheses.</td>\n",
    "    <td>Example usage:<br>\n",
    "    `s = 'abc'`<br>\n",
    "    `s.count('a')`\n",
    "    </td>\t\t\n",
    "  </tr>\n",
    "</table>\n",
    "<br>"
   ]
  },
  {
   "cell_type": "markdown",
   "metadata": {
    "collapsed": true
   },
   "source": [
    "<b>Our first user-defined function</b>\n",
    "* Use the `def` syntax to define the function as follows:\n",
    "```python\n",
    "def func_name(args):\n",
    "    ...\n",
    "```"
   ]
  },
  {
   "cell_type": "code",
   "execution_count": null,
   "metadata": {
    "collapsed": false
   },
   "outputs": [],
   "source": [
    "def fibonacci(limit):\n",
    "    # This is a docstring (always good idea!):\n",
    "    '''The fibonacci function prints fibonacci sequence up to a limit, returning a list.''' \n",
    "    \n",
    "    fibs = []\n",
    "    a, b = 0, 1\n",
    "    while b < limit:\n",
    "        # Append method works on lists, in this case fibs\n",
    "        fibs.append(b)\n",
    "        \n",
    "        # Reset a and b with new values\n",
    "        a, b = b, a + b\n",
    "    \n",
    "    # Our function returns the final list of requested fibonacci numbers\n",
    "    return fibs\n",
    "        \n",
    "# Use our function and test results\n",
    "result = fibonacci(10)\n",
    "print(result)"
   ]
  },
  {
   "cell_type": "code",
   "execution_count": null,
   "metadata": {
    "collapsed": false
   },
   "outputs": [],
   "source": [
    "# Get docstring like so\n",
    "fibonacci.__doc__"
   ]
  },
  {
   "cell_type": "markdown",
   "metadata": {},
   "source": [
    "### Last but not least - Generators (and the `yield` statement)\n",
    "* What makes a generator <b>not</b> a function:\n",
    "  1. generators are just fancy iterators\n",
    "  * generators are used to generate a series of values\n",
    "  * use of `yield` instead of `return`\n",
    "  * `yield` keeps track of the \"state\" of the generator\n",
    "  * we can use `next()` to iterate through the series of values\n",
    "  * really useful when we have infinite series"
   ]
  },
  {
   "cell_type": "code",
   "execution_count": null,
   "metadata": {
    "collapsed": false
   },
   "outputs": [],
   "source": [
    "# A simple generator\n",
    "def simple_gen():\n",
    "    yield 0\n",
    "    yield 1\n",
    "    yield 2\n",
    "    \n",
    "usegen = simple_gen()\n",
    "\n",
    "# This for loop calls the generator's next() function behind-the-scenes\n",
    "for val in usegen:\n",
    "    print(val)\n",
    "    \n",
    "# New instance of the generator since we are at the end of the series from previous for loop\n",
    "usegen = simple_gen()\n",
    "\n",
    "# use next() instead\n",
    "print('using next ', next(usegen))\n",
    "print('using next ', next(usegen))\n",
    "print('using next ', next(usegen))\n",
    "\n",
    "# What happens if we call next() again?\n"
   ]
  },
  {
   "cell_type": "code",
   "execution_count": null,
   "metadata": {
    "collapsed": false
   },
   "outputs": [],
   "source": [
    "# An infinite series using a generator\n",
    "def count_by_two(n):\n",
    "    while True:\n",
    "        yield n\n",
    "        n += 2\n",
    "\n",
    "# Let's use our generator setting the start (n) to 0\n",
    "gen = count_by_two(0)\n",
    "\n",
    "# What are the first 10 values of our infinite series (using next())\n",
    "for i in range(10):\n",
    "    print(next(gen))"
   ]
  },
  {
   "cell_type": "markdown",
   "metadata": {},
   "source": [
    "EXERCISE 4:  Functions and Generators\n",
    "1. Define a function that tests primality of a real number\n",
    "* Define a generator function which creates a sequence of prime numbers from a starting point\n",
    "* Use the generator to print 5 prime numbers after a specified start value\n",
    "<br><br>\n",
    "<b>You will modify the code in the next few cells</b>"
   ]
  },
  {
   "cell_type": "code",
   "execution_count": null,
   "metadata": {
    "collapsed": true
   },
   "outputs": [],
   "source": [
    "# Exercise: Fill in the blanks to this user defined primality function \n",
    "#   (we're going to use it in a generator next)\n",
    "\n",
    "def is_prime(x):\n",
    "    '''Hey!  Write a docstring here telling us about this function.'''\n",
    "    \n",
    "    # Go ahead and make all input positive (abs takes absolute value)\n",
    "    x = abs(x)\n",
    "    \n",
    "    # Less than two, NOT prime\n",
    "    if x < 2:\n",
    "        return False\n",
    "    \n",
    "    # elif is just syntax for else-if in Python\n",
    "    # 2 is prime\n",
    "    elif x == 2:\n",
    "        return ___\n",
    "    \n",
    "    # Anything divisible by two is NOT prime\n",
    "    # The % is modulus - here we test if number is divisible by 2\n",
    "    elif x % 2 == 0:\n",
    "        return ___\n",
    "    \n",
    "    # In this for loop we check if a number is divisible by any other number\n",
    "    else:\n",
    "        for n in range(3, int(x**0.5) + 2, 2):\n",
    "            \n",
    "            # If this is true, the number is NOT prime\n",
    "            if x % n == 0:\n",
    "                return ___\n",
    "        \n",
    "        # It's prime!\n",
    "        return True"
   ]
  },
  {
   "cell_type": "code",
   "execution_count": null,
   "metadata": {
    "collapsed": true
   },
   "outputs": [],
   "source": [
    "# Fill in the blanks to this generator function which uses our primality function\n",
    "#   to create an infinite series of prime numbers (\"yielding\" one at a time)\n",
    "\n",
    "# Our generator\n",
    "def our_gen(num):\n",
    "    '''Hey!  What do I do?'''\n",
    "    while ___:\n",
    "        if is_prime(___):\n",
    "            ___ num\n",
    "        num += 1\n"
   ]
  },
  {
   "cell_type": "code",
   "execution_count": null,
   "metadata": {
    "collapsed": true
   },
   "outputs": [],
   "source": [
    "# Write code here that uses the generator function\n",
    "#   remember that you must initialize the generator\n",
    "\n",
    "# Create the iterator object using the generator (starting number is 0 here)\n",
    "gen = ___(0)\n",
    "\n",
    "# Print first 5 primes after the starting input number\n",
    "for n in range(5):\n",
    "    print(___(gen))"
   ]
  },
  {
   "cell_type": "markdown",
   "metadata": {
    "collapsed": true
   },
   "source": [
    "---\n",
    "Created by a Microsoft Employee.\n",
    "\t\n",
    "The MIT License (MIT)<br>\n",
    "Copyright (c) 2016"
   ]
  },
  {
   "cell_type": "code",
   "execution_count": null,
   "metadata": {
    "collapsed": true
   },
   "outputs": [],
   "source": []
  }
 ],
 "metadata": {
  "kernelspec": {
   "display_name": "Python 3",
   "language": "python",
   "name": "python3"
  },
  "language_info": {
   "codemirror_mode": {
    "name": "ipython",
    "version": 3
   },
   "file_extension": ".py",
   "mimetype": "text/x-python",
   "name": "python",
   "nbconvert_exporter": "python",
   "pygments_lexer": "ipython3",
   "version": "3.5.1"
  },
  "nav_menu": {},
  "toc": {
   "navigate_menu": true,
   "number_sections": true,
   "sideBar": true,
   "threshold": 6,
   "toc_cell": false,
   "toc_section_display": "block",
   "toc_window_display": false
  }
 },
 "nbformat": 4,
 "nbformat_minor": 0
}
