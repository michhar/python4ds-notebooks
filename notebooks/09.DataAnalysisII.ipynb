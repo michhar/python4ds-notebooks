{
 "cells": [
  {
   "cell_type": "markdown",
   "metadata": {},
   "source": [
    "# Data Analysis II Using `pandas`"
   ]
  },
  {
   "cell_type": "markdown",
   "metadata": {},
   "source": [
    "## <img src='https://az712634.vo.msecnd.net/notebooks/python_course/v1/workflow2.png' alt=\"Smiley face\" width=\"42\" height=\"42\" align=\"left\">Learning Objectives\n",
    "---\n",
    "* Learn how to sort in a `pandas` dataframe\n",
    "* See how grouping data works\n",
    "* Become familiar with concatenating and merging dataframes\n",
    "* Learn how to work with hierarchical indices on dataframes\n",
    "* See how to work with pivot tables\n",
    "* See how to get summary statistics"
   ]
  },
  {
   "cell_type": "code",
   "execution_count": null,
   "metadata": {
    "collapsed": true
   },
   "outputs": [],
   "source": [
    "import pandas as pd\n",
    "import numpy as np"
   ]
  },
  {
   "cell_type": "markdown",
   "metadata": {},
   "source": [
    "### Sorting"
   ]
  },
  {
   "cell_type": "code",
   "execution_count": null,
   "metadata": {
    "collapsed": false
   },
   "outputs": [],
   "source": [
    "df = pd.DataFrame({'letter': ['c', 'a', 'b', 'b','c', 'a', 'b', 'a','c'],\n",
    "                   'number': [4, 3, 5, 2, 1, 7, 7, 5, 3]},\n",
    "                 index = range(1, 10))\n",
    "df"
   ]
  },
  {
   "cell_type": "code",
   "execution_count": null,
   "metadata": {
    "collapsed": false
   },
   "outputs": [],
   "source": [
    "# Here we pick the columns from the dataframe \n",
    "#   and sort first by 'letter', then by 'number'\n",
    "df[['letter', 'number']].sort_values(by = ['letter', 'number'])\n",
    "\n",
    "# What happens if we switch the order of the values in the 'by' arg?  try this...\n"
   ]
  },
  {
   "cell_type": "markdown",
   "metadata": {},
   "source": [
    "###  Grouping\n",
    "* Use to split, apply and combine"
   ]
  },
  {
   "cell_type": "code",
   "execution_count": null,
   "metadata": {
    "collapsed": false
   },
   "outputs": [],
   "source": [
    "from IPython.display import display_html\n",
    "\n",
    "# Using this dataframe\n",
    "df = pd.DataFrame({'letter': ['c', 'a', 'b', 'b','c', 'a', 'b', 'a','c'],\n",
    "                   'number': [4, 3, 5, 2, 1, 7, 7, 5, 3]},\n",
    "                 index = range(1, 10))\n",
    "\n",
    "# Let's group by letter and get\n",
    "grouped = df.groupby('letter')\n",
    "\n",
    "# Now let's iterate through our groupby object\n",
    "for name, stuff in grouped:\n",
    "    print(name)\n",
    "    display_html(stuff)"
   ]
  },
  {
   "cell_type": "markdown",
   "metadata": {},
   "source": [
    "<b>Let's do something a bit more complicated with `groupby`</b>\n",
    "* Personally, I think this is the most useful feature of `groupby` - applying a custom function to group data based on a criterion.\n",
    "[pandas docs here]: http://pandas.pydata.org/pandas-docs/version/0.16.2/merging.html\n",
    "* Note:  I borrowed and modified this dataset based one in the [pandas docs here]"
   ]
  },
  {
   "cell_type": "code",
   "execution_count": null,
   "metadata": {
    "collapsed": false
   },
   "outputs": [],
   "source": [
    "import datetime\n",
    "from IPython.display import display_html\n",
    "\n",
    "# Here's a dataframe with some letters as columns and dates as indices\n",
    "df = pd.DataFrame({'A': ['A0', 'A1', 'A2', 'A3'],\n",
    "                 'B': ['B0', 'B1', 'B2', 'B3'],\n",
    "                 'C': ['C0', 'C1', 'C2', 'C3'],\n",
    "                 'D': ['D0', 'D1', 'D2', 'D3'],\n",
    "                 'E': ['E0', 'E1', 'E2', 'E3']},\n",
    "                 index = pd.date_range('1974-01-01', periods=4))\n",
    "\n",
    "print('original df')\n",
    "display_html(df)\n",
    "\n",
    "# Let's designate a date\n",
    "adate = datetime.datetime(1974, 1, 1)\n",
    "\n",
    "# An anonymous function checking the dates\n",
    "func = lambda x: 'later' if x > adate else 'earlier'\n",
    "\n",
    "# Apply our function to the dataframe\n",
    "grouped = df.groupby(func)\n",
    "\n",
    "#  Print groups\n",
    "for key, values in grouped:\n",
    "    print(key)\n",
    "    display_html(values)"
   ]
  },
  {
   "cell_type": "markdown",
   "metadata": {},
   "source": [
    "EXERCISE 1:  Splitting up a dataframe's columns with `groupby`\n",
    "<br><br>\n",
    "Using the dataframe from above,\n",
    "```python\n",
    "df = pd.DataFrame({'A': ['A0', 'A1', 'A2', 'A3'],\n",
    "                 'B': ['B0', 'B1', 'B2', 'B3'],\n",
    "                 'C': ['C0', 'C1', 'C2', 'C3'],\n",
    "                 'D': ['D0', 'D1', 'D2', 'D3'],\n",
    "                 'E': ['E0', 'E1', 'E2', 'E3']},\n",
    "                 index = pd.date_range('1974-01-01', periods=4))\n",
    "```\n",
    "<br>\n",
    "and this function\n",
    "```python\n",
    "func = lambda x: 'vowel' if x.lower() in 'aeiou' else 'consonant'\n",
    "```\n",
    "<br>\n",
    "split the dataframe's columns and print the groups.  HINT:  check out the `groupby` help and use the `axis` argument."
   ]
  },
  {
   "cell_type": "code",
   "execution_count": null,
   "metadata": {
    "collapsed": true
   },
   "outputs": [],
   "source": [
    "# Code up your solution here..."
   ]
  },
  {
   "cell_type": "markdown",
   "metadata": {},
   "source": [
    "### Concatenating\n",
    "[pandas docs for merging]: http://pandas.pydata.org/pandas-docs/version/0.16.2/merging.html\n",
    "* This dataset was partly \"borrowed\" from the [pandas docs for merging]"
   ]
  },
  {
   "cell_type": "code",
   "execution_count": null,
   "metadata": {
    "collapsed": false
   },
   "outputs": [],
   "source": [
    "#  I like this dataset because it is very easy on the eyes\n",
    "\n",
    "df1 = pd.DataFrame({'A': ['A0', 'A1', 'A2', 'A3'],\n",
    "                 'B': ['B0', 'B1', 'B2', 'B3'],\n",
    "                 'C': ['C0', 'C1', 'C2', 'C3'],\n",
    "                 'D': ['D0', 'D1', 'D2', 'D3']},\n",
    "                index=[0, 1, 2, 3])\n",
    "\n",
    "df2 = pd.DataFrame({'A': ['A4', 'A5', 'A6', 'A7'],\n",
    "                    'B': ['B4', 'B5', 'B6', 'B7'],\n",
    "                    'C': ['C4', 'C5', 'C6', 'C7'],\n",
    "                    'D': ['D4', 'D5', 'D6', 'D7']},\n",
    "                   index=[4, 5, 6, 7])\n",
    "\n",
    "df3 = pd.DataFrame({'A': ['A8', 'A9', 'A10', 'A11'],\n",
    "                 'B': ['B8', 'B9', 'B10', 'B11'],\n",
    "                 'C': ['C8', 'C9', 'C10', 'C11'],\n",
    "                 'D': ['D8', 'D9', 'D10', 'D11']},\n",
    "                index=[8, 9, 10, 11])\n",
    "\n",
    "dfs = [df1, df2, df3]"
   ]
  },
  {
   "cell_type": "code",
   "execution_count": null,
   "metadata": {
    "collapsed": false
   },
   "outputs": [],
   "source": [
    "bigdf = pd.concat(dfs, keys=['apples', 'oranges', 'carrots'])\n",
    "\n",
    "# Two things happened here: stacked dataframes and added a new index column (of fruit)\n",
    "\n",
    "# let's name our indices\n",
    "bigdf.index.names = ['fruit', 'index']\n",
    "\n",
    "bigdf"
   ]
  },
  {
   "cell_type": "markdown",
   "metadata": {},
   "source": [
    "The additional indices above created what is called a <b>hierarchical index</b> or <b>`MultiIndex`</b> (create it different ways as shown [here](http://pandas.pydata.org/pandas-docs/stable/advanced.html#creating-a-multiindex-hierarchical-index-object)).  Just FYI, you can have a `MultiIndex` on the columns as well as rows (which could help with subsetting a dataframe in fancy ways).\n",
    "<br><br>\n",
    "Now, we can slice out things in a couple of interesting ways...but first let's start with some different data for reasons to become clear."
   ]
  },
  {
   "cell_type": "code",
   "execution_count": null,
   "metadata": {
    "collapsed": false
   },
   "outputs": [],
   "source": [
    "# This data has numerical indices\n",
    "df1 = pd.DataFrame({'A': ['A0', 'A1', 'A2', 'A3'],\n",
    "                 'B': ['B0', 'B1', 'B2', 'B3'],\n",
    "                 'C': ['C0', 'C1', 'C2', 'C3'],\n",
    "                 'D': ['D0', 'D1', 'D2', 'D3']},\n",
    "                index=[1, 3, 7, 8])\n",
    "\n",
    "# This data has lettered indices\n",
    "df2 = pd.DataFrame({'A': ['A4', 'A5', 'A6', 'A7'],\n",
    "                    'B': ['B4', 'B5', 'B6', 'B7'],\n",
    "                    'C': ['C4', 'C5', 'C6', 'C7'],\n",
    "                    'D': ['D4', 'D5', 'D6', 'D7']},\n",
    "                   index=['e', 'f', 'g', 'h'])\n",
    "\n",
    "# let's concatenate these and create a hierarchical index with keys\n",
    "bigdf = pd.concat([df1, df2], keys = ['coffee', 'tea'])\n",
    "\n",
    "# Add labels to the indices\n",
    "bigdf.index.names = ['outer', 'inner']\n",
    "\n",
    "bigdf"
   ]
  },
  {
   "cell_type": "markdown",
   "metadata": {},
   "source": [
    "<b>Selecting/indexing with `[], .loc, .ix` and `.iloc`</b><br>\n",
    "* This is a a bit tangential, yet really important and often confusing\n",
    "\n",
    "<i>Selecting(/slicing/subscripting) is generally on the <b>values</b> or <b>label names</b> of the index for `[], .ix, .loc` and always <b>positional</b> with `.iloc`</i>.  There are cases where `.ix` is really useful for mixed label-positional indexing (although you can do this with `.loc`).  Slicing, however, is ALWAYS on values/labels with `[], .ix, .loc` (even if the label is an integer - often the confusion).<br>\n",
    "<br>e.g. for the above MultiIndex, the first row has an 'outer' index label of 'coffee' and an inner label of '0'.  This first row also has the positional index of 0 for both the outer and inner index."
   ]
  },
  {
   "cell_type": "code",
   "execution_count": null,
   "metadata": {
    "collapsed": false
   },
   "outputs": [],
   "source": [
    "# Label-based indexing with loc by the outer index ('coffee')\n",
    "bigdf.loc['coffee']"
   ]
  },
  {
   "cell_type": "code",
   "execution_count": null,
   "metadata": {
    "collapsed": false
   },
   "outputs": [],
   "source": [
    "# Label-based indexing with ix by the outer index ('coffee')\n",
    "bigdf.ix['coffee']"
   ]
  },
  {
   "cell_type": "code",
   "execution_count": null,
   "metadata": {
    "collapsed": false
   },
   "outputs": [],
   "source": [
    "# Positional-based indexing with iloc on \"0\" - what is 0 here?\n",
    "bigdf.iloc[0]"
   ]
  },
  {
   "cell_type": "markdown",
   "metadata": {},
   "source": [
    "You may have noticed, we used labels in the case of `.ix` and `.loc` and a positional argument in the place of `.iloc`.  `.loc` would NOT have worked with a positional argument (even though \"0\" can technically be a label) as the first argument.  `.ix` DOES work with a positional argument and treats it as such by default.  Also, `.ix` and `.loc` CAN use mixed-typed values, but `.iloc` CAN NOT have a positional as the first argument:\n",
    "```python\n",
    "# Mix of label-based and positional-based indexing\n",
    "bigdf.ix['coffee', 1]\n",
    "bigdf.loc['coffee', 1]\n",
    "```"
   ]
  },
  {
   "cell_type": "markdown",
   "metadata": {},
   "source": [
    "EXERCISE 2:  Heirarchical indices and subscripting\n",
    "* Create a dataframe with this data, with a hierarchical index of two levels:\n",
    "```python\n",
    "data = {'A': ['A0', 'A1', 'A2', 'A3'],\n",
    "                 'B': ['B0', 'B1', 'B2', 'B3'],\n",
    "                 'C': ['C0', 'C1', 'C2', 'C3'],\n",
    "                 'D': ['D0', 'D1', 'D2', 'D3']}\n",
    "```\n",
    "It should look like this:\n",
    "\n",
    "<img src='https://az712634.vo.msecnd.net/notebooks/python_course/v1/exercise_df.png' width=\"250\" height=\"250\"><br><br>\n",
    "* Subscript by the numerical index with .ix and .iloc\n",
    "* Show the difference between subscripting with `[]` and `[[]]`\n",
    "* HINT:  A trick to get the hierarchical index, the MultiIndex, you can do the following and pass to index arg when making dataframe:\n",
    "```python\n",
    "arrays = [np.array([1, 2, 1, 2]), np.array([3, 4, 7, 8])]\n",
    "tuples = list(zip(*arrays))\n",
    "multiidx = pd.MultiIndex.from_tuples(tuples, names=('first', 'second'))\n",
    "```"
   ]
  },
  {
   "cell_type": "code",
   "execution_count": null,
   "metadata": {
    "collapsed": true
   },
   "outputs": [],
   "source": [
    "# Code up your solution here..."
   ]
  },
  {
   "cell_type": "markdown",
   "metadata": {},
   "source": [
    "### Concatenating on different axis"
   ]
  },
  {
   "cell_type": "code",
   "execution_count": null,
   "metadata": {
    "collapsed": false
   },
   "outputs": [],
   "source": [
    "df1 = pd.DataFrame({'A': ['A0', 'A1', 'A2', 'A3'],\n",
    "                 'B': ['B0', 'B1', 'B2', 'B3'],\n",
    "                 'C': ['C0', 'C1', 'C2', 'C3'],\n",
    "                 'D': ['D0', 'D1', 'D2', 'D3']},\n",
    "                index=[0, 1, 2, 3])\n",
    "\n",
    "df2 = pd.DataFrame({'A': ['A1', 'A2', 'A3', 'A4'],\n",
    "                    'B': ['B1', 'B2', 'B3', 'B4'],\n",
    "                    'C': ['C1', 'C2', 'C3', 'C4'],\n",
    "                    'D': ['D1', 'D2', 'D3', 'D4']},\n",
    "                   index=[1, 2, 3, 4])\n",
    "\n",
    "# Add axis arg to set axis upon which to concatenate\n",
    "bigdf = pd.concat([df1, df2], axis = 1)\n",
    "bigdf"
   ]
  },
  {
   "cell_type": "markdown",
   "metadata": {},
   "source": [
    "### Append"
   ]
  },
  {
   "cell_type": "code",
   "execution_count": null,
   "metadata": {
    "collapsed": false
   },
   "outputs": [],
   "source": [
    "df1 = pd.DataFrame({'A': ['A0', 'A1', 'A2', 'A3'],\n",
    "                 'B': ['B0', 'B1', 'B2', 'B3'],\n",
    "                 'C': ['C0', 'C1', 'C2', 'C3'],\n",
    "                 'D': ['D0', 'D1', 'D2', 'D3']},\n",
    "                index=[0, 1, 2, 3])\n",
    "\n",
    "df2 = pd.DataFrame({'A': ['A1', 'A2', 'A3', 'A4'],\n",
    "                    'B': ['B1', 'B2', 'B3', 'B4'],\n",
    "                    'C': ['C1', 'C2', 'C3', 'C4'],\n",
    "                    'D': ['D1', 'D2', 'D3', 'D4']},\n",
    "                   index=[1, 2, 3, 4])\n",
    "\n",
    "bigdf = df1.append(df2)\n",
    "bigdf"
   ]
  },
  {
   "cell_type": "markdown",
   "metadata": {},
   "source": [
    "<b>As it is apparent that `append` and `concat` do the same thing, the following table might help you choose one or the other.</b>"
   ]
  },
  {
   "cell_type": "markdown",
   "metadata": {},
   "source": [
    "#### `concat` vs. `append`\n",
    "\n",
    "<table style=\"width:65%\" align=\"left\">\n",
    "  <tr>\n",
    "    <td><b>Method</b></td>\n",
    "    <td><b>Useful For</b></td>\n",
    "    <td><b>Limitations</b></td>\n",
    "    <td><b>Efficiency</b></td>\n",
    "    <td><b>Returns</b></td>\n",
    "  </tr>\n",
    "  <tr>\n",
    "    <td><b>`concat`</b></td>\n",
    "    <td>concatenating dataframes on any axis; set logic; hierarchical indexing</td>\t\t\n",
    "    <td>with a `Series`, can only concatenate as new column</td>\n",
    "    <td>good, but be careful when performing this repeatedly</td>\n",
    "    <td>a copy, i.e., a new dataframe</td>\n",
    "  </tr>\n",
    "  <tr>\n",
    "    <td><b>`append`</b></td>\n",
    "    <td>appending a `Series`, i.e., one row</td>\n",
    "    <td>only adds objects on index axis (row-wise)</td>\n",
    "    <td>much less efficient than concatenation (it's a predecessor to `concat`)</td>\n",
    "    <td>a copy, i.e., a new dataframe</td>\n",
    "  </tr>\n",
    "</table>"
   ]
  },
  {
   "cell_type": "markdown",
   "metadata": {},
   "source": [
    "EXERCISE 3:  Appending a `Series` to a dataframe\n",
    "<br>\n",
    "Append the series and dataframe below\n",
    "\n",
    "```python\n",
    "df = pd.DataFrame({'HPI':[80,85,88,85],\n",
    "                    'Int_rate':[2, 3, 2, 2],\n",
    "                    'US_GDP_Thousands':[50, 55, 65, 55]},\n",
    "                   index = [2001, 2002, 2003, 2004])\n",
    "                   \n",
    "s = pd.Series({'HPI': 82,\n",
    "                    'Int_rate': 3,\n",
    "                    'US_GDP_Thousands': 65},\n",
    "                   index = 2006)\n",
    "```\n",
    "<br>\n",
    "<b>Note:</b>\n",
    "* MUST use the keyword/value `ignore_index = True` when appending a `Series`, UNLESS `Series` has a name\n",
    "* Try appending both ways (to use a name, use keyword/value:  `name = 'some name'` when initializing the `Series`)\n",
    "* Finally, let's set the index of the resulting dataframe with method `set_index` like\n",
    "```python\n",
    "our_df.set_index(pd.Series([2001, 2002, 2003, 2004, 2005]))\n",
    "```"
   ]
  },
  {
   "cell_type": "code",
   "execution_count": null,
   "metadata": {
    "collapsed": true
   },
   "outputs": [],
   "source": [
    "# Code up your solution here..."
   ]
  },
  {
   "cell_type": "markdown",
   "metadata": {},
   "source": [
    "### Merging"
   ]
  },
  {
   "cell_type": "code",
   "execution_count": null,
   "metadata": {
    "collapsed": false
   },
   "outputs": [],
   "source": [
    "df1 = pd.DataFrame({'A': ['A0', 'A1', 'A2', 'A3'],\n",
    "                 'B': ['B0', 'B1', 'B2', 'B3'],\n",
    "                 'C': ['C0', 'C1', 'C2', 'C3'],\n",
    "                 'D': ['D0', 'D1', 'D2', 'D3']})\n",
    "\n",
    "df2 = pd.DataFrame({'A': ['A1', 'A2', 'A3', 'A4'],\n",
    "                    'E': ['E1', 'E2', 'E3', 'E4'],\n",
    "                    'F': ['F1', 'F2', 'F3', 'F4']})"
   ]
  },
  {
   "cell_type": "code",
   "execution_count": null,
   "metadata": {
    "collapsed": false
   },
   "outputs": [],
   "source": [
    "pd.merge(df1, df2, on = 'A')"
   ]
  },
  {
   "cell_type": "markdown",
   "metadata": {},
   "source": [
    "`merge` combines two dataframes with an `inner` join.  Modify the above code by adding the keyword/values:\n",
    "```python\n",
    "how = outer\n",
    "how = left \n",
    "how = right\n",
    "```"
   ]
  },
  {
   "cell_type": "markdown",
   "metadata": {},
   "source": [
    "### Pivot tables"
   ]
  },
  {
   "cell_type": "code",
   "execution_count": null,
   "metadata": {
    "collapsed": false
   },
   "outputs": [],
   "source": [
    "# This might be eerily familiar if you know R (package and data are of same name)\n",
    "from ggplot import mtcars\n",
    "\n",
    "mtcars.columns"
   ]
  },
  {
   "cell_type": "markdown",
   "metadata": {},
   "source": [
    "<b>So, I'm wondering...how many of the cars in our dataset have an automatic transmission and 8 cylinders and how does this compare to other numbers of cylinders?</b>"
   ]
  },
  {
   "cell_type": "code",
   "execution_count": null,
   "metadata": {
    "collapsed": false
   },
   "outputs": [],
   "source": [
    "# We can get all this information from a pivot table!\n",
    "pd.pivot_table(data = mtcars,\n",
    "               index = 'cyl',\n",
    "               columns = 'am',\n",
    "               values = 'mpg', # this will just pull in one column, not mpg data\n",
    "               aggfunc = 'count')"
   ]
  },
  {
   "cell_type": "markdown",
   "metadata": {},
   "source": [
    "<b>Try writing your own aggregate function!</b>"
   ]
  },
  {
   "cell_type": "markdown",
   "metadata": {},
   "source": [
    "### Descriptive statistics on dataframes"
   ]
  },
  {
   "cell_type": "code",
   "execution_count": null,
   "metadata": {
    "collapsed": false
   },
   "outputs": [],
   "source": [
    "# create some toy data\n",
    "df = pd.DataFrame({'A': list('abccbdefff'),\n",
    "                   'B': np.random.randint(-5, 5, size = 10)})\n",
    "df"
   ]
  },
  {
   "cell_type": "code",
   "execution_count": null,
   "metadata": {
    "collapsed": false
   },
   "outputs": [],
   "source": [
    "# pandas 'describe' (like Rs summary function)\n",
    "df.describe()"
   ]
  },
  {
   "cell_type": "markdown",
   "metadata": {},
   "source": [
    "By default `describe()` will only operate on numerical columns.  To operate on both:"
   ]
  },
  {
   "cell_type": "code",
   "execution_count": null,
   "metadata": {
    "collapsed": false
   },
   "outputs": [],
   "source": [
    "df.describe(include = 'all')"
   ]
  },
  {
   "cell_type": "code",
   "execution_count": null,
   "metadata": {
    "collapsed": false
   },
   "outputs": [],
   "source": [
    "# toy data of 3 arrays, each a normal dist with different standard dev\n",
    "df = pd.DataFrame({'a': np.random.normal(loc = 0.0, scale = 1.0, size = 1000),\n",
    "                   'b': np.random.normal(loc = 0.0, scale = 2.0, size = 1000),\n",
    "                   'c': np.random.normal(loc = 0.0, scale = 3.0, size = 1000)})\n",
    "\n",
    "# peek at top 5 rows\n",
    "df.head()"
   ]
  },
  {
   "cell_type": "code",
   "execution_count": null,
   "metadata": {
    "collapsed": false
   },
   "outputs": [],
   "source": [
    "# do these standard devs look right?\n",
    "df.std()"
   ]
  },
  {
   "cell_type": "markdown",
   "metadata": {},
   "source": [
    "### References\n",
    "1. http://pandas.pydata.org/pandas-docs/version/0.16.2/groupby.html\n",
    "* http://pandas.pydata.org/pandas-docs/version/0.16.2/basics.html#descriptive-statistics"
   ]
  },
  {
   "cell_type": "markdown",
   "metadata": {
    "collapsed": true
   },
   "source": [
    "Created by a Microsoft Employee.\n",
    "\t\n",
    "The MIT License (MIT)<br>\n",
    "Copyright (c) 2016"
   ]
  },
  {
   "cell_type": "code",
   "execution_count": null,
   "metadata": {
    "collapsed": true
   },
   "outputs": [],
   "source": []
  }
 ],
 "metadata": {
  "kernelspec": {
   "display_name": "Python 3",
   "language": "python",
   "name": "python3"
  },
  "language_info": {
   "codemirror_mode": {
    "name": "ipython",
    "version": 3
   },
   "file_extension": ".py",
   "mimetype": "text/x-python",
   "name": "python",
   "nbconvert_exporter": "python",
   "pygments_lexer": "ipython3",
   "version": "3.5.1"
  }
 },
 "nbformat": 4,
 "nbformat_minor": 0
}
