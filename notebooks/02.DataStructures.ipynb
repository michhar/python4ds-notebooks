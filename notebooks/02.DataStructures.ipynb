{
 "cells": [
  {
   "cell_type": "markdown",
   "metadata": {
    "collapsed": true
   },
   "source": [
    "# Introduction to Data Structures"
   ]
  },
  {
   "cell_type": "markdown",
   "metadata": {},
   "source": [
    "## <img src='https://az712634.vo.msecnd.net/notebooks/python_course/v1/park.png' alt=\"Smiley face\" width=\"80\" height=\"42\" align=\"left\">   Learning Objectives\n",
    "* * *\n",
    "* Learn about mutable and immutable data structures\n",
    "* See how to use these data structures for useful purposes\n",
    "* Learn how to apply simple functions using comprehensions"
   ]
  },
  {
   "cell_type": "markdown",
   "metadata": {
    "collapsed": true
   },
   "source": [
    "### Lists\n",
    "Lists are really arrays or vectors. They are denoted with brackets.  They are mutable."
   ]
  },
  {
   "cell_type": "code",
   "execution_count": null,
   "metadata": {
    "collapsed": false
   },
   "outputs": [],
   "source": [
    "['a', 'c', 'e']"
   ]
  },
  {
   "cell_type": "markdown",
   "metadata": {},
   "source": [
    "They can be nested as follows\n",
    "* Note:  They may have mixed types, but generally tuples (next) are used for that"
   ]
  },
  {
   "cell_type": "code",
   "execution_count": null,
   "metadata": {
    "collapsed": false
   },
   "outputs": [],
   "source": [
    "a = [23, 42, 18]\n",
    "[-1, 0, 1, a]"
   ]
  },
  {
   "cell_type": "markdown",
   "metadata": {},
   "source": [
    "We can make a list of lists"
   ]
  },
  {
   "cell_type": "code",
   "execution_count": null,
   "metadata": {
    "collapsed": false
   },
   "outputs": [],
   "source": [
    "a = [23, 42, 18]\n",
    "b = [30, 60, 90]\n",
    "[a, b, []]"
   ]
  },
  {
   "cell_type": "markdown",
   "metadata": {},
   "source": [
    "Subscripting\n",
    "> Hey!  In Python the index starts at 0."
   ]
  },
  {
   "cell_type": "code",
   "execution_count": null,
   "metadata": {
    "collapsed": false
   },
   "outputs": [],
   "source": [
    "# Take our list from above and subscript out second element\n",
    "a[1]"
   ]
  },
  {
   "cell_type": "markdown",
   "metadata": {},
   "source": [
    "Slicing\n",
    "> Watch out!  The ending index in a slice is excluded."
   ]
  },
  {
   "cell_type": "code",
   "execution_count": null,
   "metadata": {
    "collapsed": false
   },
   "outputs": [],
   "source": [
    "# Slice out the second element\n",
    "a[1:2]"
   ]
  },
  {
   "cell_type": "markdown",
   "metadata": {},
   "source": [
    "Assignment with subscripting and slicing"
   ]
  },
  {
   "cell_type": "code",
   "execution_count": null,
   "metadata": {
    "collapsed": false
   },
   "outputs": [],
   "source": [
    "# A list\n",
    "a = ['c', 'a', 't', [23, 42, 18]]\n",
    "\n",
    "# A re-assignment of the first element\n",
    "a[0] = 'b'\n",
    "\n",
    "print(a)"
   ]
  },
  {
   "cell_type": "code",
   "execution_count": null,
   "metadata": {
    "collapsed": false
   },
   "outputs": [],
   "source": [
    "a = ['c', 'a', 't', [23, 42, 18]]\n",
    "\n",
    "# If there's no start, we start from the beginning\n",
    "# Here we reassign the first, second and third elements using slicing syntax\n",
    "a[:3] = ['d', 'o', 'g']\n",
    "\n",
    "print(a)"
   ]
  },
  {
   "cell_type": "markdown",
   "metadata": {},
   "source": [
    "Looping over a list"
   ]
  },
  {
   "cell_type": "code",
   "execution_count": null,
   "metadata": {
    "collapsed": false
   },
   "outputs": [],
   "source": [
    "for item in a:\n",
    "    print(item)"
   ]
  },
  {
   "cell_type": "markdown",
   "metadata": {},
   "source": [
    "Unpacking a list"
   ]
  },
  {
   "cell_type": "code",
   "execution_count": null,
   "metadata": {
    "collapsed": false
   },
   "outputs": [],
   "source": [
    "# We can unpack items in a list:\n",
    "x, y, z = [8, 9, 10]\n",
    "print(x)\n",
    "print(y)"
   ]
  },
  {
   "cell_type": "markdown",
   "metadata": {},
   "source": [
    "> Note:  We can unpack an *unknown* number of variables with the `*` notation\n",
    "```python\n",
    "x, *n = container\n",
    "```\n",
    "e.g. n will get [9, 10]\n",
    "```python\n",
    "x, *n = [8, 9, 10]\n",
    "```"
   ]
  },
  {
   "cell_type": "markdown",
   "metadata": {
    "collapsed": true
   },
   "source": [
    "`append`, `extend`, `insert`, and `pop`\n",
    "* A Trick:  use the list() function to convert a string into a list of characters"
   ]
  },
  {
   "cell_type": "code",
   "execution_count": null,
   "metadata": {
    "collapsed": false
   },
   "outputs": [],
   "source": [
    "# Split string into characters (one way at least)\n",
    "a = list('ca')\n",
    "a"
   ]
  },
  {
   "cell_type": "code",
   "execution_count": null,
   "metadata": {
    "collapsed": false
   },
   "outputs": [],
   "source": [
    "# Add an element to end of list (append)\n",
    "a.append('t')\n",
    "a"
   ]
  },
  {
   "cell_type": "code",
   "execution_count": null,
   "metadata": {
    "collapsed": false
   },
   "outputs": [],
   "source": [
    "# Let's create another list\n",
    "b = list('thehats')\n",
    "\n",
    "# Extend list a with b\n",
    "a.extend(b)\n",
    "a"
   ]
  },
  {
   "cell_type": "code",
   "execution_count": null,
   "metadata": {
    "collapsed": false
   },
   "outputs": [],
   "source": [
    "# Insert some letters at a particular index\n",
    "a.insert(3, 'i')\n",
    "a.insert(4, 'n')\n",
    "a"
   ]
  },
  {
   "cell_type": "code",
   "execution_count": null,
   "metadata": {
    "collapsed": false
   },
   "outputs": [],
   "source": [
    "# Remove last element\n",
    "r = a.pop()\n",
    "\n",
    "# What did we just remove?\n",
    "print(r)\n",
    "\n",
    "# What is in 'a' now?\n",
    "print(a)"
   ]
  },
  {
   "cell_type": "markdown",
   "metadata": {},
   "source": [
    "<b>Consider</b> looking into the `collections` module for fancier list-like containers such as the `deque`, which efficiently appends and pops from the beginning <i>and</i> end of the list-like collection.  See <a href=\"https://docs.python.org/3.4/library/collections.html#collections.deque\">deque python documentation</a>."
   ]
  },
  {
   "cell_type": "markdown",
   "metadata": {},
   "source": [
    "EXERCISE 1: Make a stack\n",
    "* populate two lists (our stacks) with the characters in these two strings: 'teoeauy' (for stack 1) and 'indvho' (for stack 2)\n",
    "* create a third stack from these two stacks by \"popping\" elements in an alternating manner starting with stack 1\n",
    "* confirm stack 1 and 2 are empty, and stack 3 contains the contents"
   ]
  },
  {
   "cell_type": "code",
   "execution_count": null,
   "metadata": {
    "collapsed": true
   },
   "outputs": [],
   "source": [
    "# Go ahead and add your code to this cell\n",
    "s1 = list('teoeauy')\n",
    "s2 = list('indvho')\n",
    "s3 = []\n",
    "\n",
    "# ... your code goes here...\n",
    "# HINT:  pop() from s1 and s2 alternatingly until empty, while doing an append() to s3\n",
    "\n",
    "print(s1, s2, s3, sep='\\n')"
   ]
  },
  {
   "cell_type": "markdown",
   "metadata": {},
   "source": [
    "<b>List comprehension</b>\n",
    "* In the most simple case, it takes the form\n",
    "\n",
    "```python\n",
    "[dosomethingwithx for x in sequence]\n",
    "```\n",
    "\n",
    "* Returns a list\n",
    "* Very flexible\n",
    "  * Can have conditional statements\n",
    "  ```python\n",
    "  [dosomethingwithx for x in sequence if x somecondition]\n",
    "  [dosomethingwithx if somecondition else dosomethingelsewithx for x in sequence]\n",
    "  ```\n",
    "  * Can nest list comprehension within list comprehension (see below!)\n",
    "* The possibilities are <b>endless</b>!!!"
   ]
  },
  {
   "cell_type": "code",
   "execution_count": null,
   "metadata": {
    "collapsed": false
   },
   "outputs": [],
   "source": [
    "# Square all values in a sequence and return a list\n",
    "[x**2 for x in [1, 2, 3]]"
   ]
  },
  {
   "cell_type": "code",
   "execution_count": null,
   "metadata": {
    "collapsed": true
   },
   "outputs": [],
   "source": [
    "# An 'if' statement in list comprehension\n",
    "# Here we square x and return that value if x is an even number\n",
    "[x**2 for x in range(10) if x % 2 == 0]"
   ]
  },
  {
   "cell_type": "code",
   "execution_count": null,
   "metadata": {
    "collapsed": false
   },
   "outputs": [],
   "source": [
    "# An 'if/else' statement in list comprehension\n",
    "# Hey!  Note the location change of the 'if' part of this 'if/else' compared to previous example\n",
    "[x**2 if x % 2 == 0 else x for x in range(10)]"
   ]
  },
  {
   "cell_type": "code",
   "execution_count": null,
   "metadata": {
    "collapsed": false
   },
   "outputs": [],
   "source": [
    "# Nifty way to create a list of lists (also called a 2D array)\n",
    "[[x for x in range(5)] for y in range(4)]"
   ]
  },
  {
   "cell_type": "markdown",
   "metadata": {},
   "source": [
    "EXERCISE 2\n",
    "* Using list comprehension, convert all occurrences of the letter 'e' in the following string to uppercase:\n",
    "`thepurposeoflife`\n",
    "* To convert a string to uppercase it is simply\n",
    "```python\n",
    "upperstr = 'somestring'.upper()\n",
    "```"
   ]
  },
  {
   "cell_type": "markdown",
   "metadata": {
    "collapsed": false
   },
   "source": [
    "e.g.\n",
    "```python\n",
    "# place your string here\n",
    "letters = list(___)\n",
    "\n",
    "# place your list comprehension below\n",
    "output = [___]\n",
    "\n",
    "print(output)\n",
    "```"
   ]
  },
  {
   "cell_type": "markdown",
   "metadata": {
    "collapsed": true
   },
   "source": [
    "### Tuples\n",
    "Tuples are immutable and denoted by parentheses.  They are useful for:\n",
    "* storing records\n",
    "* returning multiple values from a function\n",
    "* as keys to a dictionary (we will see in a bit) in which you'd like to have a multi-valued key like a coordinate\n",
    "* storing stuff that you wish to protect from changes"
   ]
  },
  {
   "cell_type": "code",
   "execution_count": null,
   "metadata": {
    "collapsed": false
   },
   "outputs": [],
   "source": [
    "t = (0, 9, 'a')\n",
    "t"
   ]
  },
  {
   "cell_type": "markdown",
   "metadata": {},
   "source": [
    "<b>Tuple packing and unpacking</b>"
   ]
  },
  {
   "cell_type": "code",
   "execution_count": null,
   "metadata": {
    "collapsed": false
   },
   "outputs": [],
   "source": [
    "# Packing\n",
    "a = ('Michael Keaton', 'Batman', 1989, 7.6)\n",
    "\n",
    "# Unpacking\n",
    "actor, movie, year, rating = a\n",
    "print(actor)\n",
    "print(movie)\n",
    "print(year)\n",
    "print(rating)"
   ]
  },
  {
   "cell_type": "code",
   "execution_count": null,
   "metadata": {
    "collapsed": false
   },
   "outputs": [],
   "source": [
    "# A function to unpack a tuple of three\n",
    "def unpacktuple(tup):\n",
    "    a, b, c = tup\n",
    "    print('element 0 =', a)\n",
    "    print('element 1 =', b)\n",
    "    print('element 2 =', c)\n",
    "\n",
    "t = (2, 'z', True)\n",
    "unpacktuple(t)\n",
    "\n",
    "# Print tuple\n",
    "print('whole thing =', t)\n",
    "# Subscription\n",
    "print('subscription =', t[0])\n",
    "# Slicing\n",
    "print('slice =', t[0:2])\n",
    "\n",
    "\n",
    "# Looping over a tuple of tuples\n",
    "t = ((0, 9), (4, 5), (3, 6))\n",
    "\n",
    "for i, j in t:\n",
    "    print('tuple =', i, j)"
   ]
  },
  {
   "cell_type": "markdown",
   "metadata": {},
   "source": [
    "EXERCISE 3: tuples as records\n",
    "* Use the following tuple of tuples\n",
    "\n",
    "```python\n",
    "records = (('Sam', 19, 'CS'),\n",
    "           ('Nicole', 21, 'Biochemistry'),\n",
    "           ('Paul', 20, 'Fine Arts'),\n",
    "           ('Ashley', 18, 'History'))\n",
    "```\n",
    "* iterate over the `records`, unpack them, and print the results\n",
    "* This might be useful syntax for printing:\n",
    "\n",
    "```python\n",
    "print('%s and %d and %s', % ('a string', 10, 'another string'))\n",
    "```"
   ]
  },
  {
   "cell_type": "markdown",
   "metadata": {
    "collapsed": true
   },
   "source": [
    "* Make a function as well to complete the following:\n",
    "\n",
    "```python\n",
    "def showrecords(records):\n",
    "    '''Unpack records stored in a tuple of tuples and print each one in a nice format'''\n",
    "    ...\n",
    "    \n",
    "showrecords(___)\n",
    "```"
   ]
  },
  {
   "cell_type": "markdown",
   "metadata": {},
   "source": [
    "### Dictionaries\n",
    "Dictionaries are key/value pairs and are denoted by curly braces."
   ]
  },
  {
   "cell_type": "code",
   "execution_count": null,
   "metadata": {
    "collapsed": false
   },
   "outputs": [],
   "source": [
    "{'apples': 4,\n",
    " 'oranges': 1,\n",
    " 'grapes': 10,\n",
    " 'kiwi': 3}"
   ]
  },
  {
   "cell_type": "code",
   "execution_count": null,
   "metadata": {
    "collapsed": false
   },
   "outputs": [],
   "source": [
    "d = {'apples': 4,\n",
    " 'oranges': 1,\n",
    " 'grapes': 10,\n",
    " 'kiwi': 3}\n",
    "\n",
    "print('Keys:')\n",
    "# print keys\n",
    "for k in d:\n",
    "    print(k)\n",
    "\n",
    "print('\\nValues:')\n",
    "# print values\n",
    "for k in d:\n",
    "    print(d[k])\n",
    "    \n",
    "# Print it pretty\n",
    "for k, v in d.items():\n",
    "    print('We have %d %s' % (v, k))"
   ]
  },
  {
   "cell_type": "markdown",
   "metadata": {},
   "source": [
    "<b>Consider</b> looking into the `collections` module for fancier dict-like containers such as the `defaultdict` which makes it easier to initialize a dict that will contain other collections as values.  See <a href=\"https://docs.python.org/3.4/library/collections.html#collections.defaultdict\">defaultdict python documentation</a>."
   ]
  },
  {
   "cell_type": "markdown",
   "metadata": {
    "collapsed": true
   },
   "source": [
    "<b>Using `keys()`, `values()`, and `items()`</b>\n",
    "* Note these methods return iterable objects so if you'd like a list use the `list()` function"
   ]
  },
  {
   "cell_type": "code",
   "execution_count": null,
   "metadata": {
    "collapsed": false
   },
   "outputs": [],
   "source": [
    "print(d.keys())\n",
    "print(d.values())\n",
    "print(d.items())"
   ]
  },
  {
   "cell_type": "markdown",
   "metadata": {},
   "source": [
    "<b>Dictionary comprehension</b>"
   ]
  },
  {
   "cell_type": "code",
   "execution_count": null,
   "metadata": {
    "collapsed": false
   },
   "outputs": [],
   "source": [
    "# Quick way to make a dictionary from a different structure and perform an operation\n",
    "#  at the same time\n",
    "\n",
    "# Say we have some records in a tuple of tuples\n",
    "t = (('Sam', 3.9), ('Natalie', 4.0), ('Henry', 3.7))\n",
    "\n",
    "# Convert to a dictionary and increment a value at the same time\n",
    "d = {k: v + 1 for k, v in t}\n",
    "print(d)"
   ]
  },
  {
   "cell_type": "code",
   "execution_count": null,
   "metadata": {
    "collapsed": false
   },
   "outputs": [],
   "source": [
    "# Perform some math on any iterable and place result in a dictionary\n",
    "\n",
    "d = {x: x**2 for x in [1, 2, 3]}\n",
    "d"
   ]
  },
  {
   "cell_type": "markdown",
   "metadata": {},
   "source": [
    "EXERCISE 4\n",
    "\n",
    "Given this list of names:\n",
    "\n",
    "```python \n",
    "names = ['Amy', 'Sam', 'Chris', 'Sarah', 'Amy', 'Matthew', 'Chris', 'George']\n",
    "```\n",
    "\n",
    "Create a new dictionary using comprehension that counts the occurrences of a name.\n",
    "\n",
    "HINT:  can use the listname.count(element)"
   ]
  },
  {
   "cell_type": "markdown",
   "metadata": {
    "collapsed": true
   },
   "source": [
    "### Sets\n",
    "* Sets are an unordered collection of unique and immutable objects\n",
    "* They <b>can not</b> contain mutable objects (e.g. lists)\n",
    "* Sets are useful for fast membership testing\n",
    "* There is also <b>set comprehension</b>!"
   ]
  },
  {
   "cell_type": "code",
   "execution_count": null,
   "metadata": {
    "collapsed": false
   },
   "outputs": [],
   "source": [
    "# Empty set\n",
    "A = set()\n",
    "\n",
    "# Add some elements\n",
    "A.add(1)\n",
    "A.add(2)\n",
    "A.add(2) # 2 is added a second time\n",
    "A.add(3)\n",
    "print(A)"
   ]
  },
  {
   "cell_type": "code",
   "execution_count": null,
   "metadata": {
    "collapsed": false
   },
   "outputs": [],
   "source": [
    "from string import ascii_uppercase\n",
    "\n",
    "letters = ascii_uppercase\n",
    "\n",
    "# convert to set\n",
    "S = set(letters)\n",
    "print(S)"
   ]
  },
  {
   "cell_type": "markdown",
   "metadata": {},
   "source": [
    "Some set methods: `difference`, `intersection`, `union` and `symmetric_difference`"
   ]
  },
  {
   "cell_type": "code",
   "execution_count": null,
   "metadata": {
    "collapsed": false
   },
   "outputs": [],
   "source": [
    "A = set(letters[0:5])\n",
    "B = set(letters[1:3])\n",
    "print('A:', A, 'B:', B, sep='\\n')\n",
    "\n",
    "d = A.difference(B)\n",
    "print('Difference:', d)\n",
    "\n",
    "i = A.intersection(B)\n",
    "print('Intersection:', i)\n",
    "\n",
    "symmdiff = A.symmetric_difference(B)\n",
    "print('Symmetric difference:', symmdiff)"
   ]
  },
  {
   "cell_type": "markdown",
   "metadata": {},
   "source": [
    "Equivalent set operators"
   ]
  },
  {
   "cell_type": "code",
   "execution_count": null,
   "metadata": {
    "collapsed": false
   },
   "outputs": [],
   "source": [
    "# alternative of difference\n",
    "print(A - B)\n",
    "\n",
    "# alternative to intersection\n",
    "print(A & B)\n",
    "\n",
    "# alternative to union\n",
    "print(A | B)\n",
    "\n",
    "# alternative to symmetric difference\n",
    "print(A ^ B)"
   ]
  },
  {
   "cell_type": "markdown",
   "metadata": {},
   "source": [
    "<b>Set comprehension</b>\n",
    "* This may look like dictionary comprehension with curly braces, but there is no key"
   ]
  },
  {
   "cell_type": "code",
   "execution_count": null,
   "metadata": {
    "ExecuteTime": {
     "end_time": "2016-08-26T12:02:14.931910",
     "start_time": "2016-08-26T12:02:14.928675"
    },
    "collapsed": false
   },
   "outputs": [],
   "source": [
    "myset = {x + x for x in 'mississippi'}\n",
    "print(myset)"
   ]
  },
  {
   "cell_type": "markdown",
   "metadata": {},
   "source": [
    "BONUS EXERCISE 1: Merging two dictionaries\n",
    "* Using these two dictionaries\n",
    "\n",
    "```python\n",
    "d1 = {'a': 1, 'b': 3, 'd': 4, 'e': 7}  \n",
    "d2 = {'a': 4, 'b': 8, 'c': 10, 'e': 9}\n",
    "```\n",
    "* Merge the `d1` and `d2` by keys to get:\n",
    "\n",
    "```python\n",
    "{'b': [3, 8], 'c': [None, 10], 'a': [1, 4]}\n",
    "```\n",
    "* Hint: to get values from a key in a dictionary you may use get (where the second (optional) argument indicates a default value)\n",
    "\n",
    "```python\n",
    "d1.get(akey, None)\n",
    "```"
   ]
  },
  {
   "cell_type": "code",
   "execution_count": null,
   "metadata": {
    "collapsed": true
   },
   "outputs": [],
   "source": [
    "# Try out your solution here"
   ]
  },
  {
   "cell_type": "markdown",
   "metadata": {},
   "source": [
    "BONUS EXERCISE 2: Dice rolls\n",
    "* create a list of tuple pairs representing all 36 combinations of a six-sided dice roll\n",
    "* initialize a dictionary with 10 empty sets\n",
    "* using the added results of a dice roll as keys, assign the tuples to keys corresponding to the roll, e.g.\n",
    "<pre><code>dice[5]\n",
    "{(3, 2), (2, 3), (4, 1), (1, 4)}</code></pre>"
   ]
  },
  {
   "cell_type": "code",
   "execution_count": null,
   "metadata": {
    "collapsed": true
   },
   "outputs": [],
   "source": [
    "# Code up your solution here"
   ]
  },
  {
   "cell_type": "markdown",
   "metadata": {
    "collapsed": true
   },
   "source": [
    "---\n",
    "Created by a Microsoft Employee.\n",
    "\t\n",
    "The MIT License (MIT)<br>\n",
    "Copyright (c) 2016"
   ]
  },
  {
   "cell_type": "code",
   "execution_count": null,
   "metadata": {
    "collapsed": true
   },
   "outputs": [],
   "source": []
  }
 ],
 "metadata": {
  "kernelspec": {
   "display_name": "Python 3",
   "language": "python",
   "name": "python3"
  },
  "language_info": {
   "codemirror_mode": {
    "name": "ipython",
    "version": 3
   },
   "file_extension": ".py",
   "mimetype": "text/x-python",
   "name": "python",
   "nbconvert_exporter": "python",
   "pygments_lexer": "ipython3",
   "version": "3.5.1"
  },
  "nav_menu": {},
  "toc": {
   "navigate_menu": true,
   "number_sections": true,
   "sideBar": true,
   "threshold": 6,
   "toc_cell": false,
   "toc_section_display": "block",
   "toc_window_display": false
  }
 },
 "nbformat": 4,
 "nbformat_minor": 0
}
