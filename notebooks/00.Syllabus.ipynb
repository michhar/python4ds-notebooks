{
 "cells": [
  {
   "cell_type": "markdown",
   "metadata": {},
   "source": [
    "# Welcome to a Course on Python for the Data Scientist!\n",
    "### Featuring Python 3 on Jupyter notebooks\n",
    "\n",
    "Let's start with a great definition for the confusing term, data scientist (by Josh Wills):\n",
    "> <b>Data Scientist (n.)</b>: Person who is better at statistics than any software engineer and better at software engineering than any statistician.\n",
    "\n",
    "That was a bit tongue-in-cheek, but the sentiment is really that data science is multi-disciplinary and involves thinking about a problem in multiple ways.  This course is not really about statistics or software engineering.  Rather, it is a quick mechanism to become proficient at predictive and analytics-type tasks in Python.  At the end of this course, you'll be able to go through a \"data science workflow\", as illustrated here in a hand-drawn diagram, solely in the Python programming language.\n",
    "\n",
    "<img src='https://az712634.vo.msecnd.net/notebooks/python_course/v1/ml_process.png' alt=\"Data Science Process\" width=\"550\">\n",
    "\n",
    "There are a lot of introductory Python courses out there as well as ones targeted at the data scientist (like [this free one on edx](https://www.edx.org/course/introduction-python-data-science-microsoft-dat208x-0#) also from Microsoft).  And if you've ever done any Python programming you know documentation is incredibly good.  So, what does this course have to offer?<br><br>\n",
    "\n",
    "It was created by a data scientist for data scientists who wish to write Python code to perform data analysis, manipulation and machine learning. That being said, it can be useful to anyone who wants to do this and/or is:\n",
    "\n",
    "* New to Python\n",
    "* Experienced with Python, but not data science\n",
    "* In need of a refresher \n",
    "* Hoping to learn a little about the Python 2 to 3 change\n",
    "* In need of a handy modular reference\n",
    "\n",
    "Another nice introductory course to programming using Python can be found for free on the Microsoft Virtual Academy site [here](https://mva.microsoft.com/en-US/training-courses/introduction-to-programming-with-python-8360).<br><br>"
   ]
  },
  {
   "cell_type": "markdown",
   "metadata": {},
   "source": [
    "## In this course we will cover (start from anywhere you like...):\n",
    "\n",
    "### <font color=\"#d87b3c\">Part 1 - Basics</font>\n",
    "* Basics\n",
    "* Data Structures\n",
    "* Functional Programmin]\n",
    "* Sorting and Pattern Matching\n",
    "* Object Oriented Programming\n",
    "* Basic Difference from 2 to 3\n",
    "\n",
    "### <font color=\"#ba3103\">Part 2 - Tools for Data Science</font>\n",
    "* Numerical Computing\n",
    "* Data Analysis with pandas I\n",
    "* Data Analysis with pandas II\n",
    "* Machine Learning I - ML Basics and Data Exploration\n",
    "* Machine Learning II - Supervised and Unsupervised Learning\n",
    "* Machine Learning III - Parameter Tuning and Model Evaluation\n",
    "* Visualization"
   ]
  }
 ],
 "metadata": {
  "kernelspec": {
   "display_name": "Python 3",
   "language": "python",
   "name": "python3"
  },
  "language_info": {
   "codemirror_mode": {
    "name": "ipython",
    "version": 3
   },
   "file_extension": ".py",
   "mimetype": "text/x-python",
   "name": "python",
   "nbconvert_exporter": "python",
   "pygments_lexer": "ipython3",
   "version": "3.5.1"
  },
  "nav_menu": {},
  "toc": {
   "navigate_menu": true,
   "number_sections": true,
   "sideBar": true,
   "threshold": 6,
   "toc_cell": false,
   "toc_section_display": "block",
   "toc_window_display": false
  }
 },
 "nbformat": 4,
 "nbformat_minor": 0
}
