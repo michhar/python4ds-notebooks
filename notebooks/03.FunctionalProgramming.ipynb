{
 "cells": [
  {
   "cell_type": "markdown",
   "metadata": {
    "collapsed": true
   },
   "source": [
    "# Functional Programming"
   ]
  },
  {
   "cell_type": "markdown",
   "metadata": {},
   "source": [
    "## <img src='https://az712634.vo.msecnd.net/notebooks/python_course/v1/seahorse.png' alt=\"Smiley face\" width=\"42\" height=\"42\" align=\"left\">Learning Objectives\n",
    "* * *\n",
    "* Learn how to apply functions to sequences\n",
    "* Be introduced to fast ways of grouping objects by index and by functions\n",
    "* Find combinations and permutations with higher-order functions"
   ]
  },
  {
   "cell_type": "markdown",
   "metadata": {},
   "source": [
    "## Introducing some useful higher-order functions"
   ]
  },
  {
   "cell_type": "markdown",
   "metadata": {},
   "source": [
    "<b>`zip`</b>\n",
    "* groups elements from sequences into tuples paired by index (NB: `zip` can take any number of sequences)\n",
    "* useful for feeding to `map`"
   ]
  },
  {
   "cell_type": "code",
   "execution_count": null,
   "metadata": {
    "collapsed": false
   },
   "outputs": [],
   "source": [
    "# Define two range objects (iterables) holding a sequence of numbers\n",
    "a = range(1, 11)\n",
    "b = range(10, 21)\n",
    "\n",
    "# Combine into a zip object (iterable) which is made up of tuples\n",
    "z = zip(a, b)\n",
    "\n",
    "# Convert zip object to list and print\n",
    "print(list(z))"
   ]
  },
  {
   "cell_type": "markdown",
   "metadata": {},
   "source": [
    "Try changing `b` to\n",
    "```python\n",
    "b = range(10, 2100)\n",
    "```\n",
    "and see how long the resulting zipped list is."
   ]
  },
  {
   "cell_type": "markdown",
   "metadata": {},
   "source": [
    "<b>`map`</b>\n",
    "* apply a function to a group of iterables\n",
    "* returns an iterable map object (use `list()` to convert to list)\n",
    "* remember our anonymous function `lambda`:\n",
    "\n",
    "\n",
    "```python\n",
    "lambda arg: expression\n",
    "```\n",
    "e.g.\n",
    "\n",
    "```python\n",
    "# Square a number\n",
    "lambda x: x**2\n",
    "\n",
    "# Add up two arguments\n",
    "lambda x, y: x + y\n",
    "```"
   ]
  },
  {
   "cell_type": "code",
   "execution_count": null,
   "metadata": {
    "collapsed": false
   },
   "outputs": [],
   "source": [
    "# let's create two lists with random samples of 10 values in the range of numbers 0-49\n",
    "import random\n",
    "a = random.sample(range(50), 10)\n",
    "b = random.sample(range(50), 10)\n",
    "\n",
    "# Take a peek at these lists\n",
    "print(a)\n",
    "print(b)\n",
    "\n",
    "# What's the maximum value at each corresponding position in the two sequences\n",
    "list(map(max, a, b))"
   ]
  },
  {
   "cell_type": "code",
   "execution_count": null,
   "metadata": {
    "collapsed": false
   },
   "outputs": [],
   "source": [
    "# let's do the same thing, but with lambda and zip\n",
    "list(map(lambda pair: max(pair), zip(a, b)))"
   ]
  },
  {
   "cell_type": "markdown",
   "metadata": {},
   "source": [
    "EXERCISE 1: Create two arrays with 5 numbers in each.  Then, create a map object using an anonymous function to add the elements in each array at the same index.  Your result will be an array of 5 elements.\n",
    "\n",
    "BONUS:  Do the same thing with the `zip` function."
   ]
  },
  {
   "cell_type": "code",
   "execution_count": null,
   "metadata": {
    "collapsed": true
   },
   "outputs": [],
   "source": [
    "# Try your solution here"
   ]
  },
  {
   "cell_type": "markdown",
   "metadata": {},
   "source": [
    "<b>`reduce`</b>\n",
    "* Takes a list or iterable and applies a function to element 1 and 2 creating a intermediate result which is used in the application of function to element 3, producing a new intermediate result...and so on...\n",
    "* Of note: `reduce` should only be used with simple functions for transparency (please write explicit functions for more complicated purposes)\n",
    "* There is no intial value so you can not pass it an empty iterable nor an item that is not iterable.  Feel free to prove to yourself in the code cell below.\n",
    "* Here's a diagram representing applying a function `func` to a list of four elements (taken from http://www.python-course.eu)"
   ]
  },
  {
   "cell_type": "markdown",
   "metadata": {},
   "source": [
    "![Alt text](https://az712634.vo.msecnd.net/notebooks/python_course/v1/reduce.png \"diagram of reduce\")"
   ]
  },
  {
   "cell_type": "markdown",
   "metadata": {},
   "source": [
    "> PYTHON 2 to 3:  In Python 2.7, `reduce` is a built-in function, but in Python 3 it's in the <b>`functools`</b> package."
   ]
  },
  {
   "cell_type": "code",
   "execution_count": null,
   "metadata": {
    "collapsed": false
   },
   "outputs": [],
   "source": [
    "# In Python 3 reduce has moved to the functools module\n",
    "from functools import reduce\n",
    "\n",
    "# let's create a range\n",
    "a = range(1, 10)\n",
    "\n",
    "# Use reduce to add up the multples of all elements cumulatively\n",
    "result = reduce(lambda x, y: x * y, a)\n",
    "print(result)"
   ]
  },
  {
   "cell_type": "markdown",
   "metadata": {},
   "source": [
    "EXERCISE 2:  Cumulative sum.\n",
    "* Use `lambda` and `reduce` to calculate the cumulative sum of 1-10."
   ]
  },
  {
   "cell_type": "code",
   "execution_count": null,
   "metadata": {
    "collapsed": true
   },
   "outputs": [],
   "source": [
    "# Try your solution here"
   ]
  },
  {
   "cell_type": "markdown",
   "metadata": {},
   "source": [
    "<b>`enumerate()`</b>\n",
    "* takes any iterable (string, list, tuple, etc.) and returns a tuple with an index and associated element"
   ]
  },
  {
   "cell_type": "code",
   "execution_count": null,
   "metadata": {
    "ExecuteTime": {
     "end_time": "2016-08-26T12:04:04.589094",
     "start_time": "2016-08-26T12:04:04.570494"
    },
    "collapsed": false
   },
   "outputs": [],
   "source": [
    "list(enumerate('Hello World'))"
   ]
  },
  {
   "cell_type": "markdown",
   "metadata": {},
   "source": [
    "<b>`enumerate`</b> is really useful in flow control if one wants a built in index."
   ]
  },
  {
   "cell_type": "code",
   "execution_count": null,
   "metadata": {
    "collapsed": false
   },
   "outputs": [],
   "source": [
    "letters = list('abcdefgh')\n",
    "for i, letter in enumerate(letters):\n",
    "    print(\"index = \", i, \"value = \", letter)"
   ]
  },
  {
   "cell_type": "markdown",
   "metadata": {},
   "source": [
    "## `itertools` module (not an exhaustive list)"
   ]
  },
  {
   "cell_type": "markdown",
   "metadata": {},
   "source": [
    "<b>`repeat()`</b>\n",
    "* This method creates an iterable \"repeat object\" which simply repeats its input argument (use `list()` to convert to list)"
   ]
  },
  {
   "cell_type": "code",
   "execution_count": null,
   "metadata": {
    "collapsed": false
   },
   "outputs": [],
   "source": [
    "import itertools\n",
    "result = list(itertools.repeat('A', 5))\n",
    "print(result)\n",
    "\n",
    "# Yeah, we could have done it simply with\n",
    "result = list('A' * 5)\n",
    "print(result)\n",
    "\n",
    "# Better example...repeat some records in a tuple list\n",
    "result = list(itertools.repeat(('unknown', 80), 5))\n",
    "print(result)\n",
    "\n",
    "# Could you do this with the object * number syntax?  please try.\n"
   ]
  },
  {
   "cell_type": "markdown",
   "metadata": {},
   "source": [
    "<b>`groupby()` (maybe I'm biased, but I'm going to make a fuss about it)</b>\n",
    "* `groupby()` is amazingly versatile and can operate on all sorts of objects such as:\n",
    "  * dictionaries\n",
    "  * lists\n",
    "  * lists of lists\n",
    "  * lists of tuples\n",
    "  * pretty much any object wherein you use an element, or sub-element, as a key and group by that\n",
    "* Added wrinkle: `groupby()` <b>must have a function</b> to decide groupings\n",
    "* Of note, in most cases we must <b>sort our input object</b> in an appropriate way before using `groupby()` - we'll cover sort in the next module by the way\n",
    "* `groupby()` produces an object with sub-objects representing the groupings - basically it can be unpacked by group (with the key)"
   ]
  },
  {
   "cell_type": "code",
   "execution_count": null,
   "metadata": {
    "collapsed": false
   },
   "outputs": [],
   "source": [
    "from itertools import groupby\n",
    "\n",
    "# Our input is a list of integers\n",
    "nums = [2, 0, 9, 4, 7, 5, 8, 3]\n",
    "\n",
    "# An anonymous function to test even or odd\n",
    "func = lambda x: 'Even' if x % 2 == 0 else 'Odd'\n",
    "\n",
    "# It is important to sort our list - don't worry about sorting in detail yet\n",
    "sortednums = sorted(nums, key = func)\n",
    "\n",
    "# Apply groupby() using our anonymous function\n",
    "result = groupby(sortednums, func)\n",
    "\n",
    "# Do some printing\n",
    "# Unpack the groupby object one group at a time\n",
    "for k, group in result:\n",
    "    # convert grouped numbers to a string with map and join method\n",
    "    numstr = ','.join(map(str, group))\n",
    "    print('%s = %s' % (k, numstr))"
   ]
  },
  {
   "cell_type": "markdown",
   "metadata": {},
   "source": [
    "EXERCISE 3:  Prove to yourself the importance of sorting before groupby() by taking that step out.\n",
    "* Copy and modify above code into cell below\n",
    "* In your results, explain what happened"
   ]
  },
  {
   "cell_type": "code",
   "execution_count": null,
   "metadata": {
    "collapsed": true
   },
   "outputs": [],
   "source": [
    "# Try your solution here"
   ]
  },
  {
   "cell_type": "markdown",
   "metadata": {},
   "source": [
    "**`groupby()` with the `itemgetter()` function**\n",
    "* Using a list of tuples as input, we use the `itertools` <b>`itemgetter`</b> to create a function for us that looks at particular element by index.\n",
    "* Then in `groupby` we sort by whatever item `itemgetter` got for us."
   ]
  },
  {
   "cell_type": "code",
   "execution_count": null,
   "metadata": {
    "collapsed": false
   },
   "outputs": [],
   "source": [
    "from operator import itemgetter\n",
    "from itertools import groupby\n",
    "\n",
    "# A list of tuples as input\n",
    "student_grades = [('Bobby', 3), ('Marie', 4), ('Jim', 1), ('Pat', 3)]\n",
    "\n",
    "# We use the itertools itemgetter to create a function for us that looks at the second element\n",
    "get2nd = itemgetter(1)\n",
    "\n",
    "# As before, group sorted object by a item itemgetter gets for us\n",
    "result = groupby(sorted(student_grades), get2nd)\n",
    "\n",
    "# Print our results - notice we use itemgetter again\n",
    "for k, group in result:\n",
    "    out = map(itemgetter(0), group)\n",
    "    out = ','.join(out)\n",
    "    print('Grade %d: %s' % (k, out))"
   ]
  },
  {
   "cell_type": "markdown",
   "metadata": {},
   "source": [
    "EXERCISE 4: Grouping by a key in a group of dictionaries\n",
    "* Using this array of small dictionarires and `groupby()` group the cities by state and then print the results\n",
    "```python\n",
    "data = [\n",
    "    { 'city' : 'Harford', 'state' : 'Connecticut' },\n",
    "    { 'city' : 'Boston', 'state' : 'Massachusetts' },\n",
    "    { 'city' : 'Worcester', 'state' : 'Massachusetts' },\n",
    "    { 'city' : 'Albany', 'state' : 'New York' },\n",
    "    { 'city' : 'New York City', 'state' : 'New York' },\n",
    "    { 'city' : 'Yonkers', 'state' : 'New York' },\n",
    "]\n",
    "```\n",
    "\n",
    "* Some hints\n",
    "  * you will use itemgetter as your key function to grab states\n",
    "  * don't need to sort this time - why is that you think?\n",
    "  * your result will have a key (state) and a group object which can be accessed like a dict\n",
    "  * print it out using a format like (fill in blanks):\n",
    "  \n",
    "```python\n",
    "# Explore and print groupby object\n",
    "for key, group in groupobj:\n",
    "    # Print the state\n",
    "    print(___)\n",
    "    # Print cities in a state\n",
    "    for g in group:\n",
    "        print(g[___])\n",
    "```"
   ]
  },
  {
   "cell_type": "code",
   "execution_count": null,
   "metadata": {
    "collapsed": true
   },
   "outputs": [],
   "source": [
    "# Try out a solution here"
   ]
  },
  {
   "cell_type": "markdown",
   "metadata": {},
   "source": [
    "<b>`product()`</b>\n",
    "* r-length tuples, all possible orderings, with repeats\n",
    "* aka cartesian product"
   ]
  },
  {
   "cell_type": "code",
   "execution_count": null,
   "metadata": {
    "collapsed": false
   },
   "outputs": [],
   "source": [
    "from itertools import product\n",
    "list(product('ABCD', repeat = 2))"
   ]
  },
  {
   "cell_type": "markdown",
   "metadata": {},
   "source": [
    "Try changing the value of parameter <b>`r`</b> (\"repeat-length\") in `product` above to see more or less \"products.\""
   ]
  },
  {
   "cell_type": "markdown",
   "metadata": {},
   "source": [
    "<b>`permutations()`</b>\n",
    "* r-length tuples, all possible orderings, no repeats"
   ]
  },
  {
   "cell_type": "code",
   "execution_count": null,
   "metadata": {
    "collapsed": false
   },
   "outputs": [],
   "source": [
    "from itertools import permutations\n",
    "list(permutations('ABCD', r = 2))"
   ]
  },
  {
   "cell_type": "markdown",
   "metadata": {},
   "source": [
    "<b>`combinations()`</b>\n",
    "* r-length tuples, sorted order, no repeats"
   ]
  },
  {
   "cell_type": "code",
   "execution_count": null,
   "metadata": {
    "collapsed": false
   },
   "outputs": [],
   "source": [
    "from itertools import combinations\n",
    "list(combinations('ABCD', r = 2))"
   ]
  },
  {
   "cell_type": "markdown",
   "metadata": {},
   "source": [
    "EXERCISE 5: Permutations and factorials\n",
    "* If we have 5 unique elements and given that the number of permutations is the factorial of the number of elements, calculate `5!` with permutations\n",
    "\n",
    "You can check it against the `math` library's factorial:\n",
    "```python\n",
    "from math import factorial\n",
    "f = factorial(5)\n",
    "print(f)\n",
    "```"
   ]
  },
  {
   "cell_type": "markdown",
   "metadata": {
    "collapsed": true
   },
   "source": [
    "---\n",
    "Created by a Microsoft Employee.\n",
    "\t\n",
    "The MIT License (MIT)<br>\n",
    "Copyright (c) 2016"
   ]
  },
  {
   "cell_type": "code",
   "execution_count": null,
   "metadata": {
    "collapsed": true
   },
   "outputs": [],
   "source": []
  }
 ],
 "metadata": {
  "kernelspec": {
   "display_name": "Python 3",
   "language": "python",
   "name": "python3"
  },
  "language_info": {
   "codemirror_mode": {
    "name": "ipython",
    "version": 3
   },
   "file_extension": ".py",
   "mimetype": "text/x-python",
   "name": "python",
   "nbconvert_exporter": "python",
   "pygments_lexer": "ipython3",
   "version": "3.5.1"
  },
  "nav_menu": {},
  "toc": {
   "navigate_menu": true,
   "number_sections": true,
   "sideBar": true,
   "threshold": 6,
   "toc_cell": false,
   "toc_section_display": "block",
   "toc_window_display": false
  }
 },
 "nbformat": 4,
 "nbformat_minor": 0
}
