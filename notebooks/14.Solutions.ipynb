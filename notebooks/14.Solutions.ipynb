{
 "cells": [
  {
   "cell_type": "markdown",
   "metadata": {},
   "source": [
    "## Solutions for 01.Basics"
   ]
  },
  {
   "cell_type": "markdown",
   "metadata": {},
   "source": [
    "SOLUTION 1"
   ]
  },
  {
   "cell_type": "code",
   "execution_count": null,
   "metadata": {
    "collapsed": true
   },
   "outputs": [],
   "source": [
    "# Solution to use of and/or\n",
    "# expression with AND where we get first value\n",
    "a = [] and 'another thing'\n",
    "print(a)\n",
    "\n",
    "# expression with OR where we get first value\n",
    "b = 'first thing' or 0\n",
    "print(b)"
   ]
  },
  {
   "cell_type": "markdown",
   "metadata": {},
   "source": [
    "SOLUTION 2"
   ]
  },
  {
   "cell_type": "code",
   "execution_count": null,
   "metadata": {
    "collapsed": true
   },
   "outputs": [],
   "source": [
    "# Solution to comparison operators\n",
    "2 > 3 and 1 + 1 == 2 or 0"
   ]
  },
  {
   "cell_type": "markdown",
   "metadata": {},
   "source": [
    "SOLUTION 3"
   ]
  },
  {
   "cell_type": "code",
   "execution_count": null,
   "metadata": {
    "collapsed": true
   },
   "outputs": [],
   "source": [
    "# Solution to flow control statements exercise\n",
    "\n",
    "# Create some simulation data\n",
    "import random\n",
    "# Create some data points representing temperatures (degrees Celcius)\n",
    "data = random.sample(range(0, 120), 20)\n",
    "print(data)\n",
    "\n",
    "# b is going to hold our previous value\n",
    "b = 0\n",
    "for x in data:\n",
    "    # Is current temp above 80?\n",
    "    if x > 80:\n",
    "        # Was previous temp above 80?\n",
    "        if b > 80:\n",
    "            print('Warning, temperatures above 80 twice in a row.')\n",
    "            break\n",
    "\n",
    "    b = x"
   ]
  },
  {
   "cell_type": "markdown",
   "metadata": {},
   "source": [
    "SOLUTION 4"
   ]
  },
  {
   "cell_type": "code",
   "execution_count": null,
   "metadata": {
    "collapsed": true
   },
   "outputs": [],
   "source": [
    "# Solution to Functions and Generators exercise\n",
    "\n",
    "def is_prime(x):\n",
    "    '''This functions checks if a number is prime.\n",
    "        Input:  integer\n",
    "        Output:  boolean'''\n",
    "    \n",
    "    # Go ahead and make all input positive (abs takes absolute value)\n",
    "    x = abs(x)\n",
    "    \n",
    "    # Less than two, NOT prime\n",
    "    if x < 2:\n",
    "        return False\n",
    "    \n",
    "    # elif is just syntax for else-if in Python\n",
    "    # 2 is prime\n",
    "    elif x == 2:\n",
    "        return True\n",
    "    \n",
    "    # Anything divisible by two is NOT prime\n",
    "    # The % is modulus - here we test if number is divisible by 2\n",
    "    elif x % 2 == 0:\n",
    "        return False\n",
    "    \n",
    "    # In this for loop we check if a number is divisible by any other number\n",
    "    else:\n",
    "        for n in range(3, int(x**0.5) + 2, 2):\n",
    "            \n",
    "            # If this is true, the number is NOT prime\n",
    "            if x % n == 0:\n",
    "                return False\n",
    "        \n",
    "        # It's prime!\n",
    "        return True\n",
    "\n",
    "    \n",
    "# Our generator\n",
    "def our_gen(num):\n",
    "    '''This generator function can create an infinite series of prime numbers.\n",
    "        Input:  an integer after which the series will start\n",
    "        Yield:  a prime number in the sequence'''\n",
    "    while True:\n",
    "        if is_prime(num):\n",
    "            yield num\n",
    "        num += 1\n",
    "\n",
    "        \n",
    "# Create the iterator object using the generator\n",
    "gen = our_gen(0)\n",
    "\n",
    "# Print first 5 primes after the starting input number\n",
    "for n in range(5):\n",
    "    print(next(gen))"
   ]
  },
  {
   "cell_type": "markdown",
   "metadata": {},
   "source": [
    "## Solutions for 02.DataStructures"
   ]
  },
  {
   "cell_type": "markdown",
   "metadata": {},
   "source": [
    "SOLUTION 1"
   ]
  },
  {
   "cell_type": "code",
   "execution_count": null,
   "metadata": {
    "collapsed": true
   },
   "outputs": [],
   "source": [
    "# Solution to stack excercise\n",
    "s1 = list('teoeauy')\n",
    "s2 = list('indvho')\n",
    "s3 = []\n",
    "\n",
    "maxlen = max(len(s1), len(s2))\n",
    "for i in range(maxlen):\n",
    "    if s1:\n",
    "        s3.append(s1.pop())\n",
    "    if s2:\n",
    "        s3.append(s2.pop())       \n",
    "print(s1, s2, s3, sep='\\n')"
   ]
  },
  {
   "cell_type": "markdown",
   "metadata": {},
   "source": [
    "SOLUTION 2"
   ]
  },
  {
   "cell_type": "code",
   "execution_count": null,
   "metadata": {
    "collapsed": true
   },
   "outputs": [],
   "source": [
    "# Solution to list comprehension exercise\n",
    "letters = list('thepurposeoflife')\n",
    "\n",
    "# Place your list comprehension below\n",
    "output = [x.upper() if x is 'e' else x for x in letters]\n",
    "\n",
    "print(output)"
   ]
  },
  {
   "cell_type": "markdown",
   "metadata": {},
   "source": [
    "SOLUTION 3"
   ]
  },
  {
   "cell_type": "code",
   "execution_count": null,
   "metadata": {
    "collapsed": true
   },
   "outputs": [],
   "source": [
    "# Solution to tuple exercise\n",
    "\n",
    "records = (('Sam', 19, 'CS'),\n",
    "           ('Nicole', 21, 'Biochemistry'),\n",
    "           ('Paul', 20, 'Fine Arts'),\n",
    "           ('Ashley', 18, 'History'))\n",
    "\n",
    "def showrecords(records):\n",
    "    '''Unpack records stored in a tuple of tuples and print each one in a nice format'''\n",
    "    for student in records:\n",
    "        name, age, degree = student\n",
    "        print('%s is %d years of age and studying %s' % (name, age, degree))\n",
    "showrecords(records)"
   ]
  },
  {
   "cell_type": "markdown",
   "metadata": {},
   "source": [
    "SOLUTION 4"
   ]
  },
  {
   "cell_type": "code",
   "execution_count": null,
   "metadata": {
    "collapsed": true
   },
   "outputs": [],
   "source": [
    "# Solution to dictionary comprehension letter count exercise\n",
    "\n",
    "names = ['Amy', 'Sam', 'Chris', 'Sarah', 'Amy', 'Matthew', 'Chris', 'George']\n",
    "\n",
    "counts = {n: names.count(n) for n in names}\n",
    "counts"
   ]
  },
  {
   "cell_type": "markdown",
   "metadata": {},
   "source": [
    "SOLUTION TO BONUS EXERCISE 1"
   ]
  },
  {
   "cell_type": "code",
   "execution_count": null,
   "metadata": {
    "collapsed": true
   },
   "outputs": [],
   "source": [
    "# Solution to merging two dictionaries\n",
    "d1 = {'a': 1, 'b': 3, 'd': 4, 'e': 7}  \n",
    "d2 = {'a': 4, 'b': 8, 'c': 10, 'e': 9}\n",
    "mykeys = list(d1.keys()) + list(d2.keys())\n",
    "ds = {}\n",
    "for k in mykeys:\n",
    "    ds[k] = [d1.get(k, None), d2.get(k, None)]\n",
    "print(ds)"
   ]
  },
  {
   "cell_type": "code",
   "execution_count": null,
   "metadata": {
    "collapsed": true
   },
   "outputs": [],
   "source": [
    "# Advanced Solution to merging dictionaries\n",
    "from collections import defaultdict\n",
    "\n",
    "d1 = {1: 2, 3: 4}\n",
    "d2 = {1: 6, 3: 7, 2: 5}\n",
    "\n",
    "dd = defaultdict(list)\n",
    "\n",
    "for d in (d1, d2): # you can list as many input dicts as you want here\n",
    "    for key, value in d.items():\n",
    "        dd[key].append(value)\n",
    "\n",
    "print(dd)"
   ]
  },
  {
   "cell_type": "markdown",
   "metadata": {},
   "source": [
    "SOLUTION TO BONUS EXERCISE 2"
   ]
  },
  {
   "cell_type": "code",
   "execution_count": null,
   "metadata": {
    "collapsed": true
   },
   "outputs": [],
   "source": [
    "# Solution to dice rolls exercise\n",
    "\n",
    "# list comprehension creating a list of tuple pairs representing all dice rolls\n",
    "a = range(1, 7)\n",
    "combos = [(i, j) for i in a for j in a]\n",
    "\n",
    "# assign an empty set to 10 integer keys (2-12)\n",
    "dice = {}\n",
    "for i in range(2,13):\n",
    "    dice[i] = set()\n",
    "\n",
    "# assign the dice roll results to the proper integer key in the dictionary\n",
    "for combo in combos:\n",
    "    a, b = combo\n",
    "    index = a + b\n",
    "    s = dice.get(index).add(combo)\n",
    "\n",
    "print(dice[5])"
   ]
  },
  {
   "cell_type": "markdown",
   "metadata": {},
   "source": [
    "## Solutions for 03.FunctionalProgramming"
   ]
  },
  {
   "cell_type": "markdown",
   "metadata": {},
   "source": [
    "SOLUTION 1"
   ]
  },
  {
   "cell_type": "code",
   "execution_count": null,
   "metadata": {
    "collapsed": true
   },
   "outputs": [],
   "source": [
    "# Solution 1\n",
    "\n",
    "a = range(0, 5)\n",
    "b = range(3, 8)\n",
    "print(list(a), list(b))\n",
    "print(list(zip(a, b)))\n",
    "m = map(lambda x, y: x + y, a, b)\n",
    "print(list(m))"
   ]
  },
  {
   "cell_type": "code",
   "execution_count": null,
   "metadata": {
    "collapsed": true
   },
   "outputs": [],
   "source": [
    "# Solution to bonus 1\n",
    "\n",
    "a = range(0, 5)\n",
    "b = range(3, 8)\n",
    "print(list(a), list(b))\n",
    "print(list(zip(a, b)))\n",
    "m = map(lambda pair: sum(pair), zip(a, b))\n",
    "print(list(m))"
   ]
  },
  {
   "cell_type": "markdown",
   "metadata": {},
   "source": [
    "SOLUTION 2"
   ]
  },
  {
   "cell_type": "code",
   "execution_count": null,
   "metadata": {
    "collapsed": true
   },
   "outputs": [],
   "source": [
    "# Solution 2\n",
    "\n",
    "a = range(1, 10)\n",
    "r = reduce(lambda x, y: x + y, a)\n",
    "print(r)"
   ]
  },
  {
   "cell_type": "markdown",
   "metadata": {},
   "source": [
    "SOLUTION 3"
   ]
  },
  {
   "cell_type": "code",
   "execution_count": null,
   "metadata": {
    "collapsed": true
   },
   "outputs": [],
   "source": [
    "# Solution 3\n",
    "\n",
    "from itertools import groupby\n",
    "\n",
    "# Our input is a list of integers\n",
    "nums = [2, 0, 9, 4, 7, 5, 8, 3]\n",
    "\n",
    "# An anonymous function to test even or odd\n",
    "func = lambda x: 'Even' if x % 2 == 0 else 'Odd'\n",
    "\n",
    "# Apply groupby() using our anonymous function\n",
    "result = groupby(nums, func)\n",
    "\n",
    "# Do some printing\n",
    "# Unpack the groupby object one group at a time\n",
    "for k, group in result:\n",
    "    # Convert grouped numbers to a string with map and join method\n",
    "    numstr = ','.join(map(str, group))\n",
    "    print('%s = %s' % (k, numstr))"
   ]
  },
  {
   "cell_type": "markdown",
   "metadata": {},
   "source": [
    "SOLUTION 4"
   ]
  },
  {
   "cell_type": "code",
   "execution_count": null,
   "metadata": {
    "collapsed": true
   },
   "outputs": [],
   "source": [
    "# Solution 4\n",
    "\n",
    "# We have this array of dictionaries\n",
    "data = [\n",
    "    { 'city' : 'Harford', 'state' : 'Connecticut' },\n",
    "    { 'city' : 'Boston', 'state' : 'Massachusetts' },\n",
    "    { 'city' : 'Worcester', 'state' : 'Massachusetts' },\n",
    "    { 'city' : 'Albany', 'state' : 'New York' },\n",
    "    { 'city' : 'New York City', 'state' : 'New York' },\n",
    "    { 'city' : 'Yonkers', 'state' : 'New York' },\n",
    "]\n",
    "\n",
    "# And we want to use 'state' as the key so make a key function\n",
    "from operator import itemgetter\n",
    "bystate = itemgetter('state')\n",
    "\n",
    "# Apply groupby to group our dictionary by 'state'\n",
    "from itertools import groupby\n",
    "groupobj = groupby(data, bystate)\n",
    "\n",
    "# Explore and print groupby object (use string formatting to make it pretty)\n",
    "for key, group in groupobj:\n",
    "    print('Cities in %s:' % key)\n",
    "    # Iterate over items associated with the key 'state', i.e. print cities in a state\n",
    "    for g in group:\n",
    "        print('\\t' + g['city'])"
   ]
  },
  {
   "cell_type": "markdown",
   "metadata": {},
   "source": [
    "SOLUTION 5"
   ]
  },
  {
   "cell_type": "code",
   "execution_count": null,
   "metadata": {
    "collapsed": true
   },
   "outputs": [],
   "source": [
    "from itertools import permutations\n",
    "n = len(list(permutations([1, 2, 3, 4, 5])))\n",
    "print(n)"
   ]
  },
  {
   "cell_type": "markdown",
   "metadata": {},
   "source": [
    "## Solutions for 04.SortAndPatternMatching"
   ]
  },
  {
   "cell_type": "markdown",
   "metadata": {},
   "source": [
    "SOLUTION 1"
   ]
  },
  {
   "cell_type": "code",
   "execution_count": null,
   "metadata": {
    "collapsed": true
   },
   "outputs": [],
   "source": [
    "# Solution to sort exercise with timeit\n",
    "a = random.sample(range(10000), 1000)\n",
    "\n",
    "# Sorted copy\n",
    "%timeit a_sorted = sorted(a)\n",
    "\n",
    "# Sort inline\n",
    "sort_test1 = a.copy()\n",
    "%timeit sort_test1.sort()\n",
    "\n",
    "# Sort inline in reverse\n",
    "sort_test2 = a.copy()\n",
    "%timeit sort_test2.sort(reverse = True)\n",
    "\n",
    "# Convert to floats\n",
    "b = [float(x) for x in a]\n",
    "\n",
    "# Sort inline\n",
    "sort_test1 = b.copy()\n",
    "%timeit sort_test1.sort()\n",
    "\n",
    "# Sort inline in reverse\n",
    "sort_test2 = b.copy()\n",
    "%timeit sort_test2.sort(reverse = True)\n",
    "\n",
    "print(sort_test2)\n",
    "print(b)\n"
   ]
  },
  {
   "cell_type": "markdown",
   "metadata": {},
   "source": [
    "SOLUTION 2"
   ]
  },
  {
   "cell_type": "code",
   "execution_count": null,
   "metadata": {
    "collapsed": true
   },
   "outputs": [],
   "source": [
    "# Solution to sin values of a list of random integers\n",
    "import math\n",
    "import random\n",
    "\n",
    "a = random.sample(range(25, 50), 10)\n",
    "\n",
    "sorted(a, key = lambda x: math.sin(x))"
   ]
  },
  {
   "cell_type": "markdown",
   "metadata": {},
   "source": [
    "SOLUTION 3"
   ]
  },
  {
   "cell_type": "code",
   "execution_count": null,
   "metadata": {
    "collapsed": true
   },
   "outputs": [],
   "source": [
    "# Solution to \"A small one surrounded by three body guards on either side\"\n",
    "\n",
    "import re\n",
    "\n",
    "text = \"kAewtloIKHbWJZNhHVGxXDiQmzjfcpYbzRPBoLPDSmUbCunkfxZWDZoUZMiGqhRRiUvGmYmvnJIHEmbTMUKLECKdCthezSYBpIEl\"\n",
    "\n",
    "\n",
    "# Create an iterator with regex on text\n",
    "matches = re.finditer('[A-Z]{3}[a-z][A-Z]{3}', text)\n",
    "\n",
    "# Iterate over matches, take middle character and join for output\n",
    "''.join([m.group()[3] for m in matches])\n",
    "\n",
    "\n",
    "# Comment out below to see the patterns and positions\n",
    "\n",
    "# for m in matches:\n",
    "#     print((m.group(), m.span()))"
   ]
  },
  {
   "cell_type": "markdown",
   "metadata": {},
   "source": [
    "SOLUTION 4"
   ]
  },
  {
   "cell_type": "code",
   "execution_count": null,
   "metadata": {
    "collapsed": true
   },
   "outputs": [],
   "source": [
    "# Solution to phonebook exercise\n",
    "import re\n",
    "\n",
    "text = \"\"\"Steve Martin: 310.222.3333 400 Holly Ave\n",
    "\n",
    "Sandra Bullock: 512.456.1789 200 52nd St\n",
    "Tommy-Lee Jones: 210.555.7777 321 Calahan Rd\"\"\"\n",
    "\n",
    "# Split on new lines taking into account possibilies of many new line\n",
    "entries = re.split('\\n+', text)\n",
    "print(entries)\n",
    "\n",
    "# Then split these elements in the vector\n",
    "entries = [re.split(\":? \", entry, 3) for entry in entries]\n",
    "print(entries)\n",
    "\n",
    "# Using dictionary comprehension, place the entries into the address book dictionary format\n",
    "{b: {'first': a, 'last': b, 'phone': c, 'address': d} for a, b, c, d in entries}"
   ]
  },
  {
   "cell_type": "markdown",
   "metadata": {},
   "source": [
    "## 05.ObjectOriented"
   ]
  },
  {
   "cell_type": "markdown",
   "metadata": {},
   "source": [
    "SOLUTION 1"
   ]
  },
  {
   "cell_type": "code",
   "execution_count": null,
   "metadata": {
    "collapsed": true
   },
   "outputs": [],
   "source": [
    "# Solution to Amy's wallet exercise\n",
    "\n",
    "wallet = Wallet('Amy', 500)\n",
    "\n",
    "# Go ahead and let Amy earn some money\n",
    "wallet.earn(20)\n",
    "\n",
    "print(wallet.cash)\n",
    "\n",
    "# Spend some of Amy's money\n",
    "wallet.spend(5)\n",
    "print(wallet.cash)"
   ]
  },
  {
   "cell_type": "markdown",
   "metadata": {},
   "source": [
    "SOLUTION 2"
   ]
  },
  {
   "cell_type": "code",
   "execution_count": null,
   "metadata": {
    "collapsed": true
   },
   "outputs": [],
   "source": [
    "# Solution to safer wallet exercise\n",
    "\n",
    "# Making cash \"private\"\n",
    "class WalletSafe:\n",
    "    '''The Wallet class holds cash for a owner.'''\n",
    "    \n",
    "    def __init__(self, owner, cash):\n",
    "        self.owner = owner\n",
    "        self._cash = cash\n",
    "        \n",
    "    # Spend method\n",
    "    def spend(self, amount):\n",
    "        '''The spend method removes a given amount of money from the wallet.'''\n",
    "        self._cash -= amount\n",
    "            \n",
    "    # Earn method\n",
    "    def earn(self, amount):\n",
    "        '''The earn method adds a given amount of money to the wallet.'''\n",
    "        self._cash += amount\n",
    "        \n",
    "# Create a wallet instance and see what happens when you access cash\n",
    "mywallet = WalletSafe('Marie', 400)\n",
    "\n",
    "mywallet.cash"
   ]
  },
  {
   "cell_type": "markdown",
   "metadata": {},
   "source": [
    "SOLUTION 3"
   ]
  },
  {
   "cell_type": "code",
   "execution_count": null,
   "metadata": {
    "collapsed": true
   },
   "outputs": [],
   "source": [
    "# Solution for setter method\n",
    "class Wallet:\n",
    "    '''The Wallet class holds cash for a owner.'''\n",
    "    \n",
    "    def __init__(self, owner, cash):\n",
    "        self.owner = owner\n",
    "        self._cash = cash\n",
    "        \n",
    "    # Spend method\n",
    "    def spend(self, amount):\n",
    "        '''The spend method removes a given amount of money from the wallet.'''\n",
    "        self._cash -= amount\n",
    "            \n",
    "    # Earn method\n",
    "    def earn(self, amount):\n",
    "        '''The earn method adds a given amount of money to the wallet.'''\n",
    "        self._cash += amount\n",
    "        \n",
    "    # Get amount of cash\n",
    "    def get_cash(self):\n",
    "        '''Returns the amount of cash in the wallet.'''\n",
    "        return self._cash\n",
    "    \n",
    "    # A method to set the amount of cash:\n",
    "    def set_cash(self, amount):\n",
    "        '''Sets/resets the amount of cash in the wallet.'''\n",
    "        self._cash = amount\n",
    "\n",
    "mywallet = Wallet('Sarah', 250)\n",
    "print(mywallet.get_cash())\n",
    "mywallet.set_cash(400)\n",
    "print(mywallet.get_cash())"
   ]
  },
  {
   "cell_type": "markdown",
   "metadata": {},
   "source": [
    "SOLUTION 4"
   ]
  },
  {
   "cell_type": "code",
   "execution_count": null,
   "metadata": {
    "collapsed": true
   },
   "outputs": [],
   "source": [
    "# Solution to inheritance problem\n",
    "\n",
    "# Create an instance of BankAccount\n",
    "bankuser = BankUser('Hal', 'Smith', 98052)\n",
    "\n",
    "# Create an instance of Checking\n",
    "checkaccnt = Checking(1234)\n",
    "\n",
    "# Access firstname with BankAccount instance\n",
    "bankuser.firstname\n",
    "\n",
    "# Try to access firstname with Checking instance\n",
    "checkaccnt.firstname"
   ]
  },
  {
   "cell_type": "markdown",
   "metadata": {},
   "source": [
    "SOLUTION 5"
   ]
  },
  {
   "cell_type": "code",
   "execution_count": null,
   "metadata": {
    "collapsed": true
   },
   "outputs": [],
   "source": [
    "# Solution to class method exercise\n",
    "\n",
    "class Circle:\n",
    "    '''This is a class to define and do stuff with circles.'''\n",
    "    \n",
    "    # this is a class attribute\n",
    "    pi = 3.14159\n",
    "\n",
    "    def __init__(self, radius):\n",
    "        # this is an instance attribute\n",
    "        self.radius = radius\n",
    "\n",
    "    def circum(self):\n",
    "        '''Return the circumference of our circle'''\n",
    "        return 2 * Circle.pi * self.radius\n",
    "    \n",
    "    @staticmethod\n",
    "    def calc_area(x):\n",
    "        '''I am a static method and am unbound to a class or even an instance.'''\n",
    "        return Circle.pi * (x**2)\n",
    "    \n",
    "    # This is cool!  Here we have a class method which uses a circle-like\n",
    "    # object to initialize an instance of the Circle class.\n",
    "    @classmethod\n",
    "    def from_pie(cls, pie):\n",
    "        '''This class method initializes a circle using the size/diameter\n",
    "            of a pie object.'''\n",
    "        return cls(pie.get_size() / 2)\n",
    "    \n",
    "    ### ADDED METHOD BELOW ###\n",
    "\n",
    "    # Now, we create a class method to calculate the volumne of a cylinder that\n",
    "    # might result given a height as input and using the calculation of area \n",
    "    # (calc_area) static method from Circle class.\n",
    "    @classmethod\n",
    "    def volume(cls, c, height):\n",
    "        return height * cls.calc_area(c.radius)\n",
    "    \n",
    "c = Circle(10)\n",
    "\n",
    "Circle.volume(c, 3)"
   ]
  },
  {
   "cell_type": "markdown",
   "metadata": {},
   "source": [
    "## Solutions for 07.NumericalScientificComputing"
   ]
  },
  {
   "cell_type": "markdown",
   "metadata": {},
   "source": [
    "SOLUTION 1"
   ]
  },
  {
   "cell_type": "code",
   "execution_count": null,
   "metadata": {
    "collapsed": true
   },
   "outputs": [],
   "source": [
    "# Solution to initializing and slicing a 2D array\n",
    "\n",
    "a2d = np.arange(2, 25, step = 2).reshape(3, 4)\n",
    "print(a2d)\n",
    "\n",
    "# Remember the thrid value in slicing?  it's a step, too.\n",
    "s = a2d[0][0:4:2]\n",
    "print(s)"
   ]
  },
  {
   "cell_type": "markdown",
   "metadata": {},
   "source": [
    "SOLUTION 2"
   ]
  },
  {
   "cell_type": "code",
   "execution_count": null,
   "metadata": {
    "collapsed": true
   },
   "outputs": [],
   "source": [
    "# Solution to slicing 3D arrays\n",
    "\n",
    "# The 3D array\n",
    "a3d = np.arange(1,21).reshape(2, 2, 5)\n",
    "print('3D:', a3d)\n",
    "\n",
    "# Slice out of 1st 2D array from 3D array\n",
    "s1 = a3d[0]\n",
    "print('2D:', s1)\n",
    "\n",
    "# Slice out of 2nd 1D array from 1st 2D array from 3D array\n",
    "s2 = a3d[0][1]\n",
    "print('1D:', s2)\n",
    "\n",
    "# Slice out of 3rd element from 2nd 1D array from 1st 2D array from 3D array\n",
    "s3 = a3d[0][1][2]\n",
    "print('scalar:', s3)\n",
    "# Or\n",
    "s3 = a3d[0, 1, 2]\n",
    "print('scalar:', s3)"
   ]
  },
  {
   "cell_type": "markdown",
   "metadata": {},
   "source": [
    "SOLUTION 3"
   ]
  },
  {
   "cell_type": "code",
   "execution_count": null,
   "metadata": {
    "collapsed": true
   },
   "outputs": [],
   "source": [
    "# Solution to 2D array slicing with 2D boolean indexer\n",
    "\n",
    "import numpy as np\n",
    "\n",
    "# 2x3 2D array with some normally distributed random numbers\n",
    "data = np.random.randn(2, 3)\n",
    "print(data)\n",
    "\n",
    "# Our 2D boolean indexer\n",
    "bindex = np.array([True, False, False, True, False, True]).reshape(2, 3)\n",
    "print(bindex)\n",
    "\n",
    "# Will it work?\n",
    "data[bindex]\n",
    "\n",
    "# Reverse indexed\n",
    "data[~bindex]"
   ]
  },
  {
   "cell_type": "markdown",
   "metadata": {},
   "source": [
    "SOLUTION 4"
   ]
  },
  {
   "cell_type": "code",
   "execution_count": null,
   "metadata": {
    "collapsed": true
   },
   "outputs": [],
   "source": [
    "# Solution to comparison of classic set to ndarray exercise\n",
    "\n",
    "a = ['a'] * 100\n",
    "b = ['b'] * 120\n",
    "c = ['c'] * 50\n",
    "d = ['d'] * 800\n",
    "ones = [1] * 20\n",
    "z = ['z'] * 60\n",
    "\n",
    "arr = z + a + d + c + b + ones\n",
    "\n",
    "# create classic set with the array 'arr'\n",
    "s = set(arr)\n",
    "print(s)\n",
    "\n",
    "# sort it - we'll have to convert to a list of str type first\n",
    "L = [str(x) for x in s]\n",
    "L.sort()\n",
    "print(L)\n",
    "\n",
    "# convert it to ndarray\n",
    "np.array(L)\n",
    "\n",
    "\n",
    "# Fun bonus\n",
    "\n",
    "def classic_intersection(a1, a2):\n",
    "    s1 = set(a1)\n",
    "    s2 = set(a2)\n",
    "\n",
    "    return s1 & s2\n",
    "\n",
    "def np_intersection(a1, a2):\n",
    "    return np.intersect1d(a1, a2)\n",
    "   \n",
    "\n",
    "a1 = z + d + c + ones\n",
    "a2 = a + d + b + ones\n",
    "\n",
    "# let's use some 'timeit' magic to see how long both methods take\n",
    "%timeit classic_intersection(a1, a2)\n",
    "%timeit np_intersection(a1, a2)\n",
    "\n",
    "# Now just think about when you'd really need to use ndarrays versus sets and lists"
   ]
  },
  {
   "cell_type": "markdown",
   "metadata": {},
   "source": [
    "## 08.DataAnalysisI"
   ]
  },
  {
   "cell_type": "markdown",
   "metadata": {},
   "source": [
    "SOLUTION 1"
   ]
  },
  {
   "cell_type": "code",
   "execution_count": null,
   "metadata": {
    "collapsed": true
   },
   "outputs": [],
   "source": [
    "# Solution to Series exercise with date_range and missing values\n",
    "\n",
    "alldates = pd.date_range('09-01-2013', '09-10-2013')\n",
    "\n",
    "s = pd.Series({pd.to_datetime('09-02-2013'): 2,\n",
    "               pd.to_datetime('09-03-2013'): 10,\n",
    "               pd.to_datetime('09-06-2013'): 5,\n",
    "               pd.to_datetime('09-07-2013'): 1})\n",
    "\n",
    "print(s)\n",
    "\n",
    "s2 = pd.Series(s, index = alldates)\n",
    "print(s2)\n",
    "\n",
    "#\n",
    "s3 = s2.fillna(0)\n",
    "print(s3)\n",
    "\n",
    "# Alternative is...(might be familiar if you know R)...also inplace\n",
    "s2[pd.isnull(s2)] = 0\n",
    "print(s2)"
   ]
  },
  {
   "cell_type": "markdown",
   "metadata": {},
   "source": [
    "SOLUTION 2"
   ]
  },
  {
   "cell_type": "code",
   "execution_count": null,
   "metadata": {
    "collapsed": true
   },
   "outputs": [],
   "source": [
    "# Solution to slicing by index exercise\n",
    "\n",
    "# Data\n",
    "dates = pd.date_range('19740101', periods=6)\n",
    "df = pd.DataFrame(np.random.randn(6, 4), index = dates, columns = list('ABCD'))\n",
    "print(df)\n",
    "\n",
    "# Slice out first row\n",
    "a = df.iloc[0]\n",
    "print(a)\n",
    "\n",
    "# Slice out the first column\n",
    "b = df.iloc[:, 0]\n",
    "print(b)\n",
    "\n",
    "# Slice out the first+last row and first+last column\n",
    "c = df.iloc[[0, 5], [0, 3]]\n",
    "print(c)"
   ]
  },
  {
   "cell_type": "markdown",
   "metadata": {},
   "source": [
    "SOLUTION 3"
   ]
  },
  {
   "cell_type": "code",
   "execution_count": null,
   "metadata": {
    "collapsed": true
   },
   "outputs": [],
   "source": [
    "# Solution to showing that slicing a dataframe produces a view, not a copy\n",
    "\n",
    "# This will likely produce a warning...\n",
    "\n",
    "# Data\n",
    "n = pd.DataFrame(np.random.randn(12).reshape(3, 4))\n",
    "print('original n:', n, sep = '\\n')\n",
    "\n",
    "# Slice n\n",
    "view = n[0:1]\n",
    "print('\\nview:', view, sep = '\\n')\n",
    "\n",
    "# Set first element (0,0) to 0\n",
    "view.iloc[0, 0] = 0\n",
    "print('\\nmodified view:', view, sep = '\\n')\n",
    "\n",
    "# Look for 0,0 being 0 when printed below\n",
    "print('\\nn', n, sep = '\\n')"
   ]
  },
  {
   "cell_type": "markdown",
   "metadata": {},
   "source": [
    "SOLUTION 4"
   ]
  },
  {
   "cell_type": "code",
   "execution_count": null,
   "metadata": {
    "collapsed": true
   },
   "outputs": [],
   "source": [
    "# Solution to inplace replacement of NaNs\n",
    "\n",
    "df = pd.DataFrame({'one' : pd.Series(np.random.randn(3), index=['a', 'b', 'c']),\n",
    "    'two' : pd.Series(np.random.randn(3), index=['a', 'b', 'd']),\n",
    "    'three' : pd.Series(np.random.randn(3), index=['b', 'c', 'd'])})\n",
    "print(df)\n",
    "\n",
    "df[pd.isnull(df)] = 0\n",
    "\n",
    "print(df)\n",
    "\n",
    "# For fun, replace with 'hi!' instead of 0 - will this work?\n",
    "\n",
    "# By the way, did you notice the dataframe produced from a dictonary\n",
    "#   alphabetizes by the keys?  This always happens."
   ]
  },
  {
   "cell_type": "markdown",
   "metadata": {},
   "source": [
    "SOLUTION 5"
   ]
  },
  {
   "cell_type": "code",
   "execution_count": null,
   "metadata": {
    "collapsed": true
   },
   "outputs": [],
   "source": [
    "# Solution to setting rows of an empty dataframe\n",
    "\n",
    "# Our empty 100x10 dataframe (initialized with null values)\n",
    "df = pd.DataFrame(index = range(100), columns = range(10))\n",
    "\n",
    "# Array to which we wish to assign each row\n",
    "row = np.random.randn(10)\n",
    "\n",
    "for i in range(df.shape[0]):\n",
    "    df.iloc[i] = row \n",
    "\n",
    "df.head()"
   ]
  },
  {
   "cell_type": "markdown",
   "metadata": {},
   "source": [
    "## Solutions for 09.DataAnalysisII"
   ]
  },
  {
   "cell_type": "markdown",
   "metadata": {
    "collapsed": true
   },
   "source": [
    "SOLUTION 1"
   ]
  },
  {
   "cell_type": "code",
   "execution_count": null,
   "metadata": {
    "collapsed": true
   },
   "outputs": [],
   "source": [
    "# Solution to using groupby to split columns by a function\n",
    "df = pd.DataFrame({'A': ['A0', 'A1', 'A2', 'A3'],\n",
    "                 'B': ['B0', 'B1', 'B2', 'B3'],\n",
    "                 'C': ['C0', 'C1', 'C2', 'C3'],\n",
    "                 'D': ['D0', 'D1', 'D2', 'D3'],\n",
    "                 'E': ['E0', 'E1', 'E2', 'E3']},\n",
    "                 index = pd.date_range('1974-01-01', periods=4))\n",
    "\n",
    "func = lambda x: 'vowel' if x.lower() in 'aeiou' else 'consonant'\n",
    "\n",
    "grouped = df.groupby(func, axis = 1)\n",
    "\n",
    "for key, values in grouped:\n",
    "    print('\\n', key, values, sep = '\\n')"
   ]
  },
  {
   "cell_type": "markdown",
   "metadata": {},
   "source": [
    "SOLUTION 2"
   ]
  },
  {
   "cell_type": "code",
   "execution_count": null,
   "metadata": {
    "collapsed": true
   },
   "outputs": [],
   "source": [
    "# Solution to heirarchical indices and subscription exercise\n",
    "\n",
    "from IPython.display import display_html\n",
    "\n",
    "# Set up data with indices\n",
    "arrays = [np.array([1, 2, 1, 2]), np.array([3, 4, 7, 8])]\n",
    "tuples = list(zip(*arrays))\n",
    "multiidx = pd.MultiIndex.from_tuples(tuples, names=('first', 'second'))\n",
    "print(multiidx)\n",
    "\n",
    "df = pd.DataFrame({'A': ['A0', 'A1', 'A2', 'A3'],\n",
    "                 'B': ['B0', 'B1', 'B2', 'B3'],\n",
    "                 'C': ['C0', 'C1', 'C2', 'C3'],\n",
    "                 'D': ['D0', 'D1', 'D2', 'D3']},\n",
    "                index = multiidx)\n",
    "\n",
    "display_html(df)\n",
    "\n",
    "display_html(df.ix[1])\n",
    "# If numerical label not in df, KeyError\n",
    "\n",
    "display_html(df.iloc[1])\n",
    "# If index value not in df (too large), IndexError\n",
    "\n",
    "# These produce the same thing:\n",
    "display_html(df.iloc[[1]])\n",
    "display_html(df.ix[[1]])"
   ]
  },
  {
   "cell_type": "markdown",
   "metadata": {},
   "source": [
    "SOLUTION 3"
   ]
  },
  {
   "cell_type": "code",
   "execution_count": null,
   "metadata": {
    "collapsed": true
   },
   "outputs": [],
   "source": [
    "# Solution to appending a Series to dataframe exercise\n",
    "\n",
    "from IPython.display import display_html\n",
    "\n",
    "\n",
    "df = pd.DataFrame({'HPI':[80,85,88,85],\n",
    "                    'Int_rate':[2, 3, 2, 2],\n",
    "                    'US_GDP_Thousands':[50, 55, 65, 55]},\n",
    "                   index = [2001, 2002, 2003, 2004])\n",
    "display_html(df)\n",
    "\n",
    "# Give the series a name (MUST do, or use append's ignore_index=True)\n",
    "s = pd.Series({'HPI': 82,\n",
    "                    'Int_rate': 3,\n",
    "                    'US_GDP_Thousands': 65},\n",
    "             name = 's')\n",
    "\n",
    "display_html(s)\n",
    "\n",
    "df = df.append(s).set_index(pd.Series([2001, 2002, 2003, 2004, 2005]))\n",
    "df"
   ]
  },
  {
   "cell_type": "markdown",
   "metadata": {},
   "source": [
    "## Solutions for 10.MachineLearningI"
   ]
  },
  {
   "cell_type": "markdown",
   "metadata": {},
   "source": [
    "SOLUTION 1"
   ]
  },
  {
   "cell_type": "code",
   "execution_count": null,
   "metadata": {
    "collapsed": true
   },
   "outputs": [],
   "source": [
    "# Solution - Follow the general pattern\n",
    "import numpy as np\n",
    "from sklearn.linear_model import Ridge\n",
    "\n",
    "ridge = Ridge(alpha = 0.5)\n",
    "data = np.array(sorted(np.random.randint(1, 10, size = 10)))\n",
    "targets = sorted(np.random.randint(1, 10, size = 10))\n",
    "\n",
    "X = data[:-1].reshape(-1, 1)\n",
    "y = targets[:-1]\n",
    "X_test = data[-1]\n",
    "y_test = targets[-1]\n",
    "_ = ridge.fit(X, y)\n",
    "y_pred = ridge.predict(X_test)\n",
    "\n",
    "print('Predicted value %s, real value %s' % (\n",
    "        y_pred, y_test))\n",
    "\n",
    "print('Coefs: %s' % \n",
    "      logistic.coef_)\n",
    "\n",
    "# plot!\n",
    "%matplotlib inline\n",
    "import matplotlib.pyplot as plt\n",
    "\n",
    "plt.scatter(X, y)\n",
    "plt.ylabel('y')\n",
    "plt.xlabel('X')"
   ]
  },
  {
   "cell_type": "code",
   "execution_count": null,
   "metadata": {
    "collapsed": true
   },
   "outputs": [],
   "source": [
    "# Filled in blanks\n",
    "# Load data\n",
    "from sklearn import datasets\n",
    "\n",
    "iris = datasets.load_iris()\n",
    "\n",
    "# Check type of data matrix.  fill in the blank\n",
    "print(type(iris.data))\n",
    "\n",
    "# Check type of target array.  fill in the blank\n",
    "print(type(iris.target))\n",
    "\n",
    "# What other types can we use for the target labels?\n",
    "# Answer: list, range() object, any list-like strucure really"
   ]
  },
  {
   "cell_type": "code",
   "execution_count": null,
   "metadata": {
    "collapsed": true
   },
   "outputs": [],
   "source": [
    "# Let's add a NEW feature - a ratio of two of the iris measurements.  Filled in blanks\n",
    "df = pd.DataFrame(X, columns = iris.feature_names)\n",
    "\n",
    "# New feature is petal width / sepal width\n",
    "df['petal width / sepal width'] = df['petal width (cm)'] / df['sepal width (cm)']\n",
    "\n",
    "# Grab feature names + new one\n",
    "new_feature_names = df.columns\n",
    "print('New feature names:', list(new_feature_names))\n",
    "\n",
    "# We've now added a new column to our data\n",
    "X = np.array(df)"
   ]
  },
  {
   "cell_type": "code",
   "execution_count": null,
   "metadata": {
    "collapsed": true
   },
   "outputs": [],
   "source": [
    "# Perform feature selection - Filled in blanks\n",
    "\n",
    "#  Input is scoring function (here chi2) to get univariate p-values\n",
    "#  and number of top-scoring features (k) - here we get the top 3\n",
    "dim_red = SelectKBest(chi2, k = 3)\n",
    "\n",
    "# Train\n",
    "dim_red.fit(X, y)\n",
    "\n",
    "# Use model to transform original data\n",
    "X_t = dim_red.transform(X)"
   ]
  },
  {
   "cell_type": "code",
   "execution_count": null,
   "metadata": {
    "collapsed": true
   },
   "outputs": [],
   "source": [
    "# PCA for dimensionality reduction - Filled in blanks\n",
    "\n",
    "from sklearn import decomposition\n",
    "from sklearn import datasets\n",
    "\n",
    "iris = datasets.load_iris()\n",
    "\n",
    "X, y = iris.data, iris.target\n",
    "\n",
    "# Perform principal component analysis\n",
    "# Selects the number of components such that the amount of variance \n",
    "#   that needs to be explained is greater than the percentage specified\n",
    "pca = decomposition.PCA(0.95)\n",
    "pca.fit(X)\n",
    "\n",
    "# Apply pca to data - like SelectKBest above\n",
    "X_t = pca.transform(X)\n",
    "\n",
    "# Check the dimensions of the transformed data in X_t\n",
    "X_t.shape"
   ]
  },
  {
   "cell_type": "markdown",
   "metadata": {},
   "source": [
    "## Solutions for 11.MachineLearningII"
   ]
  },
  {
   "cell_type": "code",
   "execution_count": null,
   "metadata": {
    "collapsed": true
   },
   "outputs": [],
   "source": [
    "# Feed in test data - Filled in blanks\n",
    "y_pred = t.predict(X_test)\n",
    "\n",
    "# Compare first predicted value to first test value for labels\n",
    "print(\"Prediction: %d, Original label: %d\" % (y_pred[0], y_test[0]))"
   ]
  },
  {
   "cell_type": "code",
   "execution_count": null,
   "metadata": {
    "collapsed": true
   },
   "outputs": [],
   "source": [
    "# Split into training and test (30% into test) - Filled in blank\n",
    "X_train, X_test, y_train, y_test = train_test_split(X, y, test_size = 0.3)"
   ]
  },
  {
   "cell_type": "code",
   "execution_count": null,
   "metadata": {
    "collapsed": true
   },
   "outputs": [],
   "source": [
    "from sklearn.ensemble import RandomForestClassifier\n",
    "\n",
    "forest = RandomForestClassifier(max_depth=4,\n",
    "                                criterion = 'entropy', \n",
    "                                n_estimators = 100, \n",
    "                                class_weight = 'balanced',\n",
    "                                n_jobs = -1,\n",
    "                               random_state = 2)\n",
    "# Filled in blanks below\n",
    "forest.fit(X_train, y_train)\n",
    "\n",
    "y_preds = iris.target_names[forest.predict(X_test)]\n",
    "\n",
    "forest.score(X_test, y_test)"
   ]
  },
  {
   "cell_type": "code",
   "execution_count": null,
   "metadata": {
    "collapsed": true
   },
   "outputs": [],
   "source": [
    "# Let's use cross validation / scoring method - Filled in blank\n",
    "score = cross_validation.cross_val_score(forest, X, y)\n",
    "score"
   ]
  },
  {
   "cell_type": "code",
   "execution_count": null,
   "metadata": {
    "collapsed": true
   },
   "outputs": [],
   "source": [
    "# Get back to our 4D dataset - Filled in blank below\n",
    "X, y = iris.data, iris.target\n",
    "\n",
    "pca = PCA(n_components = 2)\n",
    "\n",
    "# What method is useful here (to combine two steps...)\n",
    "X_trans = pca.fit_transform(X)\n",
    "\n",
    "print(X.shape)\n",
    "print(X_trans.shape)"
   ]
  },
  {
   "cell_type": "markdown",
   "metadata": {},
   "source": [
    "## Solutions for 12.MachineLearningIII"
   ]
  },
  {
   "cell_type": "code",
   "execution_count": null,
   "metadata": {
    "collapsed": true
   },
   "outputs": [],
   "source": [
    "# Another example with some toy data - Filled in blanks\n",
    "\n",
    "from sklearn.metrics import classification_report\n",
    "\n",
    "y_test = ['cat', 'dog', 'mouse', 'mouse', 'cat', 'cat']\n",
    "y_pred = ['dog', 'dog', 'cat', 'mouse', 'cat', 'mouse']\n",
    "\n",
    "# How did our predictor do?\n",
    "print(classification_report(y_test, y_pred, target_names = y_test))"
   ]
  },
  {
   "cell_type": "markdown",
   "metadata": {},
   "source": [
    "SOLUTION"
   ]
  },
  {
   "cell_type": "code",
   "execution_count": null,
   "metadata": {
    "collapsed": true
   },
   "outputs": [],
   "source": [
    "# Solution to exercise on hyperparamter tuning\n",
    "\n",
    "# Import model algorithm and data\n",
    "from sklearn import svm, datasets\n",
    "from sklearn.grid_search import GridSearchCV\n",
    "\n",
    "\n",
    "# Import splitter\n",
    "from sklearn.cross_validation import train_test_split\n",
    "\n",
    "# Import metrics\n",
    "from sklearn.metrics import confusion_matrix\n",
    "\n",
    "# Feature data (X) and labels (y)\n",
    "iris = datasets.load_iris()\n",
    "X, y = iris.data, iris.target\n",
    "\n",
    "clf = svm.SVC(kernel = 'rbf')\n",
    "\n",
    "param_grid = {'C': np.arange(0.01, 1.1,0.2), \n",
    "              'gamma': np.arange(0, 11, 2)}\n",
    "\n",
    "print(param_grid)\n",
    "    \n",
    "grid_search = GridSearchCV(clf, param_grid=param_grid)\n",
    "grid_search.fit(X, y)\n",
    "print(grid_search.best_params_)\n",
    "\n",
    "# Split data into training and test sets\n",
    "X_train, X_test, y_train, y_test = \\\n",
    "    train_test_split(X, y, train_size = 0.90, random_state = 42)\n",
    "\n",
    "# Score\n",
    "print(grid_search.score(X_test, y_test))"
   ]
  },
  {
   "cell_type": "markdown",
   "metadata": {},
   "source": [
    "## Solutions for 13.Visualization"
   ]
  },
  {
   "cell_type": "markdown",
   "metadata": {},
   "source": [
    "SOLUTION 1"
   ]
  },
  {
   "cell_type": "code",
   "execution_count": null,
   "metadata": {
    "collapsed": true
   },
   "outputs": [],
   "source": [
    "# Solution to modifying a hist\n",
    "\n",
    "# data for hist\n",
    "samples = np.random.normal(loc=1.0, scale=0.5, size=1000)\n",
    "\n",
    "plt.hist(samples, bins=50, color = 'purple', alpha = 0.2)\n",
    "plt.title('Histogram of some random, normally distributed data')\n",
    "plt.ylabel('Frequency')"
   ]
  },
  {
   "cell_type": "markdown",
   "metadata": {},
   "source": [
    "SOLUTION 2"
   ]
  },
  {
   "cell_type": "code",
   "execution_count": null,
   "metadata": {
    "collapsed": true
   },
   "outputs": [],
   "source": [
    "# Solution to figures and subplots\n",
    "\n",
    "# figure and subplots\n",
    "fig = plt.figure()\n",
    "\n",
    "# first subplot\n",
    "ax1 = fig.add_subplot(2,1,1) # two rows, one column, first plot\n",
    "ax1.plot(x, y)\n",
    "ax1.set_ylim([-2, 2])\n",
    "\n",
    "# another subplot\n",
    "ax2 = fig.add_subplot(212) # alternate notation\n",
    "ax2.plot(x, z, color = 'y')\n",
    "ax2.set_ylim([-2, 2])\n",
    "\n",
    "# more data and another plot on ax1 (first subplot)\n",
    "w = 2 * np.cos(x / np.pi)\n",
    "ax1.plot(x, w, color = 'r') # can continue plotting on the first axis!"
   ]
  },
  {
   "cell_type": "code",
   "execution_count": null,
   "metadata": {
    "collapsed": true
   },
   "outputs": [],
   "source": [
    "# create a line plot.  Filled in blank.\n",
    "p = ggplot(flights, aes('date', 'passengers', color='month')) + geom_line()\n",
    "p"
   ]
  }
 ],
 "metadata": {
  "kernelspec": {
   "display_name": "Python 3",
   "language": "python",
   "name": "python3"
  },
  "language_info": {
   "codemirror_mode": {
    "name": "ipython",
    "version": 3
   },
   "file_extension": ".py",
   "mimetype": "text/x-python",
   "name": "python",
   "nbconvert_exporter": "python",
   "pygments_lexer": "ipython3",
   "version": "3.5.1"
  }
 },
 "nbformat": 4,
 "nbformat_minor": 1
}
