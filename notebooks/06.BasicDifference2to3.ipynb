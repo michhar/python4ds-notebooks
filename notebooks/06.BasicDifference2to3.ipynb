{
 "cells": [
  {
   "cell_type": "markdown",
   "metadata": {},
   "source": [
    "# The Basic Differences between Python 2 and 3\n",
    "## <img src='https://az712634.vo.msecnd.net/notebooks/python_course/v1/cupojo.png' alt=\"Smiley face\" width=\"42\" height=\"42\" align=\"left\">Learning Objectives\n",
    "---\n",
    "* Don't panic (go get a cup of coffee or tea right now)\n",
    "* Understand some history and context for the change\n",
    "* Get an idea of why one would swtich to Python 3\n",
    "* Get an idea of why one would not swtich to Python 3\n",
    "* Get an overview of the major changes"
   ]
  },
  {
   "cell_type": "markdown",
   "metadata": {},
   "source": [
    "## A very brief intro\n",
    "> <i>What are the differences?...Short version: Python 2.x is legacy, Python 3.x is the present and future of the language</i><br><br>--Python2orPython3 wiki\n",
    "\n",
    "Don't panic...this is not to say you must make the switch right now or ever (i.e. nothing terribly horrible will happen to you if you stick with Python 2).  In fact, if your code is truly <b>legacy</b> or your client doesn't have the resources to invest in refactoring a large code-base, there's nothing wrong with keeping it in Python 2 as long as you are aware of some issues discussed below and other known issues.\n",
    "\n",
    "\n",
    "On the other hand, if I was a student and learning Python from scratch, I'd start with Python 3.  If I was a package developer, with no weird third-party Python 2 package dependencies, I'd write my code to be completely <b>compatible</b> with Python 3 (expanded upon below)."
   ]
  },
  {
   "cell_type": "markdown",
   "metadata": {},
   "source": [
    "## A very brief history"
   ]
  },
  {
   "cell_type": "markdown",
   "metadata": {},
   "source": [
    "Python's first implementation was in December 1989. Python 2 was released October 2000 and the latest Python 2 release is version 2.7. Python 3 has been around since December 2008. Python 3 broke backwards-compatiblity with <b>some</b> Python 2 code.<br>\n",
    "\n",
    "This may seem like a huge concern as most code out there is still written in Python 2 and Python 2 is still utilized more than Python 3.  The good news, though, is that the designers of this jump have made the change smoother with modules to bridge these versions (like `__future__`), a converter tool called `2to3` and, as usual, great documentation.  It is common practice now to develop packages for both versions and it can even be the same code-base!<br>\n",
    "\n",
    "Here, I just want to call attention to some of the major changes and offer some tips for facing the challenges presented by this major update."
   ]
  },
  {
   "cell_type": "markdown",
   "metadata": {},
   "source": [
    "## Major arguments for the switch to Python 3"
   ]
  },
  {
   "cell_type": "markdown",
   "metadata": {},
   "source": [
    "* Less duplication of features\n",
    "* Some Python 2 behavior is outright dangerously bad (see leaky for-loops below)\n",
    "* Most PyPI packages have been updated (please see http://py3readiness.org/ for daily updates of package availability)\n",
    "* No more releases of Python 2.x series after 2.7\n",
    "* Support for Python 2.7 disappears in 2020\n",
    "* Python 3 comes packaged with a refactoring tool `2to3`, but it is recommended that developers make their code compatible with 2 and 3 simultaneously (done with modules like [`__future__`](http://python-future.org/imports.html) and [`six`](https://pythonhosted.org/six/)).  Check out: https://docs.python.org/3/howto/pyporting.html)"
   ]
  },
  {
   "cell_type": "markdown",
   "metadata": {},
   "source": [
    "## Drawbacks (for devs)\n",
    "* There are still a significant number of 3rd-party modules that have not been ported to Python 3 so carefully check package dependencies before switching, upgrading or deciding on Python 3 (see https://caniusepython3.com/ and https://pypi.org/project/caniusepython3/).\n",
    "* If a code-base is large and mostly in Python 2, it might be challenging and/or expensive to make the switch"
   ]
  },
  {
   "cell_type": "markdown",
   "metadata": {},
   "source": [
    "## Changes for the better\n",
    "Caveat:  Code is used here for illustration and this teaching module is not meant to be a substitute for a developers guide. Also, this is <b>not</b> an exhaustive list of the changes.<br>\n",
    "\n",
    "Go to this official [wiki](https://wiki.python.org/moin/Python2orPython3) for more information on the switch."
   ]
  },
  {
   "cell_type": "markdown",
   "metadata": {},
   "source": [
    "## These are the changes we will cover\n",
    "1.  The leaky for-loop is gone\n",
    "* Intuitive integer operations\n",
    "* Removal of explicit `unicode` type for strings (only `str` remains)\n",
    "* Type comparisons that make more sense (you can't compare an integer to a string anymore, sorry)\n",
    "* I/O (`print` and `input` changes)\n",
    "  * `print` is now a function\n",
    "  * no more `raw_input`, only `input`\n",
    "* Class definitions are simplified (by default always inherit from `object`)\n",
    "* Error/exception raising and handling look different\n",
    "* Many list outputs are now iterables (like `zip` and dictionary's `items()` method)"
   ]
  },
  {
   "cell_type": "markdown",
   "metadata": {},
   "source": [
    "### No more leaky for-loops in list comprehension variables\n",
    "The following code in Python 2 would have updated our global variable `i` to the value of the local `i` (try in a Python 2 flavored notebook if you wish), but in Python 3 this does not happen thankfully (to try Python 2.7 uncomment the first line of the cell with the `%%` magic - if \"python2\" indicates this version)."
   ]
  },
  {
   "cell_type": "code",
   "execution_count": null,
   "metadata": {
    "ExecuteTime": {
     "end_time": "2016-06-28T22:23:50.517786",
     "start_time": "2016-06-28T22:23:50.513413"
    },
    "collapsed": false
   },
   "outputs": [],
   "source": [
    "# %%python2\n",
    "i = 1\n",
    "print('i before ', i)\n",
    "comp = [i for i in range(5)]\n",
    "print('i after: ', i)"
   ]
  },
  {
   "cell_type": "markdown",
   "metadata": {},
   "source": [
    "> To try in Python 2, copy this into a notebook or interpreter (make sure you have `__future__` installed):\n",
    "```\n",
    "from __future__ import print_function\n",
    "i = 1\n",
    "print('i before ', i)\n",
    "comp = [i for i in range(5)]\n",
    "print('i after: ', i)\n",
    "```"
   ]
  },
  {
   "cell_type": "markdown",
   "metadata": {},
   "source": [
    "### More intuitive integer operations"
   ]
  },
  {
   "cell_type": "markdown",
   "metadata": {},
   "source": [
    "<p>In Python 2 one would write:</p>\n",
    "<pre><code>1 / 2\n",
    "</code></pre>\n",
    "<p>which produces</p>\n",
    "<pre><code>0</code></pre>\n",
    "<p>Let's try this in Python 3</p>"
   ]
  },
  {
   "cell_type": "code",
   "execution_count": null,
   "metadata": {
    "collapsed": false
   },
   "outputs": [],
   "source": [
    "1 / 2"
   ]
  },
  {
   "cell_type": "markdown",
   "metadata": {},
   "source": [
    "For the floor operation in Python 3, the operator looks like this"
   ]
  },
  {
   "cell_type": "code",
   "execution_count": null,
   "metadata": {
    "collapsed": false
   },
   "outputs": [],
   "source": [
    "1 // 2"
   ]
  },
  {
   "cell_type": "markdown",
   "metadata": {},
   "source": [
    "### Changes to string representation"
   ]
  },
  {
   "cell_type": "markdown",
   "metadata": {},
   "source": [
    "* All strings (<code>str</code> type) are now Unicode.  Previously, in Python 2, <code>str</code> could represent ASCII strings or strings of arbitrary bytes.  Additionally, Python 2 had an explicit `unicode` type."
   ]
  },
  {
   "cell_type": "markdown",
   "metadata": {},
   "source": [
    "### Comparison operations between incompatible types is not allowed anymore"
   ]
  },
  {
   "cell_type": "markdown",
   "metadata": {},
   "source": [
    "<p>Previously, in Python 2, this was allowed without throwing an exception:</p>\n",
    "\n",
    "```python\n",
    "42 < 'somestring'\n",
    "```\n",
    "<p>which produces</p>\n",
    "<pre><code>True</code></pre>\n",
    "<p>Now let's try this in Python 3:</p>"
   ]
  },
  {
   "cell_type": "code",
   "execution_count": null,
   "metadata": {
    "collapsed": false
   },
   "outputs": [],
   "source": [
    "42 < 'somestring'"
   ]
  },
  {
   "cell_type": "markdown",
   "metadata": {},
   "source": [
    "### Improvements to console I/O\n",
    "* In Python 2 input is handled by a <i>function</i> (<code>raw_input</code>) and output by a <i>statement</i> (<code>print</code>)"
   ]
  },
  {
   "cell_type": "markdown",
   "metadata": {},
   "source": [
    "<p>In Python 2 the following could be confused for proper I/O<p>\n",
    "```python\n",
    "import math\n",
    "number = float(raw_input('Enter a value:'))\n",
    "print 'Square-root of', number, 'is', math.sqrt(number)\n",
    "```\n",
    "<p>Which produces (unexpectantly) a tuple (we just wanted a string):</p>\n",
    "```python\n",
    "('Square-root of', 2.0, 'is', 1.4142135623730951)\n",
    "```"
   ]
  },
  {
   "cell_type": "markdown",
   "metadata": {},
   "source": [
    "In Python 3, we can achieve what we want with the <i>functions</i> `print` and `input`"
   ]
  },
  {
   "cell_type": "code",
   "execution_count": null,
   "metadata": {
    "collapsed": false
   },
   "outputs": [],
   "source": [
    "import math\n",
    "number = float(input('Enter a value:'))\n",
    "print('Square-root of', number, 'is', math.sqrt(number))"
   ]
  },
  {
   "cell_type": "markdown",
   "metadata": {},
   "source": [
    "### <code>raw_input</code> vs. <code>input</code>"
   ]
  },
  {
   "cell_type": "markdown",
   "metadata": {},
   "source": [
    "As you just saw, Python 3 uses `input` in place of <code>raw_input</code>.  In Python 2 the use the function <code>input</code> would fail, for example, if a string lacked quotation marks, or if a built-in function name was used accidentally. <br><br> For instance, this might produce undesired results in Python 2:\n",
    "```python\n",
    "input('What is your name: ')\n",
    "# and at the prompt you enter any set of characters not in quotations\n",
    "```\n",
    "<p>If the user entered a string <b>without</b> quotes this would <b>fail</b> and this gets especially confusing if one enters a built-in function like <code>max</code> which in fact would not produce an error at all.  Python 2 thus added `raw_input` to cover this case.  Then Python 3 got rid of `raw_input` and made the function `input` smarter.</p>"
   ]
  },
  {
   "cell_type": "code",
   "execution_count": null,
   "metadata": {
    "collapsed": false
   },
   "outputs": [],
   "source": [
    "# Testing out input in Python 3\n",
    "input('This will always be treated like a string.  Try entering a non-string, e.g., 34.5. ')"
   ]
  },
  {
   "cell_type": "markdown",
   "metadata": {},
   "source": [
    "><img src='https://az712634.vo.msecnd.net/notebooks/python_course/v1/ideaballoon.png' alt=\"Smiley face\" width=\"42\" height=\"42\" align=\"left\">TIP:  for the square-root example above, if I was writing Python-3-compatible Python 2 code (like if I was creating a Python 2+3 compatible package) I could write:<br><br><br>\n",
    "```python\n",
    "# This is Python 2 code that can be run with the Python 3 interpreter\n",
    "from __future__ import print_function\n",
    "from builtins import input\n",
    "import math\n",
    "number = float(input('Enter a value:'))\n",
    "print('Square-root of', number, 'is', math.sqrt(number))\n",
    "```"
   ]
  },
  {
   "cell_type": "markdown",
   "metadata": {},
   "source": [
    "### Defining classes is more straight-forward in Python 3"
   ]
  },
  {
   "cell_type": "markdown",
   "metadata": {},
   "source": [
    "<p>In Python 2, there were two ways to define classes, the old-style and new-style way as in</p>\n",
    "```python\n",
    "# Old-style\n",
    "class Foo:\n",
    "    ...\n",
    "# New-style\n",
    "class Foo(object):\n",
    "    ...\n",
    "```"
   ]
  },
  {
   "cell_type": "markdown",
   "metadata": {},
   "source": [
    "<p>In Python 3, all class definitions inherit from the base-class <code>object</code> without having to explicity write this (as is done explicitly in the new-style above).  So, the above two styles are now equivalent.</p>"
   ]
  },
  {
   "cell_type": "markdown",
   "metadata": {
    "collapsed": true
   },
   "source": [
    "### Exceptions\n",
    "* Raising exceptions\n",
    "* Handling exceptions"
   ]
  },
  {
   "cell_type": "markdown",
   "metadata": {},
   "source": [
    "<p>In Python 2 we raise an exception in two ways:</p>\n",
    "```python\n",
    "# Old-style\n",
    "raise IOError, \"an i/o error\"\n",
    "    ...\n",
    "# New-style\n",
    "raise IOError(\"an i/o error\")\n",
    "    ...\n",
    "```"
   ]
  },
  {
   "cell_type": "markdown",
   "metadata": {},
   "source": [
    "In Python 3, <b>only</b> the new-style of raising exceptions is <b>allowed</b>."
   ]
  },
  {
   "cell_type": "code",
   "execution_count": null,
   "metadata": {
    "collapsed": false
   },
   "outputs": [],
   "source": [
    "# This should NOT work in Python 3 - you'll get SyntaxError instead of OSError\n",
    "raise IOError, \"an i/o error\""
   ]
  },
  {
   "cell_type": "code",
   "execution_count": null,
   "metadata": {
    "collapsed": false
   },
   "outputs": [],
   "source": [
    "# This should work in Python 3 - i.e. you will get an OSError \"an i/o error\" sent\n",
    "raise IOError(\"an i/o error\")"
   ]
  },
  {
   "cell_type": "markdown",
   "metadata": {},
   "source": [
    "<b>Handling exceptions</b>"
   ]
  },
  {
   "cell_type": "markdown",
   "metadata": {},
   "source": [
    "In Python 2 we handle an exception like (ok, and by the way this wouldn't even throw an exception):\n",
    "```python\n",
    "try:\n",
    "    'towel' > 42\n",
    "except TypeError, e:\n",
    "    print e, '--> that is my error'\n",
    "```\n",
    "\n",
    "And in Python 3 we would use the <b>`as`</b> syntax (and it appropriately throws an exception!):"
   ]
  },
  {
   "cell_type": "code",
   "execution_count": null,
   "metadata": {
    "collapsed": false
   },
   "outputs": [],
   "source": [
    "try:\n",
    "    'towel' > 42\n",
    "except TypeError as e:\n",
    "    print(e, '--> that is my error')"
   ]
  },
  {
   "cell_type": "markdown",
   "metadata": {},
   "source": [
    "### Iterables replace lists in many situations\n",
    "In Python 2 these common methods and functions returned lists, however in Python 3 they return iterables:\n",
    "* `range()`\n",
    "* `map()`\n",
    "* `zip()`\n",
    "* `filter()`\n",
    "* dictionary's `.values()`\n",
    "* dictionary's `.keys()`\n",
    "* dictionary's `.items()`\n",
    "\n",
    "Very cool as it saves on memory and the iterable can be easily returned to a list with the `list()` function"
   ]
  },
  {
   "cell_type": "code",
   "execution_count": null,
   "metadata": {
    "collapsed": false
   },
   "outputs": [],
   "source": [
    "a = [1, 2, 3, 4]\n",
    "b = [5, 6, 7, 8]\n",
    "c = [a, b]\n",
    "zip(a, b, c)"
   ]
  },
  {
   "cell_type": "code",
   "execution_count": null,
   "metadata": {
    "collapsed": false
   },
   "outputs": [],
   "source": [
    "# Now wrap this in the list function...\n",
    "list(zip(a, b, c))"
   ]
  },
  {
   "cell_type": "markdown",
   "metadata": {},
   "source": [
    "Created by a Microsoft Employee.\n",
    "\t\n",
    "The MIT License (MIT)\n",
    "\n",
    "Copyright (c) 2016"
   ]
  },
  {
   "cell_type": "code",
   "execution_count": null,
   "metadata": {
    "collapsed": true
   },
   "outputs": [],
   "source": []
  }
 ],
 "metadata": {
  "kernelspec": {
   "display_name": "Python 3",
   "language": "python",
   "name": "python3"
  },
  "language_info": {
   "codemirror_mode": {
    "name": "ipython",
    "version": 3
   },
   "file_extension": ".py",
   "mimetype": "text/x-python",
   "name": "python",
   "nbconvert_exporter": "python",
   "pygments_lexer": "ipython3",
   "version": "3.5.1"
  },
  "nav_menu": {},
  "toc": {
   "navigate_menu": true,
   "number_sections": true,
   "sideBar": true,
   "threshold": 6,
   "toc_cell": false,
   "toc_section_display": "block",
   "toc_window_display": false
  }
 },
 "nbformat": 4,
 "nbformat_minor": 0
}
