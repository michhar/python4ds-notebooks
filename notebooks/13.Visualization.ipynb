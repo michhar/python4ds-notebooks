{
 "cells": [
  {
   "cell_type": "markdown",
   "metadata": {},
   "source": [
    "# Visualization"
   ]
  },
  {
   "cell_type": "markdown",
   "metadata": {},
   "source": [
    "<img src='https://az712634.vo.msecnd.net/notebooks/python_course/v1/desktop_pink.png' alt=\"Smiley face\" width=\"52\" align=\"left\">\n",
    "## Learning Objectives\n",
    "* Get a taste of plotting with `matplotlib` (*de facto* plotting in python)\n",
    "* Take `ggplot` (grammer of graphics plotting) out for a spin"
   ]
  },
  {
   "cell_type": "code",
   "execution_count": null,
   "metadata": {
    "collapsed": false
   },
   "outputs": [],
   "source": [
    "# familiar imports at top\n",
    "%matplotlib inline\n",
    "import matplotlib.pyplot as plt\n",
    "import numpy as np\n",
    "import pandas as pd"
   ]
  },
  {
   "cell_type": "code",
   "execution_count": null,
   "metadata": {
    "collapsed": true
   },
   "outputs": [],
   "source": [
    "# matplotlib and ggplot are very verbose\n",
    "import warnings\n",
    "warnings.filterwarnings('ignore')"
   ]
  },
  {
   "cell_type": "markdown",
   "metadata": {},
   "source": [
    "## Matplotlib"
   ]
  },
  {
   "cell_type": "markdown",
   "metadata": {},
   "source": [
    "**A simple line plot**"
   ]
  },
  {
   "cell_type": "code",
   "execution_count": null,
   "metadata": {
    "collapsed": false
   },
   "outputs": [],
   "source": [
    "# our data\n",
    "x = np.linspace(0, 2, 10)\n",
    "x"
   ]
  },
  {
   "cell_type": "code",
   "execution_count": null,
   "metadata": {
    "collapsed": false
   },
   "outputs": [],
   "source": [
    "# call plot method\n",
    "plt.plot(x, 'o-') # 'o-' is a line with circle markers"
   ]
  },
  {
   "cell_type": "code",
   "execution_count": null,
   "metadata": {
    "collapsed": true
   },
   "outputs": [],
   "source": [
    "# try changing the plot to use triangle markers (uncomment below and add data from above or your own)\n",
    "# plt.plot(___, '-v')"
   ]
  },
  {
   "cell_type": "markdown",
   "metadata": {},
   "source": [
    "**A fancier line plot**"
   ]
  },
  {
   "cell_type": "code",
   "execution_count": null,
   "metadata": {
    "collapsed": false
   },
   "outputs": [],
   "source": [
    "# two lines on a plot\n",
    "\n",
    "# call plot once\n",
    "plt.plot(x, x, 'o-', label='linear') # line with circle markers\n",
    "\n",
    "# call plot twice\n",
    "plt.plot(x, x ** 2, 'x-', label='quadratic') # line with cross markers"
   ]
  },
  {
   "cell_type": "markdown",
   "metadata": {},
   "source": [
    "What happens if you call `plot` a third time?  Try it!\n",
    "\n",
    "**Add helpful info to same plot** (legends, labels, etc.)"
   ]
  },
  {
   "cell_type": "code",
   "execution_count": null,
   "metadata": {
    "collapsed": false
   },
   "outputs": [],
   "source": [
    "# call plot once\n",
    "plt.plot(x, x, 'o-', label='linear')\n",
    "\n",
    "# call plot twice\n",
    "plt.plot(x, x ** 2, 'x-', label='quadratic')\n",
    "\n",
    "# add some helpful info to the plot\n",
    "plt.legend(loc='best')\n",
    "plt.title('Linear vs Quadratic progression')\n",
    "plt.xlabel('Input')\n",
    "plt.ylabel('Output')"
   ]
  },
  {
   "cell_type": "markdown",
   "metadata": {},
   "source": [
    "**A simple scatter plot** (with helpful info)"
   ]
  },
  {
   "cell_type": "code",
   "execution_count": null,
   "metadata": {
    "collapsed": false
   },
   "outputs": [],
   "source": [
    "# data\n",
    "x = np.arange(10)\n",
    "y = x ** 2\n",
    "\n",
    "# plot!\n",
    "plt.plot(x, y, '-o') # line w/ circle markers\n",
    "\n",
    "# helpful info\n",
    "plt.xlabel('x')\n",
    "plt.ylabel('y')\n",
    "plt.legend(['hello data'], loc = 'best')\n",
    "\n",
    "# there's also a scatter function, but plot has more general options\n",
    "# plt.scatter(x, y)"
   ]
  },
  {
   "cell_type": "markdown",
   "metadata": {},
   "source": [
    "**A simple histogram**"
   ]
  },
  {
   "cell_type": "code",
   "execution_count": null,
   "metadata": {
    "collapsed": false
   },
   "outputs": [],
   "source": [
    "# data for hist\n",
    "samples = np.random.normal(loc=1.0, scale=0.5, size=1000)"
   ]
  },
  {
   "cell_type": "code",
   "execution_count": null,
   "metadata": {
    "collapsed": false
   },
   "outputs": [],
   "source": [
    "_ = plt.hist(samples, bins=50)"
   ]
  },
  {
   "cell_type": "markdown",
   "metadata": {},
   "source": [
    "EXERCISE 1:  Modify this histogram\n",
    "* Change the color\n",
    "* Change the opacity\n",
    "* Add a title and a y-axis label\n",
    "\n",
    "HINT: Hit Shift-tab after the first open paren in plt.hist() to get help or just `help(plt.hist)`"
   ]
  },
  {
   "cell_type": "code",
   "execution_count": null,
   "metadata": {
    "collapsed": true
   },
   "outputs": [],
   "source": [
    "# Code up your solution here..."
   ]
  },
  {
   "cell_type": "markdown",
   "metadata": {},
   "source": [
    "**A fancier histogram**"
   ]
  },
  {
   "cell_type": "code",
   "execution_count": null,
   "metadata": {
    "collapsed": true
   },
   "outputs": [],
   "source": [
    "# data (from normal and Student's t distributions)\n",
    "samples_1 = np.random.normal(loc=1, scale=.5, size=10000)\n",
    "samples_2 = np.random.standard_t(df=10, size=10000)"
   ]
  },
  {
   "cell_type": "code",
   "execution_count": null,
   "metadata": {
    "collapsed": false
   },
   "outputs": [],
   "source": [
    "# set up hist and plot it\n",
    "bins = np.linspace(-3, 3, 50)\n",
    "plt.hist(samples_1, bins=bins, alpha=0.5, label='samples 1') # opacity at 50%\n",
    "plt.hist(samples_2, bins=bins, alpha=0.5, label='samples 2')\n",
    "\n",
    "# legend\n",
    "plt.legend(loc='upper left')"
   ]
  },
  {
   "cell_type": "markdown",
   "metadata": {},
   "source": [
    "**Another scatter plot**"
   ]
  },
  {
   "cell_type": "code",
   "execution_count": null,
   "metadata": {
    "collapsed": false
   },
   "outputs": [],
   "source": [
    "# data (from normal and Student's t distributions)\n",
    "samples_1 = np.random.normal(loc=1, scale=.5, size=10000)\n",
    "samples_2 = np.random.standard_t(df=10, size=10000)\n",
    "\n",
    "# plot!\n",
    "plt.scatter(samples_1, samples_2, alpha=0.1)"
   ]
  },
  {
   "cell_type": "markdown",
   "metadata": {},
   "source": [
    "**Aside: making subplots with `figure` and `subplot`**"
   ]
  },
  {
   "cell_type": "code",
   "execution_count": null,
   "metadata": {
    "collapsed": true
   },
   "outputs": [],
   "source": [
    "# data\n",
    "x = np.arange(100)\n",
    "y = np.cos(x)\n",
    "z = np.cos(np.pi * x)"
   ]
  },
  {
   "cell_type": "code",
   "execution_count": null,
   "metadata": {
    "collapsed": false
   },
   "outputs": [],
   "source": [
    "# figure and subplots\n",
    "fig = plt.figure()\n",
    "\n",
    "# first subplot\n",
    "ax1 = fig.add_subplot(2,1,1) # two rows, one column, first plot\n",
    "ax1.plot(x, y)\n",
    "ax1.set_ylim([-2, 2])\n",
    "\n",
    "# another subplot\n",
    "ax2 = fig.add_subplot(212) # alternate notation\n",
    "ax2.plot(x, z, color = 'y') # add color as well\n",
    "ax2.set_ylim([-2, 2])"
   ]
  },
  {
   "cell_type": "markdown",
   "metadata": {},
   "source": [
    "EXERCISE 2:  Add the following data to the code above and create another plot on `ax1` or the first subplot of the `figure`\n",
    "\n",
    "```python\n",
    "w = 2 * np.cos(x / np.pi)\n",
    "```\n",
    "\n",
    "FYI: You will have to copy the code from above into your solution cell."
   ]
  },
  {
   "cell_type": "code",
   "execution_count": null,
   "metadata": {
    "collapsed": true
   },
   "outputs": [],
   "source": [
    "# Code up your solution here..."
   ]
  },
  {
   "cell_type": "markdown",
   "metadata": {},
   "source": [
    "**Back to scatter plots**"
   ]
  },
  {
   "cell_type": "code",
   "execution_count": null,
   "metadata": {
    "collapsed": true
   },
   "outputs": [],
   "source": [
    "# more data\n",
    "samples_3 = np.random.normal(loc=2, scale=.5, size=10000)"
   ]
  },
  {
   "cell_type": "code",
   "execution_count": null,
   "metadata": {
    "collapsed": false
   },
   "outputs": [],
   "source": [
    "# using figure trick for subplotting\n",
    "fig = plt.figure()\n",
    "ax1 = fig.add_subplot(111)\n",
    "ax1.scatter(samples_1, samples_2, alpha=0.1, c='b', marker=\"s\", label='first')\n",
    "ax1.scatter(samples_3, samples_2, alpha=0.1, c='r', marker=\"o\", label='second')"
   ]
  },
  {
   "cell_type": "markdown",
   "metadata": {},
   "source": [
    "## `ggplot` \n",
    "* **grammer of graphics for python, finally!**"
   ]
  },
  {
   "cell_type": "code",
   "execution_count": null,
   "metadata": {
    "collapsed": false
   },
   "outputs": [],
   "source": [
    "%matplotlib inline\n",
    "from ggplot import *\n",
    "import numpy as np"
   ]
  },
  {
   "cell_type": "markdown",
   "metadata": {},
   "source": [
    "### Easiest to see how `ggplot` works in terms of layers"
   ]
  },
  {
   "cell_type": "markdown",
   "metadata": {},
   "source": [
    "#### Built-in dataset `mtcars` (yes, just like `ggplot2` in R)\n",
    "* `mtcars` is a `pandas` DataFrame, FYI"
   ]
  },
  {
   "cell_type": "code",
   "execution_count": null,
   "metadata": {
    "collapsed": false
   },
   "outputs": [],
   "source": [
    "mtcars.head()"
   ]
  },
  {
   "cell_type": "markdown",
   "metadata": {},
   "source": [
    "**mtcars format**\n",
    "\n",
    "A data frame with 32 observations on 11 variables.\n",
    "\n",
    "[, 1]\tmpg\tMiles/(US) gallon<br>\n",
    "[, 2]\tcyl\tNumber of cylinders<br>\n",
    "[, 3]\tdisp\tDisplacement (cu.in.)<br>\n",
    "[, 4]\thp\tGross horsepower<br>\n",
    "[, 5]\tdrat\tRear axle ratio<br>\n",
    "[, 6]\twt\tWeight (1000 lbs)<br>\n",
    "[, 7]\tqsec\t1/4 mile time<br>\n",
    "[, 8]\tvs\tV/S<br>\n",
    "[, 9]\tam\tTransmission (0 = automatic, 1 = manual)<br>\n",
    "[,10]\tgear\tNumber of forward gears<br>\n",
    "[,11]\tcarb\tNumber of carburetors<br>\n",
    "\n",
    "Source: Henderson and Velleman (1981), Building multiple regression models interactively. Biometrics, 37, 391â411."
   ]
  },
  {
   "cell_type": "markdown",
   "metadata": {},
   "source": [
    "### Preprocessing (continuous to discrete)\n",
    "* Create a couple new columns with some numerical values converted to strings to indicate they should be interpreted as discrete by `ggplot`"
   ]
  },
  {
   "cell_type": "code",
   "execution_count": null,
   "metadata": {
    "collapsed": true
   },
   "outputs": [],
   "source": [
    "mtcars['am_str'] = ['automatic' if x == 0 else 'manual' for x in mtcars['am']]\n",
    "mtcars['cyl_str'] = ['4' if x == 4.0 else '6' if x == 6.0 else '8' for x in mtcars['cyl']]"
   ]
  },
  {
   "cell_type": "markdown",
   "metadata": {},
   "source": [
    "### `ggplot` example 1: simple x-y plot"
   ]
  },
  {
   "cell_type": "markdown",
   "metadata": {},
   "source": [
    "<b>Create the \"canvas\" and attach data to it</b> (again, if you use R, you will think this is the same...it is)"
   ]
  },
  {
   "cell_type": "code",
   "execution_count": null,
   "metadata": {
    "collapsed": false
   },
   "outputs": [],
   "source": [
    "p = ggplot(aes(x='wt', y='mpg'), data=mtcars)\n",
    "p"
   ]
  },
  {
   "cell_type": "markdown",
   "metadata": {},
   "source": [
    "<b>Add some points</b>"
   ]
  },
  {
   "cell_type": "code",
   "execution_count": null,
   "metadata": {
    "collapsed": false
   },
   "outputs": [],
   "source": [
    "p = p + geom_point()\n",
    "p"
   ]
  },
  {
   "cell_type": "markdown",
   "metadata": {
    "collapsed": true
   },
   "source": [
    "<b>Add a trendline</b>\n",
    "This is done by\n",
    "```python\n",
    "stat_smooth(color=\"blue\")\n",
    "```"
   ]
  },
  {
   "cell_type": "code",
   "execution_count": null,
   "metadata": {
    "collapsed": false
   },
   "outputs": [],
   "source": [
    "# add the trendline.  Fill in the blanks.\n",
    "# p = ___ + ___\n",
    "# p"
   ]
  },
  {
   "cell_type": "code",
   "execution_count": null,
   "metadata": {
    "collapsed": false
   },
   "outputs": [],
   "source": [
    "# add the trendline.  Filled in blanks.\n",
    "p = p + stat_smooth(color = 'blue')\n",
    "p"
   ]
  },
  {
   "cell_type": "markdown",
   "metadata": {},
   "source": [
    "<b>Let's be a good data scientist and add units (might as well give the plot a title)</b>"
   ]
  },
  {
   "cell_type": "code",
   "execution_count": null,
   "metadata": {
    "collapsed": false
   },
   "outputs": [],
   "source": [
    "p = ggplot(aes(x='wt', y='mpg'), data=mtcars) +\\\n",
    "    geom_point() +\\\n",
    "    stat_smooth(color=\"blue\") +\\\n",
    "    xlab(\"Weight (in 1000 lbs)\") + ylab(\"MPG\") +\\\n",
    "    ggtitle(\"1974 Motor Trend Data for 32 Cars (1973â74 models)\")\n",
    "\n",
    "p"
   ]
  },
  {
   "cell_type": "markdown",
   "metadata": {},
   "source": [
    "### `ggplot` example 2: x-y plot with colors and shapes\n",
    "\n",
    "It'll look like:\n",
    "\n",
    "\n",
    "```python\n",
    "ggplot(data, aes(x='x', y='y', color='var1', shape = 'var2')) ...\n",
    "```\n",
    "\n",
    "Where **`color`** with automatically pick colors for the categorical variable `var1` and **`shape`** will auto-pick a shape for the categorical variable `var2`."
   ]
  },
  {
   "cell_type": "code",
   "execution_count": null,
   "metadata": {
    "collapsed": false
   },
   "outputs": [],
   "source": [
    "# peek at data\n",
    "diamonds.head()"
   ]
  },
  {
   "cell_type": "code",
   "execution_count": null,
   "metadata": {
    "collapsed": false
   },
   "outputs": [],
   "source": [
    "# summary stats - remember this from DataAnalysis?  Fill in blank.\n",
    "# diamonds.___(include='all')"
   ]
  },
  {
   "cell_type": "code",
   "execution_count": null,
   "metadata": {
    "collapsed": false
   },
   "outputs": [],
   "source": [
    "# summary stats - remember this from DataAnalysis?  Filled in blank.\n",
    "diamonds.describe(include='all')"
   ]
  },
  {
   "cell_type": "code",
   "execution_count": null,
   "metadata": {
    "collapsed": false
   },
   "outputs": [],
   "source": [
    "# log-log scale for x and y\n",
    "diamonds['carat_log'] = np.log(diamonds['carat'])\n",
    "diamonds['price_log'] = np.log(diamonds['price'])\n",
    "\n",
    "p = ggplot(diamonds, aes(x='carat_log', y='price_log', color='color', shape = 'cut')) +\\\n",
    "    geom_point() +\\\n",
    "    xlab(\"Log Carat\") + ylab(\"Log Price\") +\\\n",
    "    ggtitle(\"Diamonds\")\n",
    "\n",
    "p"
   ]
  },
  {
   "cell_type": "markdown",
   "metadata": {},
   "source": [
    "### `ggplot` example 3: lineplot with colors and variable widths"
   ]
  },
  {
   "cell_type": "code",
   "execution_count": null,
   "metadata": {
    "collapsed": false
   },
   "outputs": [],
   "source": [
    "import seaborn as sbn\n",
    "flights = sbn.load_dataset(\"flights\")\n",
    "\n",
    "flights.head()"
   ]
  },
  {
   "cell_type": "code",
   "execution_count": null,
   "metadata": {
    "collapsed": false
   },
   "outputs": [],
   "source": [
    "from datetime import datetime\n",
    "\n",
    "dates = flights.apply(lambda x:'%s %s %s' % (x['year'], x['month'], 1), axis = 1)\n",
    "\n",
    "dates = dates.apply(lambda x: datetime.strptime(x, '%Y %B %d'))\n",
    "\n",
    "flights['date'] = dates\n",
    "\n",
    "dates.head()"
   ]
  },
  {
   "cell_type": "code",
   "execution_count": null,
   "metadata": {
    "collapsed": false
   },
   "outputs": [],
   "source": [
    "# create a line plot.  Fill in the blank.\n",
    "# p = ggplot(flights, aes('date', 'passengers', color='month')) + ___()\n",
    "# p"
   ]
  },
  {
   "cell_type": "code",
   "execution_count": null,
   "metadata": {
    "collapsed": false
   },
   "outputs": [],
   "source": [
    "import pandas as pd\n",
    "mymonths = ['January', 'April', 'July', 'October']\n",
    "seasons = flights[flights.month.isin(mymonths)].copy()\n",
    "\n",
    "# recategorize the newly formed \"seasons\" dataframe, specifically the month column, \n",
    "#   due to copying over all months from flights\n",
    "seasons.month = pd.Categorical(seasons.month, categories = mymonths)"
   ]
  },
  {
   "cell_type": "code",
   "execution_count": null,
   "metadata": {
    "collapsed": false
   },
   "outputs": [],
   "source": [
    "p = ggplot(seasons, aes(x = 'date', y = 'passengers', color = 'month')) + geom_line()\n",
    "p"
   ]
  },
  {
   "cell_type": "code",
   "execution_count": null,
   "metadata": {
    "collapsed": false
   },
   "outputs": [],
   "source": [
    "p = ggplot(seasons, aes(x = 'date', y = 'passengers', color = 'month')) + geom_line() \\\n",
    "    + scale_color_manual(values = ['lightblue', 'magenta', 'orange', 'darkgreen'])\n",
    "p"
   ]
  },
  {
   "cell_type": "markdown",
   "metadata": {},
   "source": [
    "### `ggplot` example 4:  facetting"
   ]
  },
  {
   "cell_type": "code",
   "execution_count": null,
   "metadata": {
    "collapsed": false
   },
   "outputs": [],
   "source": [
    "import os\n",
    "import pandas as pd\n",
    "from urllib.request import urlopen\n",
    "\n",
    "# titanic dataset\n",
    "url = 'https://raw.githubusercontent.com/ogrisel/parallel_ml_tutorial/master/notebooks/titanic_train.csv'\n",
    "titanic = pd.read_csv(urlopen(url))"
   ]
  },
  {
   "cell_type": "markdown",
   "metadata": {},
   "source": [
    "EXERCISE 3: Explore, continuous to discrete and dummy\n",
    "1.  Check shape and look at first few rows in data\n",
    "*  Use `astype` to convert the 'Survived' column to categorical\n",
    "*  Dummy the 'Sex' column with `pandas` `get_dummies` method like:\n",
    "\n",
    "```python\n",
    "df = pd.get_dummies(data, columns = ['colname'])\n",
    "```\n",
    "\n",
    "Plot the survival classes by gender.  Fill in the blank:\n",
    "\n",
    "```python\n",
    "p = ggplot(titanic, aes(x = ___))\n",
    "p + geom_histogram() + \\\n",
    "    facet_wrap(\"Sex_female\")\n",
    "```"
   ]
  },
  {
   "cell_type": "code",
   "execution_count": null,
   "metadata": {
    "collapsed": true
   },
   "outputs": [],
   "source": [
    "# Code up your solution here..."
   ]
  },
  {
   "cell_type": "markdown",
   "metadata": {},
   "source": [
    "## Additional Resources\n",
    "* More on python's `ggplot` [here](http://ggplot.yhathq.com/) and in this blog [here](http://blog.yhat.com/posts/ggplot-for-python.html)\n",
    "* [`matplotlib` \"artists tutorial\"](http://matplotlib.org/users/artists.html)\n",
    "* Check out some D3-esque plotting with the amazing [plotly](https://plot.ly/python/)"
   ]
  },
  {
   "cell_type": "markdown",
   "metadata": {
    "collapsed": true
   },
   "source": [
    "NB:  Some of the `matplotlib` material is adapted from the Olivier Grisel's 2015 PyCon tutorial:\n",
    "[Olivier's 2015 PyCon sklearn tutorial](https://github.com/ogrisel/parallel_ml_tutorial)\n",
    "(Olivier Grisel: [@ogrisel](https://twitter.com/ogrisel) | http://ogrisel.com)\n"
   ]
  },
  {
   "cell_type": "markdown",
   "metadata": {
    "collapsed": true
   },
   "source": [
    "Created by a Microsoft Employee.\n",
    "\t\n",
    "The MIT License (MIT)<br>\n",
    "Copyright (c) 2016"
   ]
  },
  {
   "cell_type": "code",
   "execution_count": null,
   "metadata": {
    "collapsed": true
   },
   "outputs": [],
   "source": []
  }
 ],
 "metadata": {
  "kernelspec": {
   "display_name": "Python 3",
   "language": "python",
   "name": "python3"
  },
  "language_info": {
   "codemirror_mode": {
    "name": "ipython",
    "version": 3
   },
   "file_extension": ".py",
   "mimetype": "text/x-python",
   "name": "python",
   "nbconvert_exporter": "python",
   "pygments_lexer": "ipython3",
   "version": "3.5.1"
  }
 },
 "nbformat": 4,
 "nbformat_minor": 0
}
