{
 "cells": [
  {
   "cell_type": "markdown",
   "metadata": {},
   "source": [
    "# Object Oriented Programming in Python"
   ]
  },
  {
   "cell_type": "markdown",
   "metadata": {},
   "source": [
    "## <img src='https://az712634.vo.msecnd.net/notebooks/python_course/v1/balance.png' alt=\"Smiley face\" width=\"50\" align=\"left\">Learning Objectives\n",
    "* * *\n",
    "* Gain familiarity with class syntax\n",
    "* Learn how to define and use class methods\n",
    "* Understand public versus private attributes\n",
    "* See how inheritance works with classes in python\n",
    "* See an example of the difference between class attributes and instance attributes"
   ]
  },
  {
   "cell_type": "markdown",
   "metadata": {},
   "source": [
    "### What does a class look like in Python?"
   ]
  },
  {
   "cell_type": "markdown",
   "metadata": {},
   "source": [
    "<b>This is a simple class declaration with a construtor method and two class variables</b>"
   ]
  },
  {
   "cell_type": "code",
   "execution_count": null,
   "metadata": {
    "collapsed": true,
    "scrolled": true
   },
   "outputs": [],
   "source": [
    "class Wallet:\n",
    "    \n",
    "    def __init__(self, owner, cash):\n",
    "        self.owner = owner\n",
    "        self.cash = cash"
   ]
  },
  {
   "cell_type": "markdown",
   "metadata": {},
   "source": [
    "What's going on here?\n",
    "1. We defined a class `Wallet` which (in Python 3 only) automatically inherits from class `object`.  Placing `()` after class name is optional though unless inheriting from a base class other than `object` (yes classes are objects too!)\n",
    "* `__init__` is a special method called <b>after</b> the instance of the class is made (it might be tempting to call it a constructor, but in fact it is not)\n",
    "* `self` must be included in all non-static methods of a class.  It's a handle back to the instance."
   ]
  },
  {
   "cell_type": "code",
   "execution_count": null,
   "metadata": {
    "collapsed": true,
    "scrolled": true
   },
   "outputs": [],
   "source": [
    "# Create an instance of Wallet class (also called instantiating)\n",
    "wallet = Wallet('Tom', 100)"
   ]
  },
  {
   "cell_type": "code",
   "execution_count": null,
   "metadata": {
    "collapsed": false,
    "scrolled": true
   },
   "outputs": [],
   "source": [
    "# Who owns it?\n",
    "print(wallet.owner)"
   ]
  },
  {
   "cell_type": "markdown",
   "metadata": {},
   "source": [
    "<b>What can we do with classes?</b>\n",
    "* define instance methods with `def` syntax from within classes using `self` keyword argument\n",
    "* Inheritence and overridding\n",
    "* Define public, protected and \"private\" instance attributes (private methods are beyond the scope of this training)\n",
    "* Define static methods and class methods for data abstraction and encapsulation\n",
    "* Of note, python has automatic garbage collection so we need not call a destructor method explicitly"
   ]
  },
  {
   "cell_type": "markdown",
   "metadata": {},
   "source": [
    "<b>Let's add some methods to our Wallet class</b>"
   ]
  },
  {
   "cell_type": "code",
   "execution_count": null,
   "metadata": {
    "collapsed": true,
    "scrolled": true
   },
   "outputs": [],
   "source": [
    "class Wallet:\n",
    "    '''The Wallet class holds cash for a owner.'''\n",
    "    \n",
    "    def __init__(self, owner, cash):\n",
    "        self.owner = owner\n",
    "        self.cash = cash\n",
    "        \n",
    "    # Spend method\n",
    "    def spend(self, amount):\n",
    "        '''The spend method removes a given amount of money from the wallet.'''\n",
    "        self.cash -= amount\n",
    "            \n",
    "    # Earn method\n",
    "    def earn(self, amount):\n",
    "        '''The earn method adds a given amount of money to the wallet.'''\n",
    "        self.cash += amount"
   ]
  },
  {
   "cell_type": "markdown",
   "metadata": {},
   "source": [
    "EXERCISE 1:  Amy's Wallet\n",
    "* Create an instance of a wallet for your friend Amy\n",
    "* Let Amy earn some money\n",
    "* Spend some of Amy's money"
   ]
  },
  {
   "cell_type": "code",
   "execution_count": null,
   "metadata": {
    "collapsed": true,
    "scrolled": true
   },
   "outputs": [],
   "source": [
    "# Code up your solution here"
   ]
  },
  {
   "cell_type": "markdown",
   "metadata": {},
   "source": [
    "### Public vs. \"Private\"\n",
    "**Everything in Python is Public!**\n",
    "* Single underscore aka \"under\": `_var` - designates a \"private\" class attribute, but still accessible if need be; purpose: tells other programmers that this attribute is off-limits.\n",
    "* Double underscore aka \"dunder\": `__var` - name mangling; purpose: name collision avoidance in inherited classes\n",
    "* Another double underscore aka \"dunder variant\": `__var__`"
   ]
  },
  {
   "cell_type": "markdown",
   "metadata": {},
   "source": [
    "<b>Let's make the Wallet safer by making `cash` \"private\"</b>\n",
    "* We do this by placing one underscore (\"under\") before the variable name (e.g. `self._var`)\n",
    "* Update the Wallet class here and make `cash` \"private\""
   ]
  },
  {
   "cell_type": "markdown",
   "metadata": {},
   "source": [
    "EXERCISE 2: Making our wallet safer\n",
    "* Modify this code to make `cash` class variable \"private\"\n",
    "* Create a wallet instance and try to access your `cash` instance variable\n",
    "\n",
    "```python\n",
    "# Modify the following to make cash \"private\"\n",
    "class WalletSafe:\n",
    "    '''The Wallet class holds cash for a owner.'''\n",
    "    \n",
    "    def __init__(self, owner, cash):\n",
    "        self.owner = owner\n",
    "        self.cash = cash\n",
    "        \n",
    "    # Spend method\n",
    "    def spend(self, amount):\n",
    "        '''The spend method removes a given amount of money from the wallet.'''\n",
    "        self.cash -= amount\n",
    "            \n",
    "    # Earn method\n",
    "    def earn(self, amount):\n",
    "        '''The earn method adds a given amount of money to the wallet.'''\n",
    "        self.cash += amount\n",
    "```"
   ]
  },
  {
   "cell_type": "code",
   "execution_count": null,
   "metadata": {
    "collapsed": true,
    "scrolled": true
   },
   "outputs": [],
   "source": [
    "# Code up your solution here"
   ]
  },
  {
   "cell_type": "markdown",
   "metadata": {},
   "source": [
    "<b>Getter and setter methods</b>"
   ]
  },
  {
   "cell_type": "code",
   "execution_count": null,
   "metadata": {
    "collapsed": true,
    "scrolled": true
   },
   "outputs": [],
   "source": [
    "class Wallet:\n",
    "    '''The Wallet class holds cash for a owner.'''\n",
    "    \n",
    "    def __init__(self, owner, cash):\n",
    "        self.owner = owner\n",
    "        self._cash = cash\n",
    "        \n",
    "    # Spend method\n",
    "    def spend(self, amount):\n",
    "        '''The spend method removes a given amount of money from the wallet.'''\n",
    "        self._cash -= amount\n",
    "            \n",
    "    # Earn method\n",
    "    def earn(self, amount):\n",
    "        '''The earn method adds a given amount of money to the wallet.'''\n",
    "        self._cash += amount\n",
    "        \n",
    "    # Get amount of cash\n",
    "    def get_cash(self):\n",
    "        '''Returns the amount of cash in the wallet.'''\n",
    "        return self._cash\n"
   ]
  },
  {
   "cell_type": "markdown",
   "metadata": {},
   "source": [
    "EXERCISE 3:  Method for setting `cash` variable\n",
    "* Write a method to set the amount of cash (using the code in the previous cell)\n",
    "* Check that it worked by using your new cash setter method"
   ]
  },
  {
   "cell_type": "code",
   "execution_count": null,
   "metadata": {
    "collapsed": true,
    "scrolled": true
   },
   "outputs": [],
   "source": [
    "# Code up your solution here"
   ]
  },
  {
   "cell_type": "markdown",
   "metadata": {},
   "source": [
    "<b>What happens if we print a Wallet object?</b>"
   ]
  },
  {
   "cell_type": "code",
   "execution_count": null,
   "metadata": {
    "collapsed": false,
    "scrolled": true
   },
   "outputs": [],
   "source": [
    "# Create a Wallet instance and print it...\n"
   ]
  },
  {
   "cell_type": "markdown",
   "metadata": {},
   "source": [
    "<b>Let's add a method to be used by the `print()` function</b>"
   ]
  },
  {
   "cell_type": "code",
   "execution_count": null,
   "metadata": {
    "collapsed": true,
    "scrolled": true
   },
   "outputs": [],
   "source": [
    "class Wallet:\n",
    "    '''The Wallet class holds cash for a owner.'''\n",
    "    \n",
    "    def __init__(self, owner, cash):\n",
    "        self.owner = owner\n",
    "        self._cash = cash\n",
    "        \n",
    "    # Spend method\n",
    "    def spend(self, amount):\n",
    "        '''The spend method removes a given amount of money from the wallet.'''\n",
    "        self._cash -= amount\n",
    "            \n",
    "    # Earn method\n",
    "    def earn(self, amount):\n",
    "        '''The earn method adds a given amount of money to the wallet.'''\n",
    "        self._cash += amount\n",
    "        \n",
    "    # Get amount of cash\n",
    "    def get_cash(self):\n",
    "        '''Returns the amount of cash in the wallet.'''\n",
    "        return self._cash\n",
    "    \n",
    "    # Set amount of cash\n",
    "    def set_cash(self, amount):\n",
    "        '''set_cash will set/reset the amount of cash in the wallet.'''\n",
    "        self._cash = amount\n",
    "        \n",
    "    # For printing\n",
    "    def __str__(self):\n",
    "        return '%s has %.2f dollars their wallet' % (self.owner, self._cash)"
   ]
  },
  {
   "cell_type": "markdown",
   "metadata": {
    "collapsed": false,
    "scrolled": true
   },
   "source": [
    "```python\n",
    "# Given this wallet, try printing it in the cell below\n",
    "wallet = Wallet('Jay', 90)\n",
    "```"
   ]
  },
  {
   "cell_type": "code",
   "execution_count": null,
   "metadata": {
    "collapsed": true
   },
   "outputs": [],
   "source": [
    "# Try here"
   ]
  },
  {
   "cell_type": "markdown",
   "metadata": {},
   "source": [
    "<b>The Pythonic way of getters and setters</b>\n",
    "* Before going down this path, however, first ask yourself \n",
    "  * if a user will even need access to this variable\n",
    "  * if the calculation is easier to access as a property of an attribute\n",
    "  * if it is preferable to have an attribute that no longer exists represented this way\n",
    "* Use the `@property` decorator as the getter in combination with...\n",
    "* `@x.setter` decorator as the setter (most commonly used for checks and/or filters)"
   ]
  },
  {
   "cell_type": "code",
   "execution_count": null,
   "metadata": {
    "collapsed": true,
    "scrolled": true
   },
   "outputs": [],
   "source": [
    "class C:\n",
    "    \n",
    "    def __init__(self, x):\n",
    "        self.x = x\n",
    "        \n",
    "    @property\n",
    "    def x(self):\n",
    "        return self._x\n",
    "    \n",
    "    @x.setter\n",
    "    def x(self, value):\n",
    "        '''Set x to a value not above 100 or below 0.'''\n",
    "        if value > 100:\n",
    "            self._x = 100\n",
    "        elif value < 0:\n",
    "            self._x = 0\n",
    "        else:\n",
    "            self._x = value"
   ]
  },
  {
   "cell_type": "markdown",
   "metadata": {
    "collapsed": true,
    "scrolled": true
   },
   "source": [
    "```python\n",
    "# In a the code cell below this one\n",
    "\n",
    "# Now create an object of class C and try to initialize with a value below 0 or above 100\n",
    "\n",
    "# Replace the blanks by copying and modifying in a code cell below\n",
    "myc = C(___)\n",
    "\n",
    "# Reassign x\n",
    "myc.x = ___ \n",
    "```"
   ]
  },
  {
   "cell_type": "code",
   "execution_count": null,
   "metadata": {
    "collapsed": true
   },
   "outputs": [],
   "source": [
    "# Try here"
   ]
  },
  {
   "cell_type": "markdown",
   "metadata": {
    "collapsed": true
   },
   "source": [
    "### Class inheritance\n",
    "* Classes can inherit from base class(es)\n",
    "* We can override methods\n",
    "* We can use the base class methods within the child class\n",
    "* Let's see an example..."
   ]
  },
  {
   "cell_type": "markdown",
   "metadata": {},
   "source": [
    "<b>BankAccount as base class and Checking as child class</b>\n",
    "* some stuff"
   ]
  },
  {
   "cell_type": "code",
   "execution_count": null,
   "metadata": {
    "collapsed": true,
    "scrolled": true
   },
   "outputs": [],
   "source": [
    "class BankUser:\n",
    "    '''The BankUser holds general information about the owner.'''\n",
    "    \n",
    "    def __init__(self, firstname, lastname, zipcode):\n",
    "        self.firstname = firstname\n",
    "        self.lastname = lastname\n",
    "        self.zipcode = zipcode\n",
    "        \n",
    "class Checking(BankUser):\n",
    "    '''Checking extends BankUser class with some additional functionality.'''\n",
    "    \n",
    "    def __init__(self, accountnum):\n",
    "        self.accountnum = accountnum"
   ]
  },
  {
   "cell_type": "markdown",
   "metadata": {},
   "source": [
    "EXERCISE 4: Working with inheritance\n",
    "\n",
    "Using the code above:\n",
    "* Create an instance of BankUser\n",
    "* Create an instance of Checking\n",
    "* Access first name with BankUser instance\n",
    "* Access first name with Checking instance\n",
    "\n",
    "What happens?"
   ]
  },
  {
   "cell_type": "code",
   "execution_count": null,
   "metadata": {
    "collapsed": true
   },
   "outputs": [],
   "source": [
    "# Code up your solution here"
   ]
  },
  {
   "cell_type": "markdown",
   "metadata": {},
   "source": [
    "<b>Let's rewrite our child class to use the `__init__` of the base class</b>\n",
    "* We will use the `super()` fucntion to call the parent class's `__init__` method"
   ]
  },
  {
   "cell_type": "code",
   "execution_count": null,
   "metadata": {
    "collapsed": true,
    "scrolled": true
   },
   "outputs": [],
   "source": [
    "class BankUser:\n",
    "    '''The BankUser holds general information about the owner.'''\n",
    "    \n",
    "    def __init__(self, firstname, lastname, zipcode):\n",
    "        self.firstname = firstname\n",
    "        self.lastname = lastname\n",
    "        self.zipcode = zipcode\n",
    "        \n",
    "class Checking(BankUser):\n",
    "    '''Checking extends BankUser class with some additional functionality.'''\n",
    "    \n",
    "    def __init__(self, firstname, lastname, zipcode, accountnum):\n",
    "        super().__init__(firstname, lastname, zipcode)\n",
    "        self.accountnum = accountnum"
   ]
  },
  {
   "cell_type": "code",
   "execution_count": null,
   "metadata": {
    "collapsed": false,
    "scrolled": true
   },
   "outputs": [],
   "source": [
    "# Repeat Exercise 4 with new __init__ method"
   ]
  },
  {
   "cell_type": "markdown",
   "metadata": {},
   "source": [
    "### Quick note on class attributes and instance attributes\n",
    "* IMPORTANT: always use immutable types for class attributes\n",
    "* Here `pi` is a <b>class attribute</b> and `radius` is an <b>instance attribute</b>\n",
    "* Class attributes are usually used for constant values"
   ]
  },
  {
   "cell_type": "code",
   "execution_count": null,
   "metadata": {
    "collapsed": true,
    "scrolled": true
   },
   "outputs": [],
   "source": [
    "class Circle:\n",
    "    '''Class to define and do stuff with circles.'''\n",
    "    \n",
    "    # pi is a class attribute\n",
    "    pi = 3.14159\n",
    "\n",
    "    def __init__(self, radius):\n",
    "        # radius is an instance attribute\n",
    "        self.radius = radius\n",
    "\n",
    "    def circum(self):\n",
    "        '''Return the circumference of our circle'''\n",
    "        return 2 * Circle.pi * self.radius"
   ]
  },
  {
   "cell_type": "code",
   "execution_count": null,
   "metadata": {
    "collapsed": false,
    "scrolled": true
   },
   "outputs": [],
   "source": [
    "# Create an instance of class Circle\n",
    "\n",
    "# Find the circumference of our instance\n",
    "\n",
    "# Set the class attribute 'pi' using our instance (e.g. if instance is called C, use C.pi)\n",
    "\n",
    "# Check the class attribute for any changes (do this with Circle.pi i.e. \n",
    "#    use our class name instead of instance)"
   ]
  },
  {
   "cell_type": "markdown",
   "metadata": {},
   "source": [
    "### A couple good decorators to know about\n",
    "* Static methods (not bound to class or instance)\n",
    "* Class methods (bound to class, but not to instance)\n",
    "* When to use these"
   ]
  },
  {
   "cell_type": "markdown",
   "metadata": {},
   "source": [
    "<b>Here's our Circle class again</b>\n",
    "<br>\n",
    "```python\n",
    "class Circle:\n",
    "    '''Class to define and do stuff with circles.'''\n",
    "    \n",
    "    # pi is a class attribute\n",
    "    pi = 3.14159\n",
    "\n",
    "    def __init__(self, radius):\n",
    "        # radius is an instance attribute\n",
    "        self.radius = radius\n",
    "\n",
    "    def circum(self):\n",
    "        '''Return the circumference of our circle'''\n",
    "        return 2 * Circle.pi * self.radius\n",
    "```"
   ]
  },
  {
   "cell_type": "markdown",
   "metadata": {},
   "source": [
    "<b>Let's add a static method</b>\n",
    "* Usually used only within a class as some sort of helper method"
   ]
  },
  {
   "cell_type": "code",
   "execution_count": null,
   "metadata": {
    "collapsed": true,
    "scrolled": true
   },
   "outputs": [],
   "source": [
    "import math\n",
    "\n",
    "class Circle:\n",
    "    '''Class to define and do stuff with circles.'''\n",
    "    \n",
    "    # pi is a class attribute\n",
    "    pi = 3.14159\n",
    "\n",
    "    def __init__(self, radius):\n",
    "        # radius is an instance attribute\n",
    "        self.radius = radius\n",
    "\n",
    "    def circum(self):\n",
    "        '''Return the circumference of our circle'''\n",
    "        return 2 * Circle.pi * self.radius\n",
    "    \n",
    "    @staticmethod\n",
    "    def calc_area(x):\n",
    "        '''I am a static method and am unbound to a class or even an instance.'''\n",
    "        return math.pi * (x**2)"
   ]
  },
  {
   "cell_type": "code",
   "execution_count": null,
   "metadata": {
    "collapsed": false,
    "scrolled": true
   },
   "outputs": [],
   "source": [
    "# Here's an instance\n",
    "c = Circle(10)"
   ]
  },
  {
   "cell_type": "code",
   "execution_count": null,
   "metadata": {
    "collapsed": false,
    "scrolled": true
   },
   "outputs": [],
   "source": [
    "# So, show output of accessing the static method calc_area with the class name and \n",
    "# then with the instance name - Try!\n",
    "\n",
    "\n",
    "# What did you discover?\n"
   ]
  },
  {
   "cell_type": "markdown",
   "metadata": {},
   "source": [
    "<b>Now, let's define a class method</b>\n",
    "* These are used commonly to:\n",
    "  1. Create a class with information from some other object\n",
    "  * Call a class's static method(s) using some attributes not bound to the class"
   ]
  },
  {
   "cell_type": "code",
   "execution_count": null,
   "metadata": {
    "collapsed": true,
    "scrolled": true
   },
   "outputs": [],
   "source": [
    "class Circle:\n",
    "    '''This is a class to define and do stuff with circles.'''\n",
    "    \n",
    "    # pi is a class attribute\n",
    "    pi = 3.14159\n",
    "\n",
    "    def __init__(self, radius):\n",
    "        # radius is an instance attribute\n",
    "        self.radius = radius\n",
    "\n",
    "    def circum(self):\n",
    "        '''Return the circumference of our circle'''\n",
    "        return 2 * Circle.pi * self.radius\n",
    "    \n",
    "    @staticmethod\n",
    "    def calc_area(x):\n",
    "        '''I am a static method and am unbound to a class or even an instance.'''\n",
    "        return Circle.pi * (x**2)\n",
    "    \n",
    "    # This is cool!  Here we have a class method which uses a circle-like\n",
    "    # object to initialize an instance of the Circle class.\n",
    "    @classmethod\n",
    "    def from_pie(cls, pie):\n",
    "        '''This class method initializes a circle using the size/diameter\n",
    "            of a pie object.'''\n",
    "        return cls(pie.get_size() / 2)"
   ]
  },
  {
   "cell_type": "code",
   "execution_count": null,
   "metadata": {
    "collapsed": true,
    "scrolled": true
   },
   "outputs": [],
   "source": [
    "# For an example below, we make a simple little class to define\n",
    "# a delicious baked good (which happens to be round)\n",
    "class Pie:\n",
    "    '''This is a tasty pie class.'''\n",
    "    \n",
    "    def __init__(self, size):\n",
    "        self.size = size\n",
    "    \n",
    "    def get_size(self):\n",
    "        '''This method returns the size (diameter) of the yummy pie.'''\n",
    "        return self.size"
   ]
  },
  {
   "cell_type": "markdown",
   "metadata": {
    "collapsed": true,
    "scrolled": true
   },
   "source": [
    "Take the following code snippets and paste into a cell below, filling in the blanks.\n",
    "```python\n",
    "# Create pie object with some \"size\"\n",
    "pie = Pie(___)\n",
    "\n",
    "# Use our class method in Circle, to create a Circle object from a Pie object\n",
    "c = Circle.from_pie(___)\n",
    "\n",
    "# Explore our circle which was made from a pie\n",
    "\n",
    "# circumference\n",
    "print(c.___())\n",
    "\n",
    "# radius\n",
    "print(c.___)\n",
    "```"
   ]
  },
  {
   "cell_type": "code",
   "execution_count": null,
   "metadata": {
    "collapsed": false,
    "scrolled": true
   },
   "outputs": [],
   "source": [
    "# Try here"
   ]
  },
  {
   "cell_type": "markdown",
   "metadata": {},
   "source": [
    "EXERCISE 5:  Class methods\n",
    "\n",
    "* Create a **class** method to calculate the volumne of a cylinder that might result if we specify the height to the Circle class (add to the above Circle class code).\n",
    "* Hint:  the method might take a circle instance and height for example."
   ]
  },
  {
   "cell_type": "code",
   "execution_count": null,
   "metadata": {
    "collapsed": true,
    "scrolled": true
   },
   "outputs": [],
   "source": [
    "# Code up your solution here"
   ]
  },
  {
   "cell_type": "markdown",
   "metadata": {},
   "source": [
    "---\n",
    "Created by a Microsoft Employee.\n",
    "\t\n",
    "The MIT License (MIT)<br>\n",
    "Copyright (c) 2016"
   ]
  },
  {
   "cell_type": "code",
   "execution_count": null,
   "metadata": {
    "collapsed": true,
    "scrolled": true
   },
   "outputs": [],
   "source": []
  }
 ],
 "metadata": {
  "kernelspec": {
   "display_name": "Python 3",
   "language": "python",
   "name": "python3"
  },
  "language_info": {
   "codemirror_mode": {
    "name": "ipython",
    "version": 3
   },
   "file_extension": ".py",
   "mimetype": "text/x-python",
   "name": "python",
   "nbconvert_exporter": "python",
   "pygments_lexer": "ipython3",
   "version": "3.5.1"
  }
 },
 "nbformat": 4,
 "nbformat_minor": 0
}
