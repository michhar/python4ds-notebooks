{
 "cells": [
  {
   "cell_type": "markdown",
   "metadata": {
    "collapsed": true
   },
   "source": [
    "# Sorting and Pattern Matching"
   ]
  },
  {
   "cell_type": "markdown",
   "metadata": {},
   "source": [
    "## <img src=\"https://az712634.vo.msecnd.net/notebooks/python_course/v1/octopus.png\" alt=\"Smiley face\" width=\"42\" height=\"42\" align=\"left\">Learning Objectives\n",
    "* * *\n",
    "* Become comfortable with sorting (inline or copied) and the options you have\n",
    "* Explore fancy sorting with a built-in or custom function as a \"key\"\n",
    "* Learn ways to search and find patterns with regular expressions\n",
    "* See how to split up strings with regular expressions"
   ]
  },
  {
   "cell_type": "markdown",
   "metadata": {},
   "source": [
    "#### Here are some people's names\n",
    "* How could you imagine wanting to sort them?"
   ]
  },
  {
   "cell_type": "code",
   "execution_count": null,
   "metadata": {
    "collapsed": true
   },
   "outputs": [],
   "source": [
    "people = ['Joshua Richardson', 'Wei Ling', 'Sarah McKearny', 'Matthias Strauch']"
   ]
  },
  {
   "cell_type": "markdown",
   "metadata": {},
   "source": [
    "#### Here are some shoe prices in US dollars\n",
    "* What if you wanted to sort and convert to Euros at the same time?"
   ]
  },
  {
   "cell_type": "code",
   "execution_count": null,
   "metadata": {
    "collapsed": true
   },
   "outputs": [],
   "source": [
    "prices = [134.50, 49.99, 300.00, 12.50, 68.49]"
   ]
  },
  {
   "cell_type": "markdown",
   "metadata": {},
   "source": [
    "### Sorting functions\n",
    "* Inline - no copying with `list.sort()`"
   ]
  },
  {
   "cell_type": "code",
   "execution_count": null,
   "metadata": {
    "collapsed": false
   },
   "outputs": [],
   "source": [
    "# Create a list of 10 random integers\n",
    "import random\n",
    "a = random.sample(range(50), 10)\n",
    "print('a:', a, '\\n')\n",
    "\n",
    "# Inline sorting\n",
    "a.sort()\n",
    "print('inline sorted a:', a, '\\n')"
   ]
  },
  {
   "cell_type": "markdown",
   "metadata": {},
   "source": [
    "**To reverse:**  add `reverse=True` to `sort()` method"
   ]
  },
  {
   "cell_type": "markdown",
   "metadata": {},
   "source": [
    "* Sort and create a copy with `sorted`"
   ]
  },
  {
   "cell_type": "code",
   "execution_count": null,
   "metadata": {
    "collapsed": false
   },
   "outputs": [],
   "source": [
    "# another list of 10 random integers\n",
    "b = random.sample(range(50), 10)\n",
    "print('b:', b)\n",
    "\n",
    "# make a sorted copy of list\n",
    "b_sorted = sorted(b)\n",
    "print('sorted copy of b:', b_sorted)"
   ]
  },
  {
   "cell_type": "markdown",
   "metadata": {
    "collapsed": false
   },
   "source": [
    "Will the following work with inline `sort` and/or copy version `sorted`?\n",
    "```python\n",
    "c = (3, 4, 2, 6, 5)\n",
    "```"
   ]
  },
  {
   "cell_type": "code",
   "execution_count": null,
   "metadata": {
    "collapsed": true
   },
   "outputs": [],
   "source": [
    "# Try here"
   ]
  },
  {
   "cell_type": "markdown",
   "metadata": {},
   "source": [
    "<b>Sorting efficiency</b>\n",
    "* `sort()` is usually faster on lists than `sorted()` as it doesn't create an intermediate list\n",
    "* however, `sort()` method only works on lists whereas `sorted()` works on lists and enumerable collections\n",
    "* use `timeit` magic to do a speed test on your own (modify code above)"
   ]
  },
  {
   "cell_type": "markdown",
   "metadata": {},
   "source": [
    "EXERCISE 1:  Do the following and time each with `%timeit` magic\n",
    "* Create a \"big\" list of random integers (1000+) like below\n",
    "* Create a sorted copy\n",
    "* Sort the list inline\n",
    "* Sort the list inline in reverse order\n",
    "* Convert to a list of floating point numbers (like below)\n",
    "* Sort the float list inline\n",
    "* Sort the float list inline in reverse order\n",
    "---\n",
    "NB:  Must do a \"deep copy\" of original list before applying an inline fuction.  e.g. \n",
    "```python\n",
    "test = a.copy()\n",
    "```\n",
    "The list and float conversion:\n",
    "```python\n",
    "a = random.sample(range(10000), 1000)\n",
    "\n",
    "# converted to float list\n",
    "b = [float(x) for x in a]\n",
    "```\n",
    "\n",
    "Which of the above operations are fastest/slowest and why?"
   ]
  },
  {
   "cell_type": "code",
   "execution_count": null,
   "metadata": {
    "collapsed": true
   },
   "outputs": [],
   "source": [
    "# Try your solution here"
   ]
  },
  {
   "cell_type": "markdown",
   "metadata": {
    "collapsed": true
   },
   "source": [
    "**Adding a *function* to the sorting process**\n",
    "You can\n",
    "* sort by built-in functions\n",
    "* sort by custom functions\n"
   ]
  },
  {
   "cell_type": "code",
   "execution_count": null,
   "metadata": {
    "collapsed": true
   },
   "outputs": [],
   "source": [
    "people = ['Joshua Richardson', 'Wei Ling', 'Sarah McKearny', 'Matthias Strauch']"
   ]
  },
  {
   "cell_type": "markdown",
   "metadata": {},
   "source": [
    "Let's sort `people` from above by last name"
   ]
  },
  {
   "cell_type": "code",
   "execution_count": null,
   "metadata": {
    "collapsed": false
   },
   "outputs": [],
   "source": [
    "# Our function (anonymous one here)\n",
    "func = lambda s: s.split()[1]\n",
    "    \n",
    "func(people[0])"
   ]
  },
  {
   "cell_type": "code",
   "execution_count": null,
   "metadata": {
    "collapsed": false
   },
   "outputs": [],
   "source": [
    "sorted(people, key = func) # does not modify the original"
   ]
  },
  {
   "cell_type": "markdown",
   "metadata": {
    "collapsed": false
   },
   "source": [
    "```python\n",
    "# Does this work for the inline \"sort\" method?\n",
    "___.sort(key = ___)\n",
    "```\n",
    "Copy and fill in blanks below."
   ]
  },
  {
   "cell_type": "code",
   "execution_count": null,
   "metadata": {
    "collapsed": true
   },
   "outputs": [],
   "source": [
    "# Try your solution here"
   ]
  },
  {
   "cell_type": "markdown",
   "metadata": {},
   "source": [
    "EXERCISE 2: Sort a list of random integers by their value on the sin curve\n",
    "\n",
    "```python\n",
    "import math\n",
    "import random\n",
    "\n",
    "# HINT: create an anonymous function\n",
    "#  math.sin(x) is the conversion function\n",
    "\n",
    "a = random.sample(range(25, 50), 10)\n",
    "```"
   ]
  },
  {
   "cell_type": "code",
   "execution_count": null,
   "metadata": {
    "collapsed": true
   },
   "outputs": [],
   "source": [
    "# Try your solution here"
   ]
  },
  {
   "cell_type": "markdown",
   "metadata": {},
   "source": [
    "<b>Behind the scenes of the `sorted()` function with a key</b>\n",
    "* when using a key, `sorted()` creates an intermediate list or proxy"
   ]
  },
  {
   "cell_type": "markdown",
   "metadata": {},
   "source": [
    "### The `re` module\n",
    "* Most letters and characters match themselves, e.g. `super` will only match 'super' in a case-sensitive manner (we can make it case-insensitive though with an optional argument)\n",
    "* `re` module gives us the power to search and match specific patterns in strings\n",
    "* `re` gives us functions to find all occurences or iterate over all matches\n",
    "* `re` allows us to split strings and substitute based on patterns"
   ]
  },
  {
   "cell_type": "markdown",
   "metadata": {},
   "source": [
    "<b>Regular expressions in Python</b>\n",
    "* These are the characters (called metacharacters) which have special meaning in Python regex: \n",
    "`. ^ $ * + ? { } [ ] \\ | ( )`\n",
    "* regex basics are not going to be covered here (please reference https://docs.python.org/3/howto/regex.html for a Python regex howto)\n",
    "<p></p>\n",
    "* Here are examples of using regex with functions and methods in `re` module:"
   ]
  },
  {
   "cell_type": "code",
   "execution_count": null,
   "metadata": {
    "collapsed": false
   },
   "outputs": [],
   "source": [
    "import re\n",
    "\n",
    "# match() finds first occurence of compiled pattern and returns a match object\n",
    "p = re.compile('[A-z][a-z]')\n",
    "m = p.match('AaAa')\n",
    "print(m.group())\n",
    "\n",
    "# search() includes the regex AND search string and returns a match object\n",
    "s = re.search('[A-Z][a-z]', 'AaAa')\n",
    "print(s.group())\n",
    "\n",
    "# findall() includes the regex AND search string and returns a list of all matches\n",
    "f = re.findall('[A-z][a-z]', 'AaAa')\n",
    "print(f)\n",
    "\n",
    "# print(f.index('Aa'))\n",
    "\n",
    "# finditer() includes the regex AND search string and returns an iterable with all matches\n",
    "i = re.finditer('[A-z][a-z]', 'AaAa')\n",
    "for x in i:\n",
    "    print((x.group(), x.span()))"
   ]
  },
  {
   "cell_type": "markdown",
   "metadata": {},
   "source": [
    "EXERCISE 3:  A small one surrounded by three body guards on either side\n",
    "\n",
    "---\n",
    "Using the following text and the `re` module, find all sets of letters that match this pattern: three upper case, one lower case, and three more uppercase letters consecutively (e.g.  ABCdEFG).  Then print all the \"small ones\" (middle lowercase letters).  What does it say?\n",
    "\n",
    "```python\n",
    "text = \"kAewtloIKHbWJZNhHVGxXDiQmzjfcpYbzRPBoLPDSmUbCunkfxZWDZoUZMiGqhRRiUvGmYmvnJIHEmbTMUKLECKdCthezSYBpIEl\"\n",
    "```\n",
    "\n",
    "Hint:  A *regex* could look like: `[A-Z][a-z][A-Z]` to match `AbC`"
   ]
  },
  {
   "cell_type": "code",
   "execution_count": null,
   "metadata": {
    "collapsed": true
   },
   "outputs": [],
   "source": [
    "# Try your solution here"
   ]
  },
  {
   "cell_type": "markdown",
   "metadata": {},
   "source": [
    "<b>Note about regex with backslashes</b>\n",
    "* When trying to match a '\\' using a string literal as the pattern, we must use '\\\\\\\\'\n",
    "* This is where raw strings come in handy making the search for '\\' into the pattern '\\\\'\n",
    "* The output from matching, searching and finding is still a string literal\n",
    "* Take this example below where we search for sections in a latex document"
   ]
  },
  {
   "cell_type": "code",
   "execution_count": null,
   "metadata": {
    "collapsed": false
   },
   "outputs": [],
   "source": [
    "# Here's a bit of latex\n",
    "latex = \"\"\"\\section{Introduction}\n",
    "Make it possible for all to write documents with \\LaTeX{}!\n",
    "\n",
    "\\subsection{more introduction}\n",
    "Go more in detail \\ldots\n",
    "\n",
    "\\subsubsection{even more introduction}\n",
    "come to the point \\ldots\n",
    "\n",
    "\\paragraph{Paragraphs}\n",
    "A paragraph is small but \n",
    "\n",
    "\\subparagraph{Subparagraphs}\n",
    "subparagraphs are smaller! \n",
    "\n",
    "\\paragraph{Outline}\n",
    "First we start with a little example of the article class, which is an \n",
    "important documentclass. But there would be other documentclasses like \n",
    "book \\ref{book}, report \\ref{report} and letter \\ref{letter} which are \n",
    "described in Section \\ref{documentclasses}. Finally, Section \n",
    "\\ref{conclusions} gives the conclusions.\n",
    "\n",
    "\n",
    "\n",
    "\\section{Documentclasses} \\label{documentclasses}\"\"\"\n",
    "\n",
    "# Find section using a string literal\n",
    "literal = '\\\\\\\\section'\n",
    "found1 = re.findall(literal, latex)\n",
    "print(found1)\n",
    "\n",
    "# Find section using a raw string (preface with 'r')\n",
    "raw = r'\\\\section'\n",
    "found2 = re.findall(raw, latex)\n",
    "print(found2)"
   ]
  },
  {
   "cell_type": "markdown",
   "metadata": {},
   "source": [
    "<b>Spliting</b>\n",
    "* `split()` method splits a string by applying a compiled pattern (like we do with `match()`)\n",
    "* It has an optional second argument (maxsplit) which will limit the number of splits starting at the beginning of the input string"
   ]
  },
  {
   "cell_type": "code",
   "execution_count": null,
   "metadata": {
    "collapsed": false
   },
   "outputs": [],
   "source": [
    "text = 'Happy 15th Birthday!  You are 15 going on 30.'\n",
    "\n",
    "# Create pattern which recognizes digits\n",
    "p = re.compile('\\d+')\n",
    "\n",
    "# Use split method on pattern with string as argument\n",
    "words = p.split(text)\n",
    "print(words)\n",
    "\n",
    "# Now we can use the string.format method to reconstruct a new string\n",
    "newwish = '{}60{}60{}30{}'.format(words[0], words[1], words[2], words[3])\n",
    "print(newwish)"
   ]
  },
  {
   "cell_type": "code",
   "execution_count": null,
   "metadata": {
    "collapsed": false
   },
   "outputs": [],
   "source": [
    "# Example of using maxplit with split()\n",
    "text = 'grabxxfirstxthreexxxandxherexxxxisxxrest'\n",
    "p = re.compile('x+')\n",
    "p.split(text, maxsplit = 3)"
   ]
  },
  {
   "cell_type": "markdown",
   "metadata": {},
   "source": [
    "EXERCISE 4: Phonebook\n",
    "* using `split()` use the following text\n",
    "<pre><code>\"\"\"Steve Martin: 310.222.3333 400 Holly Ave\n",
    "<p></p>\n",
    "Sandra Bullock: 512.456.1789 200 52nd St\n",
    "Tommy-Lee Jones: 210.555.7777 321 Calahan Rd\"\"\"</code></pre>\n",
    "<p>to create a list of dictionaries similar to this one:</p>\n",
    "```python\n",
    "{'Bullock': {'address': '200 52nd St',\n",
    "  'first': 'Sandra',\n",
    "  'last': 'Bullock',\n",
    "  'phone': '512.456.1789'},\n",
    " 'Jones': {'address': '321 Calahan Rd',\n",
    "  'first': 'Tommy-Lee',\n",
    "  'last': 'Jones',\n",
    "  'phone': '210.555.7777'},\n",
    " 'Martin': {'address': '400 Holly Ave',\n",
    "  'first': 'Steve',\n",
    "  'last': 'Martin',\n",
    "  'phone': '310.222.3333'}}\n",
    "```\n",
    "\n",
    "e.g.\n",
    "\n",
    "```python\n",
    "# Split on new lines\n",
    "entries = re.split('\\n', text)\n",
    "\n",
    "# A bit fancier split - parses a string by ':' or space up to 3 splits\n",
    "re.split(\":? \", entry, 3)\n",
    "```"
   ]
  },
  {
   "cell_type": "code",
   "execution_count": null,
   "metadata": {
    "collapsed": true
   },
   "outputs": [],
   "source": [
    "# Try your solution here"
   ]
  },
  {
   "cell_type": "markdown",
   "metadata": {},
   "source": [
    "---\n",
    "Created by a Microsoft Employee.\n",
    "\t\n",
    "The MIT License (MIT)<br>\n",
    "Copyright (c) 2016"
   ]
  },
  {
   "cell_type": "code",
   "execution_count": null,
   "metadata": {
    "collapsed": true
   },
   "outputs": [],
   "source": []
  }
 ],
 "metadata": {
  "kernelspec": {
   "display_name": "Python 3",
   "language": "python",
   "name": "python3"
  },
  "language_info": {
   "codemirror_mode": {
    "name": "ipython",
    "version": 3
   },
   "file_extension": ".py",
   "mimetype": "text/x-python",
   "name": "python",
   "nbconvert_exporter": "python",
   "pygments_lexer": "ipython3",
   "version": "3.5.1"
  }
 },
 "nbformat": 4,
 "nbformat_minor": 0
}
